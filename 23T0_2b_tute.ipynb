{
  "nbformat": 4,
  "nbformat_minor": 0,
  "metadata": {
    "colab": {
      "provenance": [],
      "include_colab_link": true
    },
    "kernelspec": {
      "name": "python3",
      "display_name": "Python 3"
    },
    "language_info": {
      "name": "python"
    }
  },
  "cells": [
    {
      "cell_type": "markdown",
      "metadata": {
        "id": "view-in-github",
        "colab_type": "text"
      },
      "source": [
        "<a href=\"https://colab.research.google.com/github/sim-mautner/cs1010/blob/main/23T0_2b_tute.ipynb\" target=\"_parent\"><img src=\"https://colab.research.google.com/assets/colab-badge.svg\" alt=\"Open In Colab\"/></a>"
      ]
    },
    {
      "cell_type": "markdown",
      "metadata": {
        "id": "isdUfdAwJLVt"
      },
      "source": [
        "# Tutorial 2b"
      ]
    },
    {
      "cell_type": "markdown",
      "metadata": {
        "id": "YHwXk6d8rrsk"
      },
      "source": [
        "## Project Ideas\n",
        "\n",
        "Consider this project idea:\n",
        "\n",
        "> In 2020 the sale of face masks increased drastically. However, with the wide variety of face shapes and the desire of many to look fashionable, not everyone wants to wear the same face mask. A website where people could upload a picture of themselves and virtually try on different face masks could be helpful to many potential mask shoppers.\n",
        "\n",
        "Supposing someone were to do this for the project:\n",
        "\n",
        "1. What would be a good demonstration of feasibility for the proposal?\n",
        "2. What would the MVP of such a website be?\n",
        "3. What would some \"nice to have\" features be?\n",
        "4. What about stretch goals?"
      ]
    },
    {
      "cell_type": "markdown",
      "metadata": {
        "id": "jTwfRcjJNil_"
      },
      "source": [
        "## Flask"
      ]
    },
    {
      "cell_type": "markdown",
      "source": [
        "### Part A:\n",
        "\n",
        "Write two versions of a function months_of_the_year which takes in a number and returns the name of the month. (Eg 1 --> \"January\"). The first version should use if statements and no lists. The second should use a list, and no if statements."
      ],
      "metadata": {
        "id": "6RRmKKsB3Qfl"
      }
    },
    {
      "cell_type": "code",
      "source": [],
      "metadata": {
        "id": "_fRtz4KAt2NG"
      },
      "execution_count": null,
      "outputs": []
    },
    {
      "cell_type": "markdown",
      "source": [
        "Turn our code from the  example into a web application.\n",
        "\n",
        "The user should be presented with a form to fill in. When they enter a number, the website will tell them which month that number represents."
      ],
      "metadata": {
        "id": "fUchsG7Nt2mX"
      }
    },
    {
      "cell_type": "markdown",
      "source": [
        "\n",
        "### Part B:\n",
        "\n",
        "Discuss (and implement) features which make the website more usable.\n",
        "\n",
        "Consider:\n",
        "* Are the elements of your website in a familiar order?\n",
        "* How easy is it to make a mistake in entering the data?\n",
        "* If the user makes a mistake, how easy is it to understand the mistake they made and recover from it?"
      ],
      "metadata": {
        "id": "ArLz_p-D4Oyf"
      }
    },
    {
      "cell_type": "markdown",
      "source": [
        "\n",
        "### Part C:\n",
        "\n",
        "(Extra practice if you have time. The function itself is easy. It's good practice to write it as a function. Putting it into a simple web app is the interesting part.)\n",
        "\n",
        "Before I (Sim) start to lecture, there are some things I do to get ready. Because my bed is in the background of my video, I like to make sure my bed is made. I also like to ensure I have a bottle of water on my desk. Despite my best efforts, sometimes I run late and don't have time to do these things before the lecture starts.\n",
        "\n",
        "Write a function ready_to_lecture which takes in 3 boolean values:\n",
        "* `on_time`: True if I'm on time for the lecture, False if I'm running late.\n",
        "* `bed_made`: True if my bed is already made, False if it isn't.\n",
        "* `water_ready`: True if I have my bottle of water ready at my desk, False if not.\n",
        "\n",
        "The function should then return one of the following strings, based on the inputs:\n",
        "* \"Ready to lecture.\": If my bed is made and water ready.\n",
        "* \"Make your bed.\": If I'm otherwise on time, but my bed is not made.\n",
        "* \"Get your water.\": If I'm otherwise on time, but I don't have my water ready.\n",
        "* \"You're out of time. Go lecture anyway.\": If I'm not ready (with my bed made and water at my desk) but I'm not on time so don't have time to do those things."
      ],
      "metadata": {
        "id": "w9-wnz_u4P_e"
      }
    },
    {
      "cell_type": "code",
      "source": [],
      "metadata": {
        "id": "ANc4EFi9ul_F"
      },
      "execution_count": null,
      "outputs": []
    },
    {
      "cell_type": "markdown",
      "source": [
        "Now implement a web app which would allow me (the user) to enter whether or not I'm on time, whether or not my bed is made, and whether or not my water is ready, and then display the appropriate instruction for what I should do next (given the function you wrote above)."
      ],
      "metadata": {
        "id": "ovWy3P0DvFHv"
      }
    }
  ]
}