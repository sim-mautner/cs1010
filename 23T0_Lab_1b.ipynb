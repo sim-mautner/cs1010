{
  "nbformat": 4,
  "nbformat_minor": 0,
  "metadata": {
    "colab": {
      "provenance": [],
      "collapsed_sections": [
        "x31-PYOoqL8X",
        "GGPcdTyaEbeq",
        "as11KCGbEbes",
        "eBfcPYAnhiMV",
        "HvHv_2PEh6nN",
        "cVDWfgkuMM7F"
      ],
      "toc_visible": true,
      "include_colab_link": true
    },
    "kernelspec": {
      "name": "python3",
      "display_name": "Python 3"
    },
    "language_info": {
      "name": "python"
    }
  },
  "cells": [
    {
      "cell_type": "markdown",
      "metadata": {
        "id": "view-in-github",
        "colab_type": "text"
      },
      "source": [
        "<a href=\"https://colab.research.google.com/github/sim-mautner/cs1010/blob/main/23T0_Lab_1b.ipynb\" target=\"_parent\"><img src=\"https://colab.research.google.com/assets/colab-badge.svg\" alt=\"Open In Colab\"/></a>"
      ]
    },
    {
      "cell_type": "markdown",
      "source": [
        "Week 1b Total Marks: (currently 5, but will likely be changed in the near future)"
      ],
      "metadata": {
        "id": "D5iWzPsK550W"
      }
    },
    {
      "cell_type": "markdown",
      "source": [
        "## 1. Variables, Prints, Inputs and Types (0.3 mark)\n",
        "Edit the following code so that it prints out the sum of the first two numbers, the third input added to 100 and the third input as an int. Do not edit the last two lines\n",
        "\n",
        "EXAMPLE:\n",
        "\n",
        "```\n",
        "What is your first number? 5\n",
        "What is your second number? 6\n",
        "What is your third number? 7\n",
        "the sum of the first two numbers is:  11\n",
        "after adding 100 to the third input, it becomes 107\n",
        "the third input is a  <class 'int'>\n",
        "```\n",
        "\n",
        "\n"
      ],
      "metadata": {
        "id": "x31-PYOoqL8X"
      }
    },
    {
      "cell_type": "code",
      "source": [
        "first = input(\"What is your first number? \")\n",
        "seconb = input(\"What is your second number? \")\n",
        "third = input(\"What is your third number? \")\n",
        "\n",
        "print(\"the sum of the first two numbers is: \", first + second)\n",
        "int(third) + 100\n",
        "print(\"the third number + 100 is\", third)\n",
        "print(\"the third input is a \", type(third))"
      ],
      "metadata": {
        "id": "Lgr-Jelgq3Ck"
      },
      "execution_count": null,
      "outputs": []
    },
    {
      "cell_type": "markdown",
      "metadata": {
        "id": "GGPcdTyaEbeq"
      },
      "source": [
        "## 2. String manipulation (0.7 mark)\n",
        "Given the following string:"
      ]
    },
    {
      "cell_type": "code",
      "metadata": {
        "id": "X7M-IIW0Ebeq"
      },
      "source": [
        "famous_quote = \"Not everyone can become a great artist, but a great artist can come from anywhere.\""
      ],
      "execution_count": null,
      "outputs": []
    },
    {
      "cell_type": "markdown",
      "metadata": {
        "id": "z426iOSDEbeq"
      },
      "source": [
        "**Write python code in the cells provided to answer the following questions.**"
      ]
    },
    {
      "cell_type": "markdown",
      "metadata": {
        "id": "kSEPwh9MEbeq"
      },
      "source": [
        "(0.1 Marks)\n",
        "You are asked to find the 19th character in this string. You know that all letters, spaces and punctuation are considered characters. You think to yourself, \"There are two possible interpretations to this question.\" \n",
        "\n",
        "Hint: Think about how a computer starts counting vs how a human starts counting\n"
      ]
    },
    {
      "cell_type": "code",
      "metadata": {
        "id": "ZFH0ipiQEbeq"
      },
      "source": [
        "# Interpretation 1"
      ],
      "execution_count": null,
      "outputs": []
    },
    {
      "cell_type": "code",
      "metadata": {
        "id": "v4m7iEMo4IOg"
      },
      "source": [
        "# Interpretation 2"
      ],
      "execution_count": null,
      "outputs": []
    },
    {
      "cell_type": "markdown",
      "metadata": {
        "id": "U7UAICH24Jbi"
      },
      "source": [
        "(0.1 Marks) Write an explanation why these are two possible correct interpretations to the same question."
      ]
    },
    {
      "cell_type": "markdown",
      "metadata": {
        "id": "ve5lsw0M4O7x"
      },
      "source": [
        "Put your explanation here:"
      ]
    },
    {
      "cell_type": "code",
      "source": [],
      "metadata": {
        "id": "ZW6BKqyBwl8H"
      },
      "execution_count": null,
      "outputs": []
    },
    {
      "cell_type": "markdown",
      "metadata": {
        "id": "yFfJCh4TEber"
      },
      "source": [
        "(0.1 Marks) Use an in-built function to find out how many characters there are in the string below (including all spaces and punctuation)?"
      ]
    },
    {
      "cell_type": "code",
      "metadata": {
        "id": "9QljTirjEber"
      },
      "source": [
        "famous_quote = \"Not everyone can become a great artist, but a great artist can come from anywhere.\"\n",
        "\n",
        "#type code here"
      ],
      "execution_count": null,
      "outputs": []
    },
    {
      "cell_type": "markdown",
      "metadata": {
        "id": "c5NSqhaUEbes"
      },
      "source": [
        "(0.2 Marks) Use a string method as well as your previous answer to figure out how many characters are in the string (**not** including spaces, full stops or commas)\n",
        "\n",
        "**HINT:** Think how you might calculate the number of spaces, full stops or commas in the string first."
      ]
    },
    {
      "cell_type": "code",
      "source": [
        "famous_quote = \"Not everyone can become a great artist, but a great artist can come from anywhere.\"\n",
        "\n",
        "#type code here"
      ],
      "metadata": {
        "id": "_WHHudbVw0c8"
      },
      "execution_count": null,
      "outputs": []
    },
    {
      "cell_type": "markdown",
      "metadata": {
        "id": "lWxPjSwiEbes"
      },
      "source": [
        "(0.2 Marks) Use in-built functions/methods to convert the string to be upper-case with full stops replaced by exclamation marks"
      ]
    },
    {
      "cell_type": "code",
      "source": [
        "famous_quote = \"Not everyone can become a great artist, but a great artist can come from anywhere.\"\n",
        "\n",
        "#type code here\n",
        "print(famous_quote)"
      ],
      "metadata": {
        "id": "myYPRLp-xZmq",
        "colab": {
          "base_uri": "https://localhost:8080/"
        },
        "outputId": "c4497e1e-d4de-4bfb-efaa-c5e412667bbb"
      },
      "execution_count": null,
      "outputs": [
        {
          "output_type": "stream",
          "name": "stdout",
          "text": [
            "Not everyone can become a great artist, but a great artist can come from anywhere.\n"
          ]
        }
      ]
    },
    {
      "cell_type": "markdown",
      "metadata": {
        "id": "as11KCGbEbes"
      },
      "source": [
        "## 3. Pattern generation (0.7 mark)"
      ]
    },
    {
      "cell_type": "markdown",
      "metadata": {
        "id": "cA7Pb1iEEbet"
      },
      "source": [
        "(0.1 Marks) Write code that produces the following string, minimising repetition as much as possible.\n",
        "```\n",
        "++++-----~~~~~~~~~\n",
        "```"
      ]
    },
    {
      "cell_type": "code",
      "metadata": {
        "id": "xyZc1rDREbet"
      },
      "source": [
        "#type code here"
      ],
      "execution_count": null,
      "outputs": []
    },
    {
      "cell_type": "markdown",
      "metadata": {
        "id": "80Rcr7stEbet"
      },
      "source": [
        "(0.2 Marks) Write code that produces the following string, minimising repetition as much as possible. \n",
        "Requirements: Use one loop\n",
        "```\n",
        "0\n",
        "*1*\n",
        "5\n",
        "*2*\n",
        "10\n",
        "*3*\n",
        "15\n",
        "*4*\n",
        "20\n",
        "*5*\n",
        "25\n",
        "*6*\n",
        "```"
      ]
    },
    {
      "cell_type": "code",
      "metadata": {
        "id": "_8_paK8cuRaD"
      },
      "source": [
        "#type code here"
      ],
      "execution_count": null,
      "outputs": []
    },
    {
      "cell_type": "markdown",
      "source": [
        "(0.4 Marks) Write code that produces the following pattern, minimising repetition as much as possible. \n",
        "\n",
        "Requirements: Use a loop\n",
        "\n",
        "Hint: Use two loops\n",
        "(this is a 10 x 7 grid)\n",
        "```\n",
        "**********\n",
        "**********\n",
        "**********\n",
        "**********\n",
        "**********\n",
        "**********\n",
        "**********\n",
        "```\n"
      ],
      "metadata": {
        "id": "aid2tyflmmlp"
      }
    },
    {
      "cell_type": "code",
      "source": [
        "#type code here"
      ],
      "metadata": {
        "id": "5qDtBx21ocqf"
      },
      "execution_count": null,
      "outputs": []
    },
    {
      "cell_type": "markdown",
      "metadata": {
        "id": "eBfcPYAnhiMV"
      },
      "source": [
        "## 4. Lists (0.5 marks)\n",
        "\n",
        "Like with strings, Python features many operations that can be performed on lists. These include:\n",
        "\n",
        "* Concatenating (joining together) them with `+`\n",
        "* Replicating (repeating) them with `*`\n",
        "* Indexing them with `[...]`\n",
        "\n",
        "Use these operations on the following list to answer the questions below. They can all be solved **without** loops.\n",
        "\n",
        "Note make sure to re initialise the students list below after changes to the list. (rerun the below line of code)"
      ]
    },
    {
      "cell_type": "code",
      "metadata": {
        "id": "wZLuLAR2hjKI"
      },
      "source": [
        "students = [\"Sally Studies\", \"Penelope Prepares\", \"Francis Forgets\", \"David Doesn't-Read-Spec\", \"Oliver Overconfident\", \"Larry Leaves-It-To-The-Last-Minute\"]"
      ],
      "execution_count": null,
      "outputs": []
    },
    {
      "cell_type": "markdown",
      "metadata": {
        "id": "UifJl-Dzhnf1"
      },
      "source": [
        "(0.1 Marks) Who is the student at index 2?"
      ]
    },
    {
      "cell_type": "code",
      "metadata": {
        "id": "kXBIqQx-hrG1"
      },
      "source": [
        "# add your code here"
      ],
      "execution_count": null,
      "outputs": []
    },
    {
      "cell_type": "markdown",
      "metadata": {
        "id": "tCndk72YhpLN"
      },
      "source": [
        "(0.1 Marks) Replace \"David Doesn't-Read-Spec\" with a new student \"Emily Eager\"."
      ]
    },
    {
      "cell_type": "code",
      "metadata": {
        "id": "59zdlvTHhvj9"
      },
      "source": [
        "# add your code here"
      ],
      "execution_count": null,
      "outputs": []
    },
    {
      "cell_type": "markdown",
      "source": [
        "(0.1 Marks) Add a new student \"Aurora Sleeps\" onto the end of the list"
      ],
      "metadata": {
        "id": "F021CrCOvaJW"
      }
    },
    {
      "cell_type": "code",
      "source": [
        "# add your code here"
      ],
      "metadata": {
        "id": "Ja74P969xcMW"
      },
      "execution_count": null,
      "outputs": []
    },
    {
      "cell_type": "markdown",
      "metadata": {
        "id": "ZnxPCSZ3hvEW"
      },
      "source": [
        "(0.2 Marks) Create a new list with just the first two students repeated 2 times (i.e. `[\"Sally Studies\", \"Penelope Prepares\", \"Sally Studies\", \"Penelope Prepares\"]`)."
      ]
    },
    {
      "cell_type": "code",
      "metadata": {
        "id": "tB_tPkDBhzjP"
      },
      "source": [
        "# add your code here"
      ],
      "execution_count": null,
      "outputs": []
    },
    {
      "cell_type": "markdown",
      "metadata": {
        "id": "HvHv_2PEh6nN"
      },
      "source": [
        "## 5. For Loops (0.8 marks)"
      ]
    },
    {
      "cell_type": "markdown",
      "metadata": {
        "id": "HuGCNdH_h7ds"
      },
      "source": [
        "(0.2 Marks) Write a `for... in...` loop to join all the words in the given list together into a single string (i.e. \"correcthorsebatterystaple\").\n",
        "Requirement: do not use a while loop"
      ]
    },
    {
      "cell_type": "code",
      "metadata": {
        "id": "ybYorYV5znI4"
      },
      "source": [
        "the_list = [\"correct\", \"horse\", \"battery\", \"staple\"]\n",
        "# add your code here"
      ],
      "execution_count": null,
      "outputs": []
    },
    {
      "cell_type": "markdown",
      "metadata": {
        "id": "hUIGlA6Gh_hv"
      },
      "source": [
        "(0.3 Marks) Write a for loop to calculate and print $2a + e$ where $a$ is the number of times the letter \"a\" appears in all the words and $e$ is the number of times the letter \"e\" occurs given any input\n",
        "\n",
        "Requirement: do not use a while loop\n",
        "\n",
        "Example:\n",
        "Input: \"correct horse battery staple\"\n",
        "Output: 8"
      ]
    },
    {
      "cell_type": "code",
      "metadata": {
        "id": "AbRKqgB6ziWd"
      },
      "source": [
        "the_string = input(\"enter your string here: \")\n",
        "# do not edit above\n",
        "# add your code here"
      ],
      "execution_count": null,
      "outputs": []
    },
    {
      "cell_type": "markdown",
      "metadata": {
        "id": "oRrzAEktiBP8"
      },
      "source": [
        "(0.3 Marks) Write a program which uses a for loop to compute and print the sum of all the numbers in the given list excluding any that are 13 or greater. You have been provided a sample list below which should print 37\n",
        "\n",
        "Requirement: do not use a while loop"
      ]
    },
    {
      "cell_type": "code",
      "metadata": {
        "id": "BP2c3kCuiIKk"
      },
      "source": [
        "sample_list = [4 , 7 , 2, 13, 3, 5, 4, 12, 14]\n",
        "# add your code here"
      ],
      "execution_count": null,
      "outputs": []
    },
    {
      "cell_type": "markdown",
      "metadata": {
        "id": "cVDWfgkuMM7F"
      },
      "source": [
        "## 6. While loops (0.5 mark)\n",
        "\n",
        "(0.5 Marks) Write a program that prints all the positive *odd* numbers less than `n` with a `while` loop.\n",
        "\n",
        "Requirement: Do not use a for loop "
      ]
    },
    {
      "cell_type": "code",
      "metadata": {
        "id": "SNKmhCo5MM7F"
      },
      "source": [
        "n = input(\"enter the value for n: \")\n",
        "# do not edit this code above\n",
        "# add your code below"
      ],
      "execution_count": null,
      "outputs": []
    },
    {
      "cell_type": "markdown",
      "metadata": {
        "id": "v1fEuk0x8JO5"
      },
      "source": [
        "## 7. Loops and Conditionals (1.5 marks)"
      ]
    },
    {
      "cell_type": "markdown",
      "metadata": {
        "id": "vWu_722c8UKl"
      },
      "source": [
        "### Vowel Counting (Implementation)\n",
        "\n",
        "(0.5 Marks) Write a program that counts the total number of vowels (irregardless of capitalisation) in a given string and prints the total number of vowels.\n",
        "Requirements: There may only be 5 if conditions maximum.\n",
        "```\n",
        "i.e \n",
        "  if x == 'a':\n",
        "  elif x == 'b':\n",
        "is 2 conditions \n",
        "  if x == 'a' or x == 'b':\n",
        "is also 2 conditions\n",
        "  if x == 'a' and y == 'b':\n",
        "  elif x == 'c':\n",
        "is 3 conditions\n",
        "```\n",
        "\n"
      ]
    },
    {
      "cell_type": "code",
      "metadata": {
        "id": "9L3hXyep8foW"
      },
      "source": [
        "text = input(\"enter your string here: \")\n",
        "# add your code here"
      ],
      "execution_count": null,
      "outputs": []
    },
    {
      "cell_type": "markdown",
      "metadata": {
        "id": "O1ut4vkXFi0c"
      },
      "source": [
        "### Card game\n",
        "\n",
        "(1 mark) Consider a game where Aces are worth 5 points, Kings 3 points, Queens 2 points, Jacks 1 point, and all other cards are not worth any points \n",
        "\n",
        "(one = 0 points, two = 0 points etc.). \n",
        "\n",
        "Write a program, that first takes in 5 card inputs, inserts them into one list and prints the list. Then adds up the number of points and displays that.\n",
        "\n",
        "Assume that all inputed cards are valid and lower case and non-plural\n",
        "\n",
        "Example Output:\n",
        "\n",
        "```\n",
        "Enter your card: *ace*\n",
        "Enter your card: *king*\n",
        "Enter your card: *ace*\n",
        "Enter your card: *three*\n",
        "Enter your card: *five*\n",
        "['ace', 'king', 'ace', 'three', 'five']\n",
        "Total number of points: 13\n",
        "```\n",
        "\n"
      ]
    },
    {
      "cell_type": "code",
      "metadata": {
        "id": "BFkGXgO6FmbU"
      },
      "source": [
        "#enter your code here\n"
      ],
      "execution_count": null,
      "outputs": []
    }
  ]
}