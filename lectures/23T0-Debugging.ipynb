{
  "nbformat": 4,
  "nbformat_minor": 0,
  "metadata": {
    "colab": {
      "provenance": [],
      "authorship_tag": "ABX9TyOXzGmHVFOTHTMlbTHpWg7Y",
      "include_colab_link": true
    },
    "kernelspec": {
      "name": "python3",
      "display_name": "Python 3"
    },
    "language_info": {
      "name": "python"
    }
  },
  "cells": [
    {
      "cell_type": "markdown",
      "metadata": {
        "id": "view-in-github",
        "colab_type": "text"
      },
      "source": [
        "<a href=\"https://colab.research.google.com/github/sim-mautner/cs1010/blob/main/lectures/23T0-Debugging.ipynb\" target=\"_parent\"><img src=\"https://colab.research.google.com/assets/colab-badge.svg\" alt=\"Open In Colab\"/></a>"
      ]
    },
    {
      "cell_type": "markdown",
      "source": [
        "Bug: A problem or error in code. 2 types: code won't run at all or code runs, but doesn't do what we expect it to do or want it to do.\n",
        "\n",
        "Debug / debugging: The process of identifying and removing bugs from our code."
      ],
      "metadata": {
        "id": "2TqRfM036ELM"
      }
    },
    {
      "cell_type": "code",
      "source": [
        "# NameError example\n",
        "username = input(\"Username: \")\n",
        "print(\"Your username is: \")\n",
        "print(userame)\n",
        "\n",
        "# The problem is that there is no variable (box) named userame (it's username) - we made a typo (mistake typing).\n",
        "# To fix it, check what variable you were trying to type, and fix the spelling.\n",
        "\n",
        "# NameError: name 'userame' is not defined"
      ],
      "metadata": {
        "colab": {
          "base_uri": "https://localhost:8080/",
          "height": 274
        },
        "id": "6YYCctbH6c4q",
        "outputId": "1e50c846-5015-45b3-fa5a-f99e5fdab130"
      },
      "execution_count": null,
      "outputs": [
        {
          "output_type": "stream",
          "name": "stdout",
          "text": [
            "Username: Sim\n",
            "Your username is: \n"
          ]
        },
        {
          "output_type": "error",
          "ename": "NameError",
          "evalue": "ignored",
          "traceback": [
            "\u001b[0;31m---------------------------------------------------------------------------\u001b[0m",
            "\u001b[0;31mNameError\u001b[0m                                 Traceback (most recent call last)",
            "\u001b[0;32m<ipython-input-2-cabe1a014dc5>\u001b[0m in \u001b[0;36m<module>\u001b[0;34m\u001b[0m\n\u001b[1;32m      2\u001b[0m \u001b[0musername\u001b[0m \u001b[0;34m=\u001b[0m \u001b[0minput\u001b[0m\u001b[0;34m(\u001b[0m\u001b[0;34m\"Username: \"\u001b[0m\u001b[0;34m)\u001b[0m\u001b[0;34m\u001b[0m\u001b[0;34m\u001b[0m\u001b[0m\n\u001b[1;32m      3\u001b[0m \u001b[0mprint\u001b[0m\u001b[0;34m(\u001b[0m\u001b[0;34m\"Your username is: \"\u001b[0m\u001b[0;34m)\u001b[0m\u001b[0;34m\u001b[0m\u001b[0;34m\u001b[0m\u001b[0m\n\u001b[0;32m----> 4\u001b[0;31m \u001b[0mprint\u001b[0m\u001b[0;34m(\u001b[0m\u001b[0muserame\u001b[0m\u001b[0;34m)\u001b[0m\u001b[0;34m\u001b[0m\u001b[0;34m\u001b[0m\u001b[0m\n\u001b[0m\u001b[1;32m      5\u001b[0m \u001b[0;34m\u001b[0m\u001b[0m\n\u001b[1;32m      6\u001b[0m \u001b[0;31m# The problem is that there is no variable (box) named userame (it's username) - we made a typo (mistake typing).\u001b[0m\u001b[0;34m\u001b[0m\u001b[0;34m\u001b[0m\u001b[0;34m\u001b[0m\u001b[0m\n",
            "\u001b[0;31mNameError\u001b[0m: name 'userame' is not defined"
          ]
        }
      ]
    },
    {
      "cell_type": "code",
      "source": [
        "# ValueError example\n",
        "\n",
        "# What happens if we have a string, and we try to store it as a number?\n",
        "name = \"Sim\"\n",
        "name_as_int = int(name)\n",
        "\n",
        "# ValueError: invalid literal for int() with base 10: 'Sim' --> we can't turn 'Sim' into an int."
      ],
      "metadata": {
        "colab": {
          "base_uri": "https://localhost:8080/",
          "height": 203
        },
        "id": "cOVz6gZ9-8Hi",
        "outputId": "13e8524a-f32f-46e7-c158-f10d67011d4d"
      },
      "execution_count": null,
      "outputs": [
        {
          "output_type": "error",
          "ename": "ValueError",
          "evalue": "ignored",
          "traceback": [
            "\u001b[0;31m---------------------------------------------------------------------------\u001b[0m",
            "\u001b[0;31mValueError\u001b[0m                                Traceback (most recent call last)",
            "\u001b[0;32m<ipython-input-3-7b9db4672ec0>\u001b[0m in \u001b[0;36m<module>\u001b[0;34m\u001b[0m\n\u001b[1;32m      1\u001b[0m \u001b[0;31m# What happens if we have a string, and we try to store it as a number?\u001b[0m\u001b[0;34m\u001b[0m\u001b[0;34m\u001b[0m\u001b[0;34m\u001b[0m\u001b[0m\n\u001b[1;32m      2\u001b[0m \u001b[0mname\u001b[0m \u001b[0;34m=\u001b[0m \u001b[0;34m\"Sim\"\u001b[0m\u001b[0;34m\u001b[0m\u001b[0;34m\u001b[0m\u001b[0m\n\u001b[0;32m----> 3\u001b[0;31m \u001b[0mname_as_int\u001b[0m \u001b[0;34m=\u001b[0m \u001b[0mint\u001b[0m\u001b[0;34m(\u001b[0m\u001b[0mname\u001b[0m\u001b[0;34m)\u001b[0m\u001b[0;34m\u001b[0m\u001b[0;34m\u001b[0m\u001b[0m\n\u001b[0m",
            "\u001b[0;31mValueError\u001b[0m: invalid literal for int() with base 10: 'Sim'"
          ]
        }
      ]
    },
    {
      "cell_type": "code",
      "source": [
        "age = input(\"Enter your age: \")\n",
        "# Step 1 check if age is an integer\n",
        "if age.isnumeric():\n",
        "    # If it is, we can change it to an int\n",
        "    #age = int(age) # if we don't convert age to an int, we can't subtract it on line 7\n",
        "    print(\"You can get a senior citizen card in \")\n",
        "    print(65-age)\n",
        "    print(\"years\")\n",
        "else:\n",
        "    print(\"You did not enter a number. That cannot be your age.\")\n",
        "\n",
        "# The problem is that you can't subtract a string from an int. TypeError (because only an int or float can be subtracted from an int.)"
      ],
      "metadata": {
        "id": "MGnP4f_YRqYT",
        "colab": {
          "base_uri": "https://localhost:8080/",
          "height": 274
        },
        "outputId": "d999bb3e-682e-4db3-f4b4-48cedca73078"
      },
      "execution_count": null,
      "outputs": [
        {
          "output_type": "stream",
          "name": "stdout",
          "text": [
            "Enter your age: 15\n",
            "You can get a senior citizen card in \n"
          ]
        },
        {
          "output_type": "error",
          "ename": "TypeError",
          "evalue": "ignored",
          "traceback": [
            "\u001b[0;31m---------------------------------------------------------------------------\u001b[0m",
            "\u001b[0;31mTypeError\u001b[0m                                 Traceback (most recent call last)",
            "\u001b[0;32m<ipython-input-1-cc973c3f1b21>\u001b[0m in \u001b[0;36m<module>\u001b[0;34m\u001b[0m\n\u001b[1;32m      5\u001b[0m     \u001b[0;31m#age = int(age) # if we don't convert age to an int, we can't subtract it on line 7\u001b[0m\u001b[0;34m\u001b[0m\u001b[0;34m\u001b[0m\u001b[0;34m\u001b[0m\u001b[0m\n\u001b[1;32m      6\u001b[0m     \u001b[0mprint\u001b[0m\u001b[0;34m(\u001b[0m\u001b[0;34m\"You can get a senior citizen card in \"\u001b[0m\u001b[0;34m)\u001b[0m\u001b[0;34m\u001b[0m\u001b[0;34m\u001b[0m\u001b[0m\n\u001b[0;32m----> 7\u001b[0;31m     \u001b[0mprint\u001b[0m\u001b[0;34m(\u001b[0m\u001b[0;36m65\u001b[0m\u001b[0;34m-\u001b[0m\u001b[0mage\u001b[0m\u001b[0;34m)\u001b[0m\u001b[0;34m\u001b[0m\u001b[0;34m\u001b[0m\u001b[0m\n\u001b[0m\u001b[1;32m      8\u001b[0m     \u001b[0mprint\u001b[0m\u001b[0;34m(\u001b[0m\u001b[0;34m\"years\"\u001b[0m\u001b[0;34m)\u001b[0m\u001b[0;34m\u001b[0m\u001b[0;34m\u001b[0m\u001b[0m\n\u001b[1;32m      9\u001b[0m \u001b[0;32melse\u001b[0m\u001b[0;34m:\u001b[0m\u001b[0;34m\u001b[0m\u001b[0;34m\u001b[0m\u001b[0m\n",
            "\u001b[0;31mTypeError\u001b[0m: unsupported operand type(s) for -: 'int' and 'str'"
          ]
        }
      ]
    },
    {
      "cell_type": "code",
      "source": [
        "# Invalid Syntax on line 8 (the problem is: that I only used one equals sign, not 2.)\n",
        "\n",
        "# Get length and breadth from the user\n",
        "length = input(\"Enter the length: \")\n",
        "breadth = input(\"Enter the breadth: \")\n",
        "\n",
        "# Check if it's a square or not\n",
        "if length = breadth:\n",
        "    print(\"It is a square.\")\n",
        "else:\n",
        "    print(\"It is not a square.\")"
      ],
      "metadata": {
        "id": "5iFJP2WlEQOh"
      },
      "execution_count": null,
      "outputs": []
    },
    {
      "cell_type": "code",
      "source": [
        "# If you run this, and press Enter leaving a box blank, you cause a ValueError\n",
        "\n",
        "# Take the age of 3 people\n",
        "age1 = input(\"Enter age 1: \")\n",
        "age2 = input(\"Enter age 2: \")\n",
        "age3 = input(\"Enter age 3: \")\n",
        "\n",
        "# Change ages to ints\n",
        "age1 = int(age1)\n",
        "age2 = int(age2)\n",
        "age3 = int(age3)\n",
        "\n",
        "# Determine the oldest and youngest\n",
        "# I'm older than you (one other person) and I'm older than you (the other other person), therefore, I am the oldest\n",
        "if age1 > age2 and age1 > age3:\n",
        "    print(age1)\n",
        "    print(\"is the oldest\")\n",
        "# Do this for the other two people\n",
        "if age2 > age1 and age2 > age3:\n",
        "    print(age2)\n",
        "    print(\"is the oldest\")\n",
        "if age3 > age1 and age3 > age2:\n",
        "    print(age3)\n",
        "    print(\"is the oldest\")"
      ],
      "metadata": {
        "colab": {
          "base_uri": "https://localhost:8080/",
          "height": 292
        },
        "id": "qNQIn91fGcsz",
        "outputId": "4159ba84-de63-468a-bb97-c6d56f6aa099"
      },
      "execution_count": null,
      "outputs": [
        {
          "name": "stdout",
          "output_type": "stream",
          "text": [
            "Enter age 1: 100\n",
            "Enter age 2: 5\n",
            "Enter age 3: \n"
          ]
        },
        {
          "output_type": "error",
          "ename": "ValueError",
          "evalue": "ignored",
          "traceback": [
            "\u001b[0;31m---------------------------------------------------------------------------\u001b[0m",
            "\u001b[0;31mValueError\u001b[0m                                Traceback (most recent call last)",
            "\u001b[0;32m<ipython-input-1-69359be1fea8>\u001b[0m in \u001b[0;36m<module>\u001b[0;34m\u001b[0m\n\u001b[1;32m      9\u001b[0m \u001b[0mage1\u001b[0m \u001b[0;34m=\u001b[0m \u001b[0mint\u001b[0m\u001b[0;34m(\u001b[0m\u001b[0mage1\u001b[0m\u001b[0;34m)\u001b[0m\u001b[0;34m\u001b[0m\u001b[0;34m\u001b[0m\u001b[0m\n\u001b[1;32m     10\u001b[0m \u001b[0mage2\u001b[0m \u001b[0;34m=\u001b[0m \u001b[0mint\u001b[0m\u001b[0;34m(\u001b[0m\u001b[0mage2\u001b[0m\u001b[0;34m)\u001b[0m\u001b[0;34m\u001b[0m\u001b[0;34m\u001b[0m\u001b[0m\n\u001b[0;32m---> 11\u001b[0;31m \u001b[0mage3\u001b[0m \u001b[0;34m=\u001b[0m \u001b[0mint\u001b[0m\u001b[0;34m(\u001b[0m\u001b[0mage3\u001b[0m\u001b[0;34m)\u001b[0m\u001b[0;34m\u001b[0m\u001b[0;34m\u001b[0m\u001b[0m\n\u001b[0m\u001b[1;32m     12\u001b[0m \u001b[0;34m\u001b[0m\u001b[0m\n\u001b[1;32m     13\u001b[0m \u001b[0;31m# Determine the oldest and youngest\u001b[0m\u001b[0;34m\u001b[0m\u001b[0;34m\u001b[0m\u001b[0;34m\u001b[0m\u001b[0m\n",
            "\u001b[0;31mValueError\u001b[0m: invalid literal for int() with base 10: ''"
          ]
        }
      ]
    },
    {
      "cell_type": "markdown",
      "source": [
        "How could we stop the user from causing this problem? (Answer is on line 8 and 9.)"
      ],
      "metadata": {
        "id": "aeNMR8cmGsA6"
      }
    },
    {
      "cell_type": "code",
      "source": [
        "# If you run this, and press Enter leaving a box blank, you cause a ValueError\n",
        "\n",
        "# Take the age of 3 people\n",
        "age1 = input(\"Enter age 1: \")\n",
        "age2 = input(\"Enter age 2: \")\n",
        "age3 = input(\"Enter age 3: \")\n",
        "\n",
        "# Check each age can be converted to an int, before continuing.\n",
        "if age1.isnumeric() and age2.isnumeric() and age3.isnumeric():\n",
        "    # Change ages to ints\n",
        "    age1 = int(age1)\n",
        "    age2 = int(age2)\n",
        "    age3 = int(age3)\n",
        "\n",
        "    # Determine the oldest and youngest\n",
        "    # I'm older than you (one other person) and I'm older than you (the other other person), therefore, I am the oldest\n",
        "    if age1 > age2 and age1 > age3:\n",
        "        print(age1)\n",
        "        print(\"is the oldest\")\n",
        "    # Do this for the other two people\n",
        "    if age2 > age1 and age2 > age3:\n",
        "        print(age2)\n",
        "        print(\"is the oldest\")\n",
        "    if age3 > age1 and age3 > age2:\n",
        "        print(age3)\n",
        "        print(\"is the oldest\")"
      ],
      "metadata": {
        "colab": {
          "base_uri": "https://localhost:8080/"
        },
        "id": "D_CUHnODGu9b",
        "outputId": "c52f2ba2-3c2b-4779-facb-d8e78ae9e4ea"
      },
      "execution_count": null,
      "outputs": [
        {
          "name": "stdout",
          "output_type": "stream",
          "text": [
            "Enter age 1: 100\n",
            "Enter age 2: 5\n",
            "Enter age 3: \n"
          ]
        }
      ]
    },
    {
      "cell_type": "markdown",
      "source": [
        "A KeyError occurs when we try to look up a key in a dictionary, to get a value, but that key isn't in the dictionary."
      ],
      "metadata": {
        "id": "VU8KJD5L6Wq4"
      }
    },
    {
      "cell_type": "code",
      "source": [
        "movies = {\n",
        "    \"Mad Max\":{\n",
        "        \"title\":\"Mad Max: Fury Road\",\n",
        "        \"year\":2015,\n",
        "        \"director\":\"George Miller\",\n",
        "        \"cinematography\":\"John Seale\"\n",
        "    },\n",
        "    \"Home\":{\n",
        "        \"title\":\"Home\",\n",
        "        \"year\":2015,\n",
        "        \"director\":\"Tim Johnson\"\n",
        "    }\n",
        "}\n",
        "\n",
        "for movie_title,movie_data in movies.items():\n",
        "    title = movie_title\n",
        "    director = movie_data['director']\n",
        "    print(f\"The director of {title} was {director}.\")\n",
        "    cinematographer = movie_data['cinematography']\n",
        "    print(f\"Cinetmatography for {title} was done by {cinematographer}.\")"
      ],
      "metadata": {
        "id": "rYN6gAdp3RRB"
      },
      "execution_count": null,
      "outputs": []
    },
    {
      "cell_type": "code",
      "source": [
        "# Fixing the KeyError by checking if the key is there before accessing it.\n",
        "\n",
        "movies = {\n",
        "\n",
        "    \"Mad Max\":{\n",
        "        \"title\":\"Mad Max: Fury Road\",\n",
        "        \"year\":2015,\n",
        "        \"director\":\"George Miller\",\n",
        "        \"cinematography\":\"John Seale\"\n",
        "    },\n",
        "\n",
        "    \"Home\":{\n",
        "        \"title\":\"Home\",\n",
        "        \"year\":2015,\n",
        "        \"director\":\"Tim Johnson\"\n",
        "    }\n",
        "}\n",
        "\n",
        "for movie_title,movie_data in movies.items():\n",
        "    title = movie_title\n",
        "    director = movie_data['director']\n",
        "    print(f\"The director of {title} was {director}.\")\n",
        "    # If there is a cinematographer, then list it. (If there isn't one, and we try to access it, we get a KeyError.)\n",
        "    if 'cinematography' in movie_data.keys():\n",
        "        cinematographer = movie_data['cinematography']\n",
        "        print(f\"Cinetmatography for {title} was done by {cinematographer}.\")"
      ],
      "metadata": {
        "id": "klB_ywQl37ig"
      },
      "execution_count": null,
      "outputs": []
    },
    {
      "cell_type": "markdown",
      "source": [
        "# Web Apps Errors"
      ],
      "metadata": {
        "id": "smLfKm9TEbmD"
      }
    },
    {
      "cell_type": "markdown",
      "source": [
        "AssertionError: View function mapping is overwriting an existing endpoint function: homepage\n",
        "\n",
        "This means that we have 2 functions in our web app, both called homepage."
      ],
      "metadata": {
        "id": "cTAIuquUEfJ_"
      }
    },
    {
      "cell_type": "markdown",
      "source": [
        "TypeError\n",
        "TypeError: The view function for 'homepage' did not return a valid response. The function either returned None or ended without a return statement.\n",
        "\n",
        "Solution: Make sure your function returns a string. (With the html for your browser to display.)"
      ],
      "metadata": {
        "id": "X4jW1ytFJB0V"
      }
    },
    {
      "cell_type": "markdown",
      "source": [
        "Error:\n",
        "\n",
        "Not Found\n",
        "The requested URL was not found on the server. If you entered the URL manually please check your spelling and try again.\n",
        "\n",
        "Solution:\n",
        "Check the route you're going to, and check it's spelled the same as the route in your file. Also, check you haven't forgotten the @ before app."
      ],
      "metadata": {
        "id": "wwH3z_Z2DpNu"
      }
    },
    {
      "cell_type": "code",
      "source": [
        "@app.route('/')\n",
        "def homepage():\n",
        "    response = html(\n",
        "        body(\n",
        "            h1(\"Jewellery Recommendations\"),\n",
        "            form(\n",
        "                label(for_=\"name_tb\")(\"Name: \"),\n",
        "                input_(type=\"text\", id=\"name_tb\"),\n",
        "                # A button, when clicked, goes to display_recommendations\n",
        "                input_(type=\"submit\", formaction=\"/display_recommendations\") # <---- this line, the formaction\n",
        "            )\n",
        "        )\n",
        "    )\n",
        "    return str(response)\n",
        "\n",
        "@app.route('/display_recommendations') # <---- needs to match this line (spelling etc, and the @ at the start of the line)\n",
        "def recommendations():\n",
        "    return \"\""
      ],
      "metadata": {
        "id": "jj0E-LKaEeMS"
      },
      "execution_count": null,
      "outputs": []
    },
    {
      "cell_type": "markdown",
      "source": [
        "Error:\n",
        "\n",
        "Method Not Allowed\n",
        "The method is not allowed for the requested URL.\n",
        "\n",
        "Solution:\n",
        "\n",
        "Ensure that the methods (set on the @app.route line) are \"GET\" and/or \"POST\" as you need them."
      ],
      "metadata": {
        "id": "Wy7qBsqjEDTQ"
      }
    }
  ]
}