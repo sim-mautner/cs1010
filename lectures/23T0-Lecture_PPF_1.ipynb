{
  "nbformat": 4,
  "nbformat_minor": 0,
  "metadata": {
    "colab": {
      "provenance": [],
      "authorship_tag": "ABX9TyO6W9xdwXeXNdcv1lN2TGl5",
      "include_colab_link": true
    },
    "kernelspec": {
      "name": "python3",
      "display_name": "Python 3"
    },
    "language_info": {
      "name": "python"
    }
  },
  "cells": [
    {
      "cell_type": "markdown",
      "metadata": {
        "id": "view-in-github",
        "colab_type": "text"
      },
      "source": [
        "<a href=\"https://colab.research.google.com/github/sim-mautner/cs1010/blob/main/lectures/23T0-Lecture_PPF_1.ipynb\" target=\"_parent\"><img src=\"https://colab.research.google.com/assets/colab-badge.svg\" alt=\"Open In Colab\"/></a>"
      ]
    },
    {
      "cell_type": "markdown",
      "source": [
        "Get username and password"
      ],
      "metadata": {
        "id": "mbX41AwGCtCa"
      }
    },
    {
      "cell_type": "code",
      "execution_count": null,
      "metadata": {
        "colab": {
          "base_uri": "https://localhost:8080/",
          "height": 53
        },
        "id": "DtztShbfCpyY",
        "outputId": "4d6d21aa-ccbb-4bf2-8e2b-efb26624a22f"
      },
      "outputs": [
        {
          "name": "stdout",
          "output_type": "stream",
          "text": [
            "blah\n"
          ]
        },
        {
          "output_type": "execute_result",
          "data": {
            "text/plain": [
              "'blah'"
            ],
            "application/vnd.google.colaboratory.intrinsic+json": {
              "type": "string"
            }
          },
          "metadata": {},
          "execution_count": 1
        }
      ],
      "source": [
        "input()"
      ]
    },
    {
      "cell_type": "code",
      "source": [
        "input(\"Please enter your username: \")"
      ],
      "metadata": {
        "colab": {
          "base_uri": "https://localhost:8080/",
          "height": 53
        },
        "id": "9HV_bA5IC7uw",
        "outputId": "488e4fc4-30f7-4620-d36b-548e679321ff"
      },
      "execution_count": null,
      "outputs": [
        {
          "name": "stdout",
          "output_type": "stream",
          "text": [
            "Please enter your username: Sim\n"
          ]
        },
        {
          "output_type": "execute_result",
          "data": {
            "text/plain": [
              "'Sim'"
            ],
            "application/vnd.google.colaboratory.intrinsic+json": {
              "type": "string"
            }
          },
          "metadata": {},
          "execution_count": 2
        }
      ]
    },
    {
      "cell_type": "markdown",
      "source": [
        "Using the `input()` function, we can use it with empty brackets, or we can put inside the brackets, a prompt (a message to tell the user what we want them to enter)."
      ],
      "metadata": {
        "id": "z-lHlyUWDMUs"
      }
    },
    {
      "cell_type": "code",
      "source": [
        "input(\"Username: \")\n",
        "input(\"Password: \")"
      ],
      "metadata": {
        "colab": {
          "base_uri": "https://localhost:8080/",
          "height": 71
        },
        "id": "TlsdZDAJDZcc",
        "outputId": "810f15f1-9e6f-4f5c-f093-abbd4c894924"
      },
      "execution_count": null,
      "outputs": [
        {
          "name": "stdout",
          "output_type": "stream",
          "text": [
            "Username: Sim\n",
            "Password: Blahdiblah\n"
          ]
        },
        {
          "output_type": "execute_result",
          "data": {
            "text/plain": [
              "'Blahdiblah'"
            ],
            "application/vnd.google.colaboratory.intrinsic+json": {
              "type": "string"
            }
          },
          "metadata": {},
          "execution_count": 3
        }
      ]
    },
    {
      "cell_type": "code",
      "source": [
        "username = input(\"Username: \")"
      ],
      "metadata": {
        "colab": {
          "base_uri": "https://localhost:8080/"
        },
        "id": "pQBHzaoLEJgh",
        "outputId": "e9e2cf01-17fa-43b9-add4-30264a1ae46c"
      },
      "execution_count": null,
      "outputs": [
        {
          "name": "stdout",
          "output_type": "stream",
          "text": [
            "Username: Sim\n"
          ]
        }
      ]
    },
    {
      "cell_type": "code",
      "source": [
        "print(\"Hello and welcome to COMP1010!\")"
      ],
      "metadata": {
        "colab": {
          "base_uri": "https://localhost:8080/"
        },
        "id": "vAgz2MlhEaWZ",
        "outputId": "2713554e-9f7c-4d72-8f4b-342b4a8f2395"
      },
      "execution_count": null,
      "outputs": [
        {
          "output_type": "stream",
          "name": "stdout",
          "text": [
            "Hello and welcome to COMP1010!\n"
          ]
        }
      ]
    },
    {
      "cell_type": "code",
      "source": [
        "username = input(\"Username: \")\n",
        "print(\"Hello\")\n",
        "print(username)"
      ],
      "metadata": {
        "colab": {
          "base_uri": "https://localhost:8080/"
        },
        "id": "hfVCLXC7EiKH",
        "outputId": "92b9b68d-34e2-4bbf-cf72-7583e08aff3d"
      },
      "execution_count": null,
      "outputs": [
        {
          "output_type": "stream",
          "name": "stdout",
          "text": [
            "Username: Shawn\n",
            "Hello\n",
            "Shawn\n"
          ]
        }
      ]
    },
    {
      "cell_type": "markdown",
      "source": [
        "Above, we too the user's input and stored it in a \"box\", formally known as a **variable**. From there, we can use it whenever we want."
      ],
      "metadata": {
        "id": "IL6E1fxdFk1n"
      }
    },
    {
      "cell_type": "markdown",
      "source": [
        "If the username is \"Sim\" print \"Hello\", but if the username is \"Jacqui\" print \"Go away. You're not welcome here.\""
      ],
      "metadata": {
        "id": "8Lwtqo_nGhfW"
      }
    },
    {
      "cell_type": "markdown",
      "source": [
        "Sometimes, we want the computer to ignore lines of text in our code. So we do this as a **comment**."
      ],
      "metadata": {
        "id": "Tc_VKis0GqzI"
      }
    },
    {
      "cell_type": "code",
      "source": [
        "username = input(\"Username: \")\n",
        "# This is an example of a comment. The # at the start of the line, means the computer ignores the green text.\n",
        "# This is helpful for writing descriptive stuff about our code.\n",
        "# If the username is \"Sim\", I will print \"Hello\"\n",
        "if username == \"Sim\":\n",
        "    print(\"Hello\")"
      ],
      "metadata": {
        "colab": {
          "base_uri": "https://localhost:8080/"
        },
        "id": "MXEY_bdBGLNg",
        "outputId": "12e948c6-051f-4293-9c93-c3d7965be4a7"
      },
      "execution_count": null,
      "outputs": [
        {
          "name": "stdout",
          "output_type": "stream",
          "text": [
            "Username: Jacqui\n"
          ]
        }
      ]
    },
    {
      "cell_type": "code",
      "source": [],
      "metadata": {
        "id": "CqHqj0E8IILv"
      },
      "execution_count": null,
      "outputs": []
    },
    {
      "cell_type": "markdown",
      "source": [
        "What's the deal with = and == ?\n",
        "\n",
        "* = says \"Let this be equal to that\" (instruction, stores information)\n",
        "* == says \"Is this equal to that?\" (question, results in \"True\" or \"False\")"
      ],
      "metadata": {
        "id": "54-mibUQHkcV"
      }
    },
    {
      "cell_type": "markdown",
      "source": [
        "Is the ‘username’ the variable or the name that people inputed the variable."
      ],
      "metadata": {
        "id": "NglnN7Q1IaAB"
      }
    },
    {
      "cell_type": "markdown",
      "source": [
        "is there a “doesn’t equal\" or way to make it false?"
      ],
      "metadata": {
        "id": "HjmXj9MDIndv"
      }
    },
    {
      "cell_type": "markdown",
      "source": [],
      "metadata": {
        "id": "s9XuqNW8IZ6e"
      }
    },
    {
      "cell_type": "code",
      "source": [],
      "metadata": {
        "id": "yMmBzAPVIZki"
      },
      "execution_count": null,
      "outputs": []
    },
    {
      "cell_type": "markdown",
      "source": [
        "if they are a user that has logged on before -> welcome back"
      ],
      "metadata": {
        "id": "ZV70hOE1GUxH"
      }
    },
    {
      "cell_type": "markdown",
      "source": [
        "how can we tell users to type username or password if they got it wrong"
      ],
      "metadata": {
        "id": "pwVLFvcgHLX1"
      }
    },
    {
      "cell_type": "markdown",
      "source": [
        "smoething here?"
      ],
      "metadata": {
        "id": "eNh4Ol__7YLW"
      }
    }
  ]
}