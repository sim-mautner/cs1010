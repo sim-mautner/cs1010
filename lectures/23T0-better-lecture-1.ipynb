{
  "nbformat": 4,
  "nbformat_minor": 0,
  "metadata": {
    "colab": {
      "provenance": [],
      "include_colab_link": true
    },
    "kernelspec": {
      "name": "python3",
      "display_name": "Python 3"
    },
    "language_info": {
      "name": "python"
    }
  },
  "cells": [
    {
      "cell_type": "markdown",
      "metadata": {
        "id": "view-in-github",
        "colab_type": "text"
      },
      "source": [
        "<a href=\"https://colab.research.google.com/github/sim-mautner/cs1010/blob/main/lectures/23T0-better-lecture-1.ipynb\" target=\"_parent\"><img src=\"https://colab.research.google.com/assets/colab-badge.svg\" alt=\"Open In Colab\"/></a>"
      ]
    },
    {
      "cell_type": "markdown",
      "source": [
        "# **Python 1**\n",
        "Summary:\n",
        "\n",
        "- `print()`\n",
        "- `input()`\n",
        "- Variables\n",
        "- `=` and `==`\n",
        "- Ignoring text\n"
      ],
      "metadata": {
        "id": "Vsvn3TW1CwKa"
      }
    },
    {
      "cell_type": "code",
      "execution_count": null,
      "metadata": {
        "colab": {
          "base_uri": "https://localhost:8080/",
          "height": 53
        },
        "id": "ks8nZVI9CrbY",
        "outputId": "18360c12-2604-472c-e0df-a2a2a580df5c"
      },
      "outputs": [
        {
          "name": "stdout",
          "output_type": "stream",
          "text": [
            "blah\n"
          ]
        },
        {
          "output_type": "execute_result",
          "data": {
            "text/plain": [
              "'blah'"
            ],
            "application/vnd.google.colaboratory.intrinsic+json": {
              "type": "string"
            }
          },
          "metadata": {},
          "execution_count": 3
        }
      ],
      "source": [
        "input()"
      ]
    },
    {
      "cell_type": "code",
      "source": [
        "input(\"Please enter your username: \")"
      ],
      "metadata": {
        "colab": {
          "base_uri": "https://localhost:8080/",
          "height": 53
        },
        "id": "uJS1fENGDK6O",
        "outputId": "b4b626c6-37b3-4584-dc04-ef258eccc3b5"
      },
      "execution_count": null,
      "outputs": [
        {
          "name": "stdout",
          "output_type": "stream",
          "text": [
            "Please enter your username: Oli\n"
          ]
        },
        {
          "output_type": "execute_result",
          "data": {
            "text/plain": [
              "'Oli'"
            ],
            "application/vnd.google.colaboratory.intrinsic+json": {
              "type": "string"
            }
          },
          "metadata": {},
          "execution_count": 4
        }
      ]
    },
    {
      "cell_type": "markdown",
      "source": [
        "Using the `input()` function, we can use empty brackets, or we can put inside the brackets, a prompt (a message for the user to tell them what to enter)"
      ],
      "metadata": {
        "id": "H1xmOIqPDo4K"
      }
    },
    {
      "cell_type": "code",
      "source": [
        "input(\"Username: \")\n",
        "input(\"Password: \")"
      ],
      "metadata": {
        "colab": {
          "base_uri": "https://localhost:8080/",
          "height": 71
        },
        "id": "t13hO_F9EZxX",
        "outputId": "d06d1459-19fa-4892-d6c6-9141f82a200a"
      },
      "execution_count": null,
      "outputs": [
        {
          "name": "stdout",
          "output_type": "stream",
          "text": [
            "Username: Hello\n",
            "Password: Hello\n"
          ]
        },
        {
          "output_type": "execute_result",
          "data": {
            "text/plain": [
              "'Hello'"
            ],
            "application/vnd.google.colaboratory.intrinsic+json": {
              "type": "string"
            }
          },
          "metadata": {},
          "execution_count": 5
        }
      ]
    },
    {
      "cell_type": "code",
      "source": [
        "username = input(\"Username: \")"
      ],
      "metadata": {
        "colab": {
          "base_uri": "https://localhost:8080/"
        },
        "id": "LIs8PLFFElzc",
        "outputId": "0b8d1a67-f83b-4bb1-b7ab-673490cb75d4"
      },
      "execution_count": null,
      "outputs": [
        {
          "name": "stdout",
          "output_type": "stream",
          "text": [
            "Username: Oli\n"
          ]
        }
      ]
    },
    {
      "cell_type": "code",
      "source": [
        "print(\"Hello and welcome\")"
      ],
      "metadata": {
        "colab": {
          "base_uri": "https://localhost:8080/"
        },
        "id": "TN9ugXH-EtQU",
        "outputId": "3145c53c-5929-4103-dda0-df14ad4b09a5"
      },
      "execution_count": null,
      "outputs": [
        {
          "output_type": "stream",
          "name": "stdout",
          "text": [
            "Hello and welcome\n"
          ]
        }
      ]
    },
    {
      "cell_type": "code",
      "source": [
        "username = input(\"Username: \")\n",
        "print(\"Hello\")\n",
        "print(username)"
      ],
      "metadata": {
        "colab": {
          "base_uri": "https://localhost:8080/"
        },
        "id": "sh8-dxZgE7tB",
        "outputId": "41b0af0f-f02f-4abb-842f-e717c043a8ac"
      },
      "execution_count": null,
      "outputs": [
        {
          "output_type": "stream",
          "name": "stdout",
          "text": [
            "Username: Oli\n",
            "Hello\n",
            "Oli\n"
          ]
        }
      ]
    },
    {
      "cell_type": "markdown",
      "source": [
        "Above, we took the user's input and stored it in a \"box,\" formally known as a **variable**. From there, we can use it whenever we want. "
      ],
      "metadata": {
        "id": "1su-0wqKGF7r"
      }
    },
    {
      "cell_type": "markdown",
      "source": [
        "If the username is Oli, print \"hello\". BUT, if the username is Brendan, print \"fuck off.\""
      ],
      "metadata": {
        "id": "QNGyNGLCGlGu"
      }
    },
    {
      "cell_type": "markdown",
      "source": [
        "Sometimes we want the computer to ignore lines of text in our code. We do this as a **comment.**"
      ],
      "metadata": {
        "id": "25owiIDVGtSd"
      }
    },
    {
      "cell_type": "code",
      "source": [
        "username = input(\"Username: \")\n",
        "# This is an example of a comment. The # at the start of the line means the computer ignores the green text.\n",
        "# This is helpful for writing description stuff.\n",
        "# If the username is \"Oli\" print \"Hello\"\n",
        "if username == \"Oli\":\n",
        "  print(\"Hello\")\n",
        "if username == \"Brendan\":\n",
        "  print(\"Hello\")"
      ],
      "metadata": {
        "colab": {
          "base_uri": "https://localhost:8080/"
        },
        "id": "pLeI9hJfGTYh",
        "outputId": "a0f6377d-2cc6-4334-c202-725929ac95aa"
      },
      "execution_count": null,
      "outputs": [
        {
          "output_type": "stream",
          "name": "stdout",
          "text": [
            "Username: Oli\n",
            "Hello\n"
          ]
        }
      ]
    },
    {
      "cell_type": "markdown",
      "source": [
        "Say go away to anyone else except Brendan"
      ],
      "metadata": {
        "id": "UURpOp4D4wBx"
      }
    },
    {
      "cell_type": "code",
      "source": [
        "username = input(\"Username: \")\n",
        "# This is an example of a comment. The # at the start of the line means the computer ignores the green text.\n",
        "# This is helpful for writing description stuff.\n",
        "# If the username is \"Oli\" print \"Hello\"\n",
        "if username == \"Brendan\":\n",
        "  print(\"Hello\")\n",
        "else: \n",
        "  print(\"Go away\")\n"
      ],
      "metadata": {
        "id": "JRFmVh8g4nSu"
      },
      "execution_count": null,
      "outputs": []
    },
    {
      "cell_type": "markdown",
      "source": [
        "- `=` says \"let this be equal to that.\" You're making a **variable.**\n",
        "\n",
        "- `==` says \"is this equal to that?\" A question, results given in \"True\" or \"False.\""
      ],
      "metadata": {
        "id": "wlDKDsuIHoaK"
      }
    },
    {
      "cell_type": "markdown",
      "source": [
        "Is the 'username' the variable or the name that people inputed the variable?"
      ],
      "metadata": {
        "id": "rj4rScx-5M4b"
      }
    },
    {
      "cell_type": "code",
      "source": [
        "username = input(\"username\")\n",
        "print(username)"
      ],
      "metadata": {
        "colab": {
          "base_uri": "https://localhost:8080/"
        },
        "id": "uATRQTUP5Tgy",
        "outputId": "9eb41b9d-6cc7-4f04-8f4d-c196da4621c0"
      },
      "execution_count": null,
      "outputs": [
        {
          "output_type": "stream",
          "name": "stdout",
          "text": [
            "usernameusername\n",
            "username\n"
          ]
        }
      ]
    },
    {
      "cell_type": "markdown",
      "source": [
        "The contents of the variable (box) can change."
      ],
      "metadata": {
        "id": "DMGwxoix5npe"
      }
    },
    {
      "cell_type": "code",
      "source": [
        "username = input(\"username\")\n",
        "print(\"Your username is: \")\n",
        "print(username)\n",
        "username = input(\"New Username:\")\n",
        "print(username)"
      ],
      "metadata": {
        "colab": {
          "base_uri": "https://localhost:8080/"
        },
        "id": "_jkFfvC75q6p",
        "outputId": "9eef781f-6920-43b9-fef3-aadb2cbfc0f2"
      },
      "execution_count": null,
      "outputs": [
        {
          "output_type": "stream",
          "name": "stdout",
          "text": [
            "usernameSim\n",
            "Your username is: \n",
            "Sim\n",
            "New Username:Brendan\n",
            "Brendan\n"
          ]
        }
      ]
    },
    {
      "cell_type": "markdown",
      "source": [
        "## Data types\n",
        "\n",
        "text (string)\n",
        "input() --> gives us the user's input, as a string (text)\n",
        "\n",
        "To convert a string (text) to an integer (number), we can **cast** (change it from one thing to another) it."
      ],
      "metadata": {
        "id": "HwAtZ-708Ats"
      }
    },
    {
      "cell_type": "markdown",
      "source": [
        "Is there a 'doesn't equal' or way to make it false? use != "
      ],
      "metadata": {
        "id": "Iw01Bs757Yv1"
      }
    },
    {
      "cell_type": "code",
      "source": [
        "tennis_score = input(\"How many games did you win today?\")\n",
        "if tennis_score != \"3\": # Turned int into a string\n",
        "  print(\"You didn't win your lucky number of games.\")"
      ],
      "metadata": {
        "colab": {
          "base_uri": "https://localhost:8080/"
        },
        "id": "Z6px0WBE7dRy",
        "outputId": "7b9ac3fd-0c99-4030-d7bc-4fa705c656e3"
      },
      "execution_count": null,
      "outputs": [
        {
          "output_type": "stream",
          "name": "stdout",
          "text": [
            "How many games did you win today?5\n",
            "You didn't win your lucky number of games.\n"
          ]
        }
      ]
    },
    {
      "cell_type": "code",
      "source": [
        "tennis_score = input(\"How many games did you win today?\")\n",
        "if tennis_score != 3:\n",
        "  print(\"You didn't win your lucky number of games.\")"
      ],
      "metadata": {
        "colab": {
          "base_uri": "https://localhost:8080/"
        },
        "id": "sQ4s5yr98VlO",
        "outputId": "6a4fcbee-7cec-4307-ec5b-64f968fa4212"
      },
      "execution_count": null,
      "outputs": [
        {
          "output_type": "stream",
          "name": "stdout",
          "text": [
            "How many games did you win today?3\n",
            "You didn't win your lucky number of games.\n"
          ]
        }
      ]
    },
    {
      "cell_type": "markdown",
      "source": [
        "Notice in the code above, that if you enter 3, it treats it like you entered something that wasn't 3. Need to turn it into an integer"
      ],
      "metadata": {
        "id": "mW0M4cwE8fPd"
      }
    },
    {
      "cell_type": "code",
      "source": [
        "tennis_score = input(\"How many games did you win today?\")\n",
        "# Turn tennis_score into an int\n",
        "tennis_score = int(tennis_score)\n",
        "if tennis_score != 3:\n",
        "  print(\"You didn't win your lucky number of games.\")"
      ],
      "metadata": {
        "colab": {
          "base_uri": "https://localhost:8080/"
        },
        "id": "ZRqxacyr8lfk",
        "outputId": "c6581d54-7ad0-43f0-85e5-1a12f9b3f2fc"
      },
      "execution_count": null,
      "outputs": [
        {
          "name": "stdout",
          "output_type": "stream",
          "text": [
            "How many games did you win today?3\n"
          ]
        }
      ]
    },
    {
      "cell_type": "code",
      "source": [
        "a = \"hello\"\n",
        "print(type(a))\n",
        "b = \"3\"\n",
        "print(type(b))\n",
        "c = 3\n",
        "print(type(c))"
      ],
      "metadata": {
        "colab": {
          "base_uri": "https://localhost:8080/"
        },
        "id": "SiQ4rarH99hJ",
        "outputId": "357288c3-e262-4314-f659-82c689c49fc8"
      },
      "execution_count": null,
      "outputs": [
        {
          "output_type": "stream",
          "name": "stdout",
          "text": [
            "<class 'str'>\n",
            "<class 'str'>\n",
            "<class 'int'>\n"
          ]
        }
      ]
    },
    {
      "cell_type": "markdown",
      "source": [
        "How does Python know whether it's an integer or not? Quotation marks around something, even if it's a number, makes Python treat it as a string.\n",
        "\n",
        "But if a user inputs, with no quotation marks, why is it treated as a string?"
      ],
      "metadata": {
        "id": "9hzWbftd-LBi"
      }
    },
    {
      "cell_type": "code",
      "source": [
        "age = input(\"How old are you? \")\n",
        "print(age)\n",
        "print(type(age))"
      ],
      "metadata": {
        "colab": {
          "base_uri": "https://localhost:8080/"
        },
        "id": "56XhOVTM-adr",
        "outputId": "62010f26-dc1c-4f65-8664-cc084f9054b9"
      },
      "execution_count": null,
      "outputs": [
        {
          "output_type": "stream",
          "name": "stdout",
          "text": [
            "How old are you? 21\n",
            "21\n",
            "<class 'str'>\n"
          ]
        }
      ]
    },
    {
      "cell_type": "code",
      "source": [
        "# What happens if we have a string, and we try to store it as a number?\n",
        "name = \"oli\"\n",
        "name_as_int = int(name)"
      ],
      "metadata": {
        "colab": {
          "base_uri": "https://localhost:8080/",
          "height": 200
        },
        "id": "cCXDnWDC-osw",
        "outputId": "71b9db82-61e5-44be-cefe-fe25f0e615fa"
      },
      "execution_count": null,
      "outputs": [
        {
          "output_type": "error",
          "ename": "ValueError",
          "evalue": "ignored",
          "traceback": [
            "\u001b[0;31m---------------------------------------------------------------------------\u001b[0m",
            "\u001b[0;31mValueError\u001b[0m                                Traceback (most recent call last)",
            "\u001b[0;32m<ipython-input-16-2dccd71ae733>\u001b[0m in \u001b[0;36m<module>\u001b[0;34m\u001b[0m\n\u001b[1;32m      1\u001b[0m \u001b[0;31m# What happens if we have a string, and we try to store it as a number?\u001b[0m\u001b[0;34m\u001b[0m\u001b[0;34m\u001b[0m\u001b[0;34m\u001b[0m\u001b[0m\n\u001b[1;32m      2\u001b[0m \u001b[0mname\u001b[0m \u001b[0;34m=\u001b[0m \u001b[0;34m\"oli\"\u001b[0m\u001b[0;34m\u001b[0m\u001b[0;34m\u001b[0m\u001b[0m\n\u001b[0;32m----> 3\u001b[0;31m \u001b[0mname_as_int\u001b[0m \u001b[0;34m=\u001b[0m \u001b[0mint\u001b[0m\u001b[0;34m(\u001b[0m\u001b[0mname\u001b[0m\u001b[0;34m)\u001b[0m\u001b[0;34m\u001b[0m\u001b[0;34m\u001b[0m\u001b[0m\n\u001b[0m",
            "\u001b[0;31mValueError\u001b[0m: invalid literal for int() with base 10: 'oli'"
          ]
        }
      ]
    },
    {
      "cell_type": "markdown",
      "source": [
        "* it just does.\n",
        "* `input()` can store anything the user enters on the keyboard, as a string. So it does. It's then up to the user, to change the data type if they want/need to"
      ],
      "metadata": {
        "id": "rrLE2o-T-k6J"
      }
    },
    {
      "cell_type": "markdown",
      "source": [
        "Decimals?\n",
        "\n",
        "`float`"
      ],
      "metadata": {
        "id": "yIAkIqwM_Sno"
      }
    },
    {
      "cell_type": "code",
      "source": [
        "decimal_number = 123.456\n",
        "print(decimal_number)\n",
        "print(type(decimal_number))"
      ],
      "metadata": {
        "colab": {
          "base_uri": "https://localhost:8080/"
        },
        "id": "07pvtewv_xEv",
        "outputId": "a53a21f7-6405-4424-ce69-62a78572597d"
      },
      "execution_count": null,
      "outputs": [
        {
          "output_type": "stream",
          "name": "stdout",
          "text": [
            "123.456\n",
            "<class 'float'>\n"
          ]
        }
      ]
    },
    {
      "cell_type": "code",
      "source": [
        "# What happens if we turn decimal_number into an int?\n",
        "decimal_number = 123.456\n",
        "print(decimal_number)\n",
        "print(type(decimal_number))\n",
        "decimal_number = int(decimal_number)\n",
        "print(decimal_number)\n",
        "print(type(decimal_number))"
      ],
      "metadata": {
        "colab": {
          "base_uri": "https://localhost:8080/"
        },
        "id": "Z6zt6EHo_7f2",
        "outputId": "fb638db5-6b59-4c47-9e62-fe887244a993"
      },
      "execution_count": null,
      "outputs": [
        {
          "output_type": "stream",
          "name": "stdout",
          "text": [
            "123.456\n",
            "<class 'float'>\n",
            "123\n",
            "<class 'int'>\n"
          ]
        }
      ]
    },
    {
      "cell_type": "code",
      "source": [
        "# What happens if we turn decimal_number into an int?\n",
        "decimal_number = \"123.456\"\n",
        "print(decimal_number)\n",
        "print(type(decimal_number))\n",
        "decimal_number = int(decimal_number)\n",
        "print(decimal_number)\n",
        "print(type(decimal_number))"
      ],
      "metadata": {
        "id": "8xPAGYhFC5C8"
      },
      "execution_count": null,
      "outputs": []
    },
    {
      "cell_type": "markdown",
      "source": [
        "## Control Flow Part 2\n",
        "\n",
        "If they are a user that has logged on before -> welcome back\n",
        "\n"
      ],
      "metadata": {
        "id": "DOgE8l8LA511"
      }
    },
    {
      "cell_type": "code",
      "source": [
        "user1 = input(\"Username: \")\n",
        "\n",
        "# How can I tell, if they've logged on before?\n",
        "# Could I store information about useres who have logged on?\n",
        "\n",
        "print(\"Welcome\")\n",
        "\n",
        "user2 = input(\"Username: \")\n",
        "if user1 == user2:\n",
        "  print(\"Welcome Back\")\n",
        "else:\n",
        "  print(\"Welcome\")\n",
        "\n",
        "user3 = input(\"Username: \")\n",
        "if user3 == user1 or user3 == user2:\n",
        "  print(\"Welcome Back\")\n",
        "else:\n",
        "  print(\"Welcome\")\n",
        "\n",
        "user4 = input(\"Username:\")\n",
        "if user4 == user1 or user4 == user3 or user4 == user2:\n",
        "  print(\"Welcome Back\")\n",
        "else:\n",
        "  print(\"Welcome\")"
      ],
      "metadata": {
        "id": "qdc_EUxZDcQY"
      },
      "execution_count": null,
      "outputs": []
    },
    {
      "cell_type": "markdown",
      "source": [
        "## Data Types Continued\n",
        "\n",
        "\n",
        "*  Bool\n"
      ],
      "metadata": {
        "id": "6d28H_1bEnsR"
      }
    },
    {
      "cell_type": "code",
      "source": [
        "over_18"
      ],
      "metadata": {
        "id": "fpTiRQ-fEs8m"
      },
      "execution_count": null,
      "outputs": []
    },
    {
      "cell_type": "markdown",
      "source": [
        "how can we tell users to type username or password if they got it wrong"
      ],
      "metadata": {
        "id": "lr_U_4OADbNT"
      }
    },
    {
      "cell_type": "markdown",
      "source": [
        "# Bug\n",
        "\n",
        "A problem or error in code. 2 types won't run at all or code will run, but does not do what is expected to do.\n",
        "\n",
        "Debug: The process of identifying and removing bugs from the code.\n",
        "\n",
        "When a code is run and there is a bug, the arrow indicates the line where the problem is "
      ],
      "metadata": {
        "id": "Nlf-hzFz6HzS"
      }
    },
    {
      "cell_type": "code",
      "source": [
        "# Name error example\n",
        "username = input(\"username: \")\n",
        "print(\"Your username is: \")\n",
        "print(userame)\n",
        "\n",
        "# Variable name issue there is a type so check spelling"
      ],
      "metadata": {
        "colab": {
          "base_uri": "https://localhost:8080/",
          "height": 269
        },
        "id": "9_SE0NZR6aUN",
        "outputId": "8b92e038-8be6-4eb1-f004-c8bfb0699e9b"
      },
      "execution_count": null,
      "outputs": [
        {
          "output_type": "stream",
          "name": "stdout",
          "text": [
            "username: hi\n",
            "Your username is: \n"
          ]
        },
        {
          "output_type": "error",
          "ename": "NameError",
          "evalue": "ignored",
          "traceback": [
            "\u001b[0;31m---------------------------------------------------------------------------\u001b[0m",
            "\u001b[0;31mNameError\u001b[0m                                 Traceback (most recent call last)",
            "\u001b[0;32m<ipython-input-17-233820a93d9d>\u001b[0m in \u001b[0;36m<module>\u001b[0;34m\u001b[0m\n\u001b[1;32m      2\u001b[0m \u001b[0musername\u001b[0m \u001b[0;34m=\u001b[0m \u001b[0minput\u001b[0m\u001b[0;34m(\u001b[0m\u001b[0;34m\"username: \"\u001b[0m\u001b[0;34m)\u001b[0m\u001b[0;34m\u001b[0m\u001b[0;34m\u001b[0m\u001b[0m\n\u001b[1;32m      3\u001b[0m \u001b[0mprint\u001b[0m\u001b[0;34m(\u001b[0m\u001b[0;34m\"Your username is: \"\u001b[0m\u001b[0;34m)\u001b[0m\u001b[0;34m\u001b[0m\u001b[0;34m\u001b[0m\u001b[0m\n\u001b[0;32m----> 4\u001b[0;31m \u001b[0mprint\u001b[0m\u001b[0;34m(\u001b[0m\u001b[0muserame\u001b[0m\u001b[0;34m)\u001b[0m\u001b[0;34m\u001b[0m\u001b[0;34m\u001b[0m\u001b[0m\n\u001b[0m\u001b[1;32m      5\u001b[0m \u001b[0;34m\u001b[0m\u001b[0m\n\u001b[1;32m      6\u001b[0m \u001b[0;31m# Variable name issue there is a type so check spelling\u001b[0m\u001b[0;34m\u001b[0m\u001b[0;34m\u001b[0m\u001b[0;34m\u001b[0m\u001b[0m\n",
            "\u001b[0;31mNameError\u001b[0m: name 'userame' is not defined"
          ]
        }
      ]
    },
    {
      "cell_type": "code",
      "source": [
        "# Value error\n",
        "\n",
        "# What happens if we have a string, and we try to store it as a number?\n",
        "name = \"oli\"\n",
        "name_as_int = int(name)"
      ],
      "metadata": {
        "colab": {
          "base_uri": "https://localhost:8080/",
          "height": 200
        },
        "id": "IMHzREJY_GEy",
        "outputId": "6e51bb74-fabe-4cee-8652-2fe85d4cf915"
      },
      "execution_count": null,
      "outputs": [
        {
          "output_type": "error",
          "ename": "ValueError",
          "evalue": "ignored",
          "traceback": [
            "\u001b[0;31m---------------------------------------------------------------------------\u001b[0m",
            "\u001b[0;31mValueError\u001b[0m                                Traceback (most recent call last)",
            "\u001b[0;32m<ipython-input-20-2a51549a8531>\u001b[0m in \u001b[0;36m<module>\u001b[0;34m\u001b[0m\n\u001b[1;32m      3\u001b[0m \u001b[0;31m# What happens if we have a string, and we try to store it as a number?\u001b[0m\u001b[0;34m\u001b[0m\u001b[0;34m\u001b[0m\u001b[0;34m\u001b[0m\u001b[0m\n\u001b[1;32m      4\u001b[0m \u001b[0mname\u001b[0m \u001b[0;34m=\u001b[0m \u001b[0;34m\"oli\"\u001b[0m\u001b[0;34m\u001b[0m\u001b[0;34m\u001b[0m\u001b[0m\n\u001b[0;32m----> 5\u001b[0;31m \u001b[0mname_as_int\u001b[0m \u001b[0;34m=\u001b[0m \u001b[0mint\u001b[0m\u001b[0;34m(\u001b[0m\u001b[0mname\u001b[0m\u001b[0;34m)\u001b[0m\u001b[0;34m\u001b[0m\u001b[0;34m\u001b[0m\u001b[0m\n\u001b[0m",
            "\u001b[0;31mValueError\u001b[0m: invalid literal for int() with base 10: 'oli'"
          ]
        }
      ]
    },
    {
      "cell_type": "code",
      "source": [
        "age = input(\"Enter your age: \")\n",
        "# Step 1 check if age is an integer\n",
        "if age.isnumeric():\n",
        "  # if it is, we can change it to an int\n",
        "  # age = int(age) if we dont convert age to an int, we cant subtract it on line 7\n",
        "  print(\"You can get a senior citizen card in\")\n",
        "  print(65-age)\n",
        "  print(\"Years\")\n",
        "else: \n",
        "    print(\"You did not enter a number. That cannot be your age.\")\n",
        "\n",
        "# The problem is that you can't subtract a string from an int. TypeError (because only an int or float can be subtracted from an int.)"
      ],
      "metadata": {
        "id": "rYbRP6LAShS7"
      },
      "execution_count": null,
      "outputs": []
    },
    {
      "cell_type": "markdown",
      "source": [
        "## Example Questions"
      ],
      "metadata": {
        "id": "jPeTfx-uROZX"
      }
    },
    {
      "cell_type": "code",
      "source": [
        "type(\"Hello\")"
      ],
      "metadata": {
        "colab": {
          "base_uri": "https://localhost:8080/"
        },
        "id": "CFxqwOdNRR4e",
        "outputId": "c1c3c5d0-7d9d-4e72-ef29-3ded073a88bf"
      },
      "execution_count": null,
      "outputs": [
        {
          "output_type": "execute_result",
          "data": {
            "text/plain": [
              "str"
            ]
          },
          "metadata": {},
          "execution_count": 21
        }
      ]
    },
    {
      "cell_type": "code",
      "source": [],
      "metadata": {
        "colab": {
          "base_uri": "https://localhost:8080/",
          "height": 269
        },
        "id": "9nLDNdNyRXTD",
        "outputId": "ee4363e7-4b26-4601-c82e-3f6420fa8934"
      },
      "execution_count": null,
      "outputs": [
        {
          "output_type": "stream",
          "name": "stdout",
          "text": [
            "Enter your age: 16\n",
            "You can get a senior citizen card in\n"
          ]
        },
        {
          "output_type": "error",
          "ename": "TypeError",
          "evalue": "ignored",
          "traceback": [
            "\u001b[0;31m---------------------------------------------------------------------------\u001b[0m",
            "\u001b[0;31mTypeError\u001b[0m                                 Traceback (most recent call last)",
            "\u001b[0;32m<ipython-input-23-b1bf7d2399e3>\u001b[0m in \u001b[0;36m<module>\u001b[0;34m\u001b[0m\n\u001b[1;32m      5\u001b[0m   \u001b[0;31m# age = int(age) if we dont convert age to an int, we cant subtract it on line 7\u001b[0m\u001b[0;34m\u001b[0m\u001b[0;34m\u001b[0m\u001b[0;34m\u001b[0m\u001b[0m\n\u001b[1;32m      6\u001b[0m   \u001b[0mprint\u001b[0m\u001b[0;34m(\u001b[0m\u001b[0;34m\"You can get a senior citizen card in\"\u001b[0m\u001b[0;34m)\u001b[0m\u001b[0;34m\u001b[0m\u001b[0;34m\u001b[0m\u001b[0m\n\u001b[0;32m----> 7\u001b[0;31m   \u001b[0mprint\u001b[0m\u001b[0;34m(\u001b[0m\u001b[0;36m65\u001b[0m\u001b[0;34m-\u001b[0m\u001b[0mage\u001b[0m\u001b[0;34m)\u001b[0m\u001b[0;34m\u001b[0m\u001b[0;34m\u001b[0m\u001b[0m\n\u001b[0m\u001b[1;32m      8\u001b[0m   \u001b[0mprint\u001b[0m\u001b[0;34m(\u001b[0m\u001b[0;34m\"Years\"\u001b[0m\u001b[0;34m)\u001b[0m\u001b[0;34m\u001b[0m\u001b[0;34m\u001b[0m\u001b[0m\n\u001b[1;32m      9\u001b[0m \u001b[0;32melse\u001b[0m\u001b[0;34m:\u001b[0m\u001b[0;34m\u001b[0m\u001b[0;34m\u001b[0m\u001b[0m\n",
            "\u001b[0;31mTypeError\u001b[0m: unsupported operand type(s) for -: 'int' and 'str'"
          ]
        }
      ]
    }
  ]
}