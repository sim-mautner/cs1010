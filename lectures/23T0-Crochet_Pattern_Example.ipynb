{
  "nbformat": 4,
  "nbformat_minor": 0,
  "metadata": {
    "colab": {
      "provenance": [],
      "authorship_tag": "ABX9TyP3UwAKWlyEZFb4GJyLIjRR",
      "include_colab_link": true
    },
    "kernelspec": {
      "name": "python3",
      "display_name": "Python 3"
    },
    "language_info": {
      "name": "python"
    }
  },
  "cells": [
    {
      "cell_type": "markdown",
      "metadata": {
        "id": "view-in-github",
        "colab_type": "text"
      },
      "source": [
        "<a href=\"https://colab.research.google.com/github/sim-mautner/cs1010/blob/main/lectures/23T0-Crochet_Pattern_Example.ipynb\" target=\"_parent\"><img src=\"https://colab.research.google.com/assets/colab-badge.svg\" alt=\"Open In Colab\"/></a>"
      ]
    },
    {
      "cell_type": "code",
      "execution_count": null,
      "metadata": {
        "id": "5Y_DAzM6-Udo"
      },
      "outputs": [],
      "source": [
        "steps = []\n",
        "steps.append(\"\") # This is so that step 1 (the first step the user inputs) is at index 1.\n",
        "next_step = input(\"Enter the next step (or . to finish): \")\n",
        "\n",
        "# While next_step is not equal to a ., keep appending and getting new steps\n",
        "while next_step != '.':\n",
        "    steps.append(next_step)\n",
        "    next_step = input(\"Enter the next step (or . to finish): \")\n",
        "\n",
        "print(steps)\n",
        "\n",
        "upto = input(\"Where are you up to? \")\n",
        "upto = int(upto)\n",
        "print(steps[upto])\n"
      ]
    },
    {
      "cell_type": "code",
      "source": [
        "\n",
        "steps = []\n",
        "steps.append(\"\") # This is so that step 1 (the first step the user inputs) is at index 1.\n",
        "next_step = input(\"Enter the next step (or . to finish): \")\n",
        "\n",
        "# While next_step is not equal to a ., keep appending and getting new steps\n",
        "while next_step != '.':\n",
        "    steps.append(next_step)\n",
        "    next_step = input(\"Enter the next step (or . to finish): \")\n",
        "\n",
        "print(\"1: \")\n",
        "print(steps[1])\n",
        "print(\"2: \")\n",
        "print(steps[2])\n",
        "print(\"3: \")\n",
        "print(steps[3])\n",
        "\n",
        "upto = input(\"Where are you up to? \")\n",
        "upto = int(upto)\n",
        "print(steps[upto])"
      ],
      "metadata": {
        "id": "StlxcYPW-Yzz"
      },
      "execution_count": null,
      "outputs": []
    },
    {
      "cell_type": "code",
      "source": [
        "\n",
        "steps = []\n",
        "steps.append(\"\") # This is so that step 1 (the first step the user inputs) is at index 1.\n",
        "next_step = input(\"Enter the next step (or . to finish): \")\n",
        "\n",
        "# While next_step is not equal to a ., keep appending and getting new steps\n",
        "while next_step != '.':\n",
        "    steps.append(next_step)\n",
        "    next_step = input(\"Enter the next step (or . to finish): \")\n",
        "\n",
        "print(f\"1: {steps[1]}\")\n",
        "print(f\"2: {steps[2]}\")\n",
        "print(f\"3: {steps[3]}\")\n",
        "\n",
        "upto = input(\"Where are you up to? \")\n",
        "upto = int(upto)\n",
        "print(steps[upto])\n"
      ],
      "metadata": {
        "id": "Y84n4DNH_G6W"
      },
      "execution_count": null,
      "outputs": []
    },
    {
      "cell_type": "markdown",
      "source": [
        "But what if there are more than 3 steps? (Also, we don't like the amount of copy-paste and editing.)"
      ],
      "metadata": {
        "id": "YNtI5X8__X9m"
      }
    },
    {
      "cell_type": "code",
      "source": [
        "steps = []\n",
        "steps.append(\"\") # This is so that step 1 (the first step the user inputs) is at index 1.\n",
        "next_step = input(\"Enter the next step (or . to finish): \")\n",
        "\n",
        "# While next_step is not equal to a ., keep appending and getting new steps\n",
        "while next_step != '.':\n",
        "    steps.append(next_step)\n",
        "    next_step = input(\"Enter the next step (or . to finish): \")\n",
        "\n",
        "i = 1\n",
        "num_steps = len(steps)\n",
        "while i < num_steps:\n",
        "    print(f\"{i}: {steps[i]}\")\n",
        "    i = i + 1\n",
        "\n",
        "upto = input(\"Where are you up to? \")\n",
        "upto = int(upto)\n",
        "print(steps[upto])"
      ],
      "metadata": {
        "id": "UqY0HbosByke"
      },
      "execution_count": null,
      "outputs": []
    }
  ]
}