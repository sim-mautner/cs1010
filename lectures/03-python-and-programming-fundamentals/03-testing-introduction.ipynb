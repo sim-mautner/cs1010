{
  "nbformat": 4,
  "nbformat_minor": 0,
  "metadata": {
    "colab": {
      "name": "03-testing-introduction.ipynb",
      "provenance": [],
      "toc_visible": true,
      "authorship_tag": "ABX9TyO6Cy/HVPM4xLuTg42LFQms",
      "include_colab_link": true
    },
    "kernelspec": {
      "name": "python3",
      "display_name": "Python 3"
    },
    "language_info": {
      "name": "python"
    }
  },
  "cells": [
    {
      "cell_type": "markdown",
      "metadata": {
        "id": "view-in-github",
        "colab_type": "text"
      },
      "source": [
        "<a href=\"https://colab.research.google.com/github/sim-mautner/cs1010/blob/main/lectures/03-python-and-programming-fundamentals/03-testing-introduction.ipynb\" target=\"_parent\"><img src=\"https://colab.research.google.com/assets/colab-badge.svg\" alt=\"Open In Colab\"/></a>"
      ]
    },
    {
      "cell_type": "markdown",
      "metadata": {
        "id": "8y3btaKHE4ag"
      },
      "source": [
        "> Topic 3<br>\n",
        "> Python and Programming Fundamentals<br>\n",
        "> COMP1010<br>\n",
        "> Week 1-3\n",
        "\n",
        "> Topic 3.3<br>\n",
        "> Testing (an introduction)"
      ]
    },
    {
      "cell_type": "markdown",
      "metadata": {
        "id": "8MmJvOZTi3PV"
      },
      "source": [
        "# 1 - Assert\n",
        "\n",
        "When testing if a piece of code works, we need to check all the different pathways our execution could take, and that each one produces the expected result.\n",
        "\n",
        "`assert(condition)`"
      ]
    },
    {
      "cell_type": "markdown",
      "metadata": {
        "id": "kP7wjZyvji7H"
      },
      "source": [
        "What does it look like when an `assert` passes?"
      ]
    },
    {
      "cell_type": "code",
      "metadata": {
        "id": "kWMcPKYAjl6B"
      },
      "source": [
        "assert True"
      ],
      "execution_count": 1,
      "outputs": []
    },
    {
      "cell_type": "code",
      "source": [
        "assert 5==5"
      ],
      "metadata": {
        "id": "zl8rydxTvqyF"
      },
      "execution_count": 2,
      "outputs": []
    },
    {
      "cell_type": "code",
      "source": [
        "lecturer = \"Sim\"\n",
        "assert lecturer == \"Sim\""
      ],
      "metadata": {
        "id": "yhILy9GxvtDF"
      },
      "execution_count": 3,
      "outputs": []
    },
    {
      "cell_type": "markdown",
      "metadata": {
        "id": "P29RUnTkjmNU"
      },
      "source": [
        "What does it look like when an `assert` fails?"
      ]
    },
    {
      "cell_type": "code",
      "source": [
        "assert False"
      ],
      "metadata": {
        "id": "DuP4yjTwvorP",
        "outputId": "65de0901-cdf2-4d7a-ed6b-b7c9e98f249a",
        "colab": {
          "base_uri": "https://localhost:8080/",
          "height": 168
        }
      },
      "execution_count": 4,
      "outputs": [
        {
          "output_type": "error",
          "ename": "AssertionError",
          "evalue": "ignored",
          "traceback": [
            "\u001b[0;31m---------------------------------------------------------------------------\u001b[0m",
            "\u001b[0;31mAssertionError\u001b[0m                            Traceback (most recent call last)",
            "\u001b[0;32m<ipython-input-4-a871fdc9ebee>\u001b[0m in \u001b[0;36m<module>\u001b[0;34m()\u001b[0m\n\u001b[0;32m----> 1\u001b[0;31m \u001b[0;32massert\u001b[0m \u001b[0;32mFalse\u001b[0m\u001b[0;34m\u001b[0m\u001b[0;34m\u001b[0m\u001b[0m\n\u001b[0m",
            "\u001b[0;31mAssertionError\u001b[0m: "
          ]
        }
      ]
    },
    {
      "cell_type": "code",
      "source": [
        "assert 2==3"
      ],
      "metadata": {
        "id": "MLfesTDOvz4k",
        "outputId": "a8d94cce-0117-462c-df2d-51f9a364dc32",
        "colab": {
          "base_uri": "https://localhost:8080/",
          "height": 168
        }
      },
      "execution_count": 5,
      "outputs": [
        {
          "output_type": "error",
          "ename": "AssertionError",
          "evalue": "ignored",
          "traceback": [
            "\u001b[0;31m---------------------------------------------------------------------------\u001b[0m",
            "\u001b[0;31mAssertionError\u001b[0m                            Traceback (most recent call last)",
            "\u001b[0;32m<ipython-input-5-32e22ec41d00>\u001b[0m in \u001b[0;36m<module>\u001b[0;34m()\u001b[0m\n\u001b[0;32m----> 1\u001b[0;31m \u001b[0;32massert\u001b[0m \u001b[0;36m2\u001b[0m\u001b[0;34m==\u001b[0m\u001b[0;36m3\u001b[0m\u001b[0;34m\u001b[0m\u001b[0;34m\u001b[0m\u001b[0m\n\u001b[0m",
            "\u001b[0;31mAssertionError\u001b[0m: "
          ]
        }
      ]
    },
    {
      "cell_type": "code",
      "source": [
        "assert lecturer == \"Will\""
      ],
      "metadata": {
        "id": "f9CnQQlMv1nM",
        "outputId": "d0778683-21bf-4d1a-95dc-eaee06b808a9",
        "colab": {
          "base_uri": "https://localhost:8080/",
          "height": 168
        }
      },
      "execution_count": 6,
      "outputs": [
        {
          "output_type": "error",
          "ename": "AssertionError",
          "evalue": "ignored",
          "traceback": [
            "\u001b[0;31m---------------------------------------------------------------------------\u001b[0m",
            "\u001b[0;31mAssertionError\u001b[0m                            Traceback (most recent call last)",
            "\u001b[0;32m<ipython-input-6-1a5187d1d793>\u001b[0m in \u001b[0;36m<module>\u001b[0;34m()\u001b[0m\n\u001b[0;32m----> 1\u001b[0;31m \u001b[0;32massert\u001b[0m \u001b[0mlecturer\u001b[0m \u001b[0;34m==\u001b[0m \u001b[0;34m\"Will\"\u001b[0m\u001b[0;34m\u001b[0m\u001b[0;34m\u001b[0m\u001b[0m\n\u001b[0m",
            "\u001b[0;31mAssertionError\u001b[0m: "
          ]
        }
      ]
    },
    {
      "cell_type": "markdown",
      "metadata": {
        "id": "6zQkNeE_jKW2"
      },
      "source": [
        "Write some tests for your my_len() function you wrote above."
      ]
    },
    {
      "cell_type": "code",
      "metadata": {
        "id": "PaPLzML0jHLH"
      },
      "source": [
        "def my_len(text):\n",
        "    if isinstance(text, str):\n",
        "        length = 0\n",
        "        for character in text:\n",
        "            length += 1\n",
        "        return length\n",
        "    else:\n",
        "        return 0"
      ],
      "execution_count": 11,
      "outputs": []
    },
    {
      "cell_type": "code",
      "source": [
        "assert my_len(\"Hello\") == 5\n",
        "assert my_len(\"\") == 0\n",
        "assert my_len(\"hello there\") == 11\n",
        "assert my_len(5) == 0"
      ],
      "metadata": {
        "id": "gAovNdlkwVS0"
      },
      "execution_count": 13,
      "outputs": []
    },
    {
      "cell_type": "markdown",
      "metadata": {
        "id": "9eLH9VV1kS_Z"
      },
      "source": [
        "# 2 - Test-Driven Development (TDD)"
      ]
    },
    {
      "cell_type": "markdown",
      "metadata": {
        "id": "L0ryHmlfkDPY"
      },
      "source": [
        "Test-Driven Development (TDD) is an approach to programming whereby the requirements or specification of the project are converted into test cases before the software is written."
      ]
    },
    {
      "cell_type": "markdown",
      "metadata": {
        "id": "b0dIARVrj972"
      },
      "source": [
        "<a name='eg_months_cell'></a>\n",
        "### Example: Months of the Year\n",
        "\n",
        "Consider a function which takes in a number and returns a string with the month of the year that that number corresponds to.\n",
        "\n",
        "1. What cases need to be considered?\n",
        "2. Write some tests which cover these cases.\n",
        "3. Implement the function."
      ]
    },
    {
      "cell_type": "markdown",
      "metadata": {
        "id": "r7z_xzGM3LwB"
      },
      "source": [
        "### Cases to consider:\n",
        "* 1 --> January\n",
        "* 2 --> February ... etc\n",
        "* \\>12 --> \"\"\n",
        "* string input"
      ]
    },
    {
      "cell_type": "code",
      "metadata": {
        "id": "DWDwbR85lX1t"
      },
      "source": [
        "assert months_of_year(1) == \"January\"\n",
        "assert months_of_year(2) == \"February\"\n",
        "assert months_of_year(3) == \"March\"\n",
        "assert months_of_year(4) == \"April\"\n",
        "assert months_of_year(5) == \"May\"\n",
        "assert months_of_year(6) == \"June\"\n",
        "assert months_of_year(7) == \"July\"\n",
        "assert months_of_year(8) == \"August\"\n",
        "assert months_of_year(9) == \"September\"\n",
        "assert months_of_year(10) == \"October\"\n",
        "assert months_of_year(11) == \"November\"\n",
        "assert months_of_year(12) == \"December\"\n",
        "assert months_of_year(13) == \"\"\n",
        "assert months_of_year(\"hi\") == \"\""
      ],
      "execution_count": 20,
      "outputs": []
    },
    {
      "cell_type": "code",
      "metadata": {
        "id": "uBQZ-otplXhV"
      },
      "source": [
        "def months_of_year(num):\n",
        "    if num == 1:\n",
        "        return \"January\"\n",
        "    elif num == 2:\n",
        "        return \"February\"\n",
        "    elif num == 3:\n",
        "        return \"March\"\n",
        "    elif num == 4:\n",
        "        return \"April\"\n",
        "    elif num == 5:\n",
        "        return \"May\"\n",
        "    elif num == 6:\n",
        "        return \"June\"\n",
        "    elif num == 7:\n",
        "        return \"July\"\n",
        "    elif num == 8:\n",
        "        return \"August\"\n",
        "    elif num == 9:\n",
        "        return \"September\"\n",
        "    elif num == 10:\n",
        "        return \"October\"\n",
        "    elif num == 11:\n",
        "        return \"November\"\n",
        "    elif num == 12:\n",
        "        return \"December\"\n",
        "    else:\n",
        "        return \"\"\n"
      ],
      "execution_count": 18,
      "outputs": []
    },
    {
      "cell_type": "markdown",
      "metadata": {
        "id": "w4PYn6-vx3if"
      },
      "source": [
        "### Example: Ready to Lecture (part 2)\n",
        "\n",
        "Consider the [Getting Ready to Lecture](#eg_ready_to_lecture_cell) example.\n",
        "\n",
        "1. Write tests to check whether or not your code was correct.\n",
        "2. Convert your code into a function which takes in booleans and returns a string.\n",
        "3. Run your tests on your code.\n",
        "\n",
        "This example makes it clear, how much easier it is to test every possible condition, rather than changing the value of the variables with the code."
      ]
    },
    {
      "cell_type": "code",
      "source": [
        "# on_time, bed_made, water\n",
        "assert ready_to_lecture(True, True, True) == \"Ready to lecture.\"\n",
        "assert ready_to_lecture(True, True, False) == \"Go get water bottle.\"\n",
        "assert ready_to_lecture(True, False, True) == \"Go make your bed.\"\n",
        "assert ready_to_lecture(True, False, False) == \"Go make your bed.\"\n",
        "assert ready_to_lecture(False, True, True) == \"Ready to lecture.\"\n",
        "assert ready_to_lecture(False, True, False) == \"No time to get ready. Start lecturing now.\"\n",
        "assert ready_to_lecture(False, False, True) == \"No time to get ready. Start lecturing now.\"\n",
        "assert ready_to_lecture(False, False, False) == \"No time to get ready. Start lecturing now.\""
      ],
      "metadata": {
        "id": "9tP4qW10zYZ1"
      },
      "execution_count": 30,
      "outputs": []
    },
    {
      "cell_type": "code",
      "metadata": {
        "id": "mWrenjVay-_n"
      },
      "source": [
        "def ready_to_lecture(on_time, bed_made, bottle):\n",
        "\n",
        "    if bed_made and bottle:\n",
        "        return \"Ready to lecture.\"\n",
        "    else:\n",
        "        if on_time:\n",
        "            if not bed_made:\n",
        "                return \"Go make your bed.\"\n",
        "            if not bottle:\n",
        "                return \"Go get water bottle.\"\n",
        "        else:\n",
        "            return \"No time to get ready. Start lecturing now.\""
      ],
      "execution_count": 29,
      "outputs": []
    }
  ]
}