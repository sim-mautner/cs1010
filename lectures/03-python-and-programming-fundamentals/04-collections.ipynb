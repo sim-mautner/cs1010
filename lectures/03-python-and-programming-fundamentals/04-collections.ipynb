{
  "nbformat": 4,
  "nbformat_minor": 0,
  "metadata": {
    "colab": {
      "name": "04-collections.ipynb",
      "provenance": [],
      "toc_visible": true,
      "authorship_tag": "ABX9TyNPaTgackpWZgAG7gjlEM+h",
      "include_colab_link": true
    },
    "kernelspec": {
      "name": "python3",
      "display_name": "Python 3"
    },
    "language_info": {
      "name": "python"
    }
  },
  "cells": [
    {
      "cell_type": "markdown",
      "metadata": {
        "id": "view-in-github",
        "colab_type": "text"
      },
      "source": [
        "<a href=\"https://colab.research.google.com/github/sim-mautner/cs1010/blob/main/lectures/03-python-and-programming-fundamentals/04-collections.ipynb\" target=\"_parent\"><img src=\"https://colab.research.google.com/assets/colab-badge.svg\" alt=\"Open In Colab\"/></a>"
      ]
    },
    {
      "cell_type": "markdown",
      "metadata": {
        "id": "DZASYuPR5kI3"
      },
      "source": [
        "> Topic 3<br>\n",
        "> Python and Programming Fundamentals<br>\n",
        "> COMP1010<br>\n",
        "> Week 1-3\n",
        "\n",
        "> Topic 3.4<br>\n",
        "> Collections"
      ]
    },
    {
      "cell_type": "markdown",
      "metadata": {
        "id": "RaeMy89GiFLU"
      },
      "source": [
        "# 1 - Lists\n"
      ]
    },
    {
      "cell_type": "markdown",
      "metadata": {
        "id": "HUeCv4hAugmM"
      },
      "source": [
        "You have 4 students in the class. Create variables to store their project grades."
      ]
    },
    {
      "cell_type": "code",
      "metadata": {
        "id": "9aOzh4rdupjV"
      },
      "source": [
        "student1 = 90\n",
        "student2 = 87\n",
        "student3 = 95\n",
        "student4 = 76"
      ],
      "execution_count": null,
      "outputs": []
    },
    {
      "cell_type": "markdown",
      "metadata": {
        "id": "k1M9jmPNup-v"
      },
      "source": [
        "What happens when you have 10 students in the class? Or 100? I hear there's at least one COMP course with 1000 students.\n",
        "\n",
        "Lists are:\n",
        "* Used to store multiple items in one variable\n",
        "* Created using square brackets (eg `my_list = []`)\n",
        "* Ordered\n",
        "* Changeable\n",
        "* Allow duplicate values\n",
        "\n",
        "As always (in Python), lists are indexed from 0."
      ]
    },
    {
      "cell_type": "markdown",
      "metadata": {
        "id": "bk5LeZx1w86r"
      },
      "source": [
        "Create a list. (Topic suggestions welcome in chat.)"
      ]
    },
    {
      "cell_type": "code",
      "metadata": {
        "id": "rg87Uv7GxB5N"
      },
      "source": [
        "insects = []"
      ],
      "execution_count": null,
      "outputs": []
    },
    {
      "cell_type": "markdown",
      "metadata": {
        "id": "LW4qFumaxCMB"
      },
      "source": [
        "Print the list."
      ]
    },
    {
      "cell_type": "code",
      "metadata": {
        "id": "z6dzDLfUxDro",
        "outputId": "5348e7be-8ea8-4749-fa7d-ad582bf405f9",
        "colab": {
          "base_uri": "https://localhost:8080/"
        }
      },
      "source": [
        "print(insects)"
      ],
      "execution_count": null,
      "outputs": [
        {
          "output_type": "stream",
          "name": "stdout",
          "text": [
            "[]\n"
          ]
        }
      ]
    },
    {
      "cell_type": "code",
      "source": [
        "insects = ['cricket', 'ladybug', 'ant']"
      ],
      "metadata": {
        "id": "HlXJQLT815FD"
      },
      "execution_count": null,
      "outputs": []
    },
    {
      "cell_type": "code",
      "source": [
        "print(insects)"
      ],
      "metadata": {
        "id": "-qdtFbC119zZ",
        "outputId": "e26db6ba-0838-4c0c-e632-5920562fc71c",
        "colab": {
          "base_uri": "https://localhost:8080/"
        }
      },
      "execution_count": null,
      "outputs": [
        {
          "output_type": "stream",
          "name": "stdout",
          "text": [
            "['cricket', 'ladybug', 'ant']\n"
          ]
        }
      ]
    },
    {
      "cell_type": "markdown",
      "metadata": {
        "id": "6f_HAVrixD6C"
      },
      "source": [
        "Append (add to the end) an element to the list. (And print it again.)"
      ]
    },
    {
      "cell_type": "code",
      "metadata": {
        "id": "XdekkgFAxHUC",
        "outputId": "5f51de8d-4b99-48c5-a27a-434eb28306bf",
        "colab": {
          "base_uri": "https://localhost:8080/"
        }
      },
      "source": [
        "insects.append('grasshopper')\n",
        "print(insects)"
      ],
      "execution_count": null,
      "outputs": [
        {
          "output_type": "stream",
          "name": "stdout",
          "text": [
            "['cricket', 'ladybug', 'ant', 'grasshopper']\n"
          ]
        }
      ]
    },
    {
      "cell_type": "markdown",
      "metadata": {
        "id": "voyImQ32xHh9"
      },
      "source": [
        "Print out the length of the list."
      ]
    },
    {
      "cell_type": "code",
      "metadata": {
        "id": "9yIMJl71xOxc",
        "outputId": "e74c9181-5377-4042-eb50-c5c3875e668f",
        "colab": {
          "base_uri": "https://localhost:8080/"
        }
      },
      "source": [
        "print(len(insects))"
      ],
      "execution_count": null,
      "outputs": [
        {
          "output_type": "stream",
          "name": "stdout",
          "text": [
            "4\n"
          ]
        }
      ]
    },
    {
      "cell_type": "markdown",
      "metadata": {
        "id": "VkORFqtgxO_Z"
      },
      "source": [
        "Add some more elements to the list (using `append` and `insert`). Sort the list. (And print it again.)"
      ]
    },
    {
      "cell_type": "code",
      "metadata": {
        "id": "NOOvVMV3xVVo",
        "outputId": "28354eb3-d402-4364-e065-e2432b1d3629",
        "colab": {
          "base_uri": "https://localhost:8080/"
        }
      },
      "source": [
        "insects.insert(0,'praying mantis')\n",
        "print(insects)"
      ],
      "execution_count": null,
      "outputs": [
        {
          "output_type": "stream",
          "name": "stdout",
          "text": [
            "['praying mantis', 'cricket', 'ladybug', 'ant', 'grasshopper']\n"
          ]
        }
      ]
    },
    {
      "cell_type": "code",
      "source": [
        "insects.sort()\n",
        "print(insects)"
      ],
      "metadata": {
        "id": "9Fxc0KlP2fr2",
        "outputId": "245159e4-feca-48bd-8646-f7d8c7d556d9",
        "colab": {
          "base_uri": "https://localhost:8080/"
        }
      },
      "execution_count": null,
      "outputs": [
        {
          "output_type": "stream",
          "name": "stdout",
          "text": [
            "['ant', 'cricket', 'grasshopper', 'ladybug', 'praying mantis']\n"
          ]
        }
      ]
    },
    {
      "cell_type": "markdown",
      "metadata": {
        "id": "wCJ1e5zF2_aS"
      },
      "source": [
        "Can we sort the list backwards?"
      ]
    },
    {
      "cell_type": "code",
      "metadata": {
        "id": "ELI6p-973CNB",
        "outputId": "24a48321-1d34-4e9b-f5b1-26b87d45595d",
        "colab": {
          "base_uri": "https://localhost:8080/"
        }
      },
      "source": [
        "insects.sort(reverse=True)\n",
        "print(insects)"
      ],
      "execution_count": null,
      "outputs": [
        {
          "output_type": "stream",
          "name": "stdout",
          "text": [
            "['praying mantis', 'ladybug', 'grasshopper', 'cricket', 'ant']\n"
          ]
        }
      ]
    },
    {
      "cell_type": "markdown",
      "metadata": {
        "id": "PEcj09doxVho"
      },
      "source": [
        "Count the number of times an element occurs in the list."
      ]
    },
    {
      "cell_type": "code",
      "metadata": {
        "id": "VWcz8liqxbRx",
        "outputId": "b1f917b9-1151-45b7-f5f4-45a5fba27532",
        "colab": {
          "base_uri": "https://localhost:8080/"
        }
      },
      "source": [
        "insects.append('ladybug')\n",
        "print(f\"ladybug occurs {insects.count('ladybug')} times.\")\n",
        "print(f\"locusts occurs {insects.count('locusts')} times.\")"
      ],
      "execution_count": null,
      "outputs": [
        {
          "output_type": "stream",
          "name": "stdout",
          "text": [
            "ladybug occurs 2 times.\n",
            "locusts occurs 0 times.\n"
          ]
        }
      ]
    },
    {
      "cell_type": "markdown",
      "metadata": {
        "id": "eQyuUSomxajH"
      },
      "source": [
        "Print out the element at index 2."
      ]
    },
    {
      "cell_type": "code",
      "source": [
        "print(insects)"
      ],
      "metadata": {
        "id": "osu8g_g33ERG",
        "outputId": "21267215-0331-4c91-97ea-aae6cf2c356a",
        "colab": {
          "base_uri": "https://localhost:8080/"
        }
      },
      "execution_count": null,
      "outputs": [
        {
          "output_type": "stream",
          "name": "stdout",
          "text": [
            "['praying mantis', 'ladybug', 'grasshopper', 'cricket', 'ant', 'ladybug']\n"
          ]
        }
      ]
    },
    {
      "cell_type": "code",
      "metadata": {
        "id": "JKJUW7KSxfSn",
        "outputId": "12be8ecb-6c56-4e1d-e727-c6afb90241bf",
        "colab": {
          "base_uri": "https://localhost:8080/"
        }
      },
      "source": [
        "print(insects[2])"
      ],
      "execution_count": null,
      "outputs": [
        {
          "output_type": "stream",
          "name": "stdout",
          "text": [
            "grasshopper\n"
          ]
        }
      ]
    },
    {
      "cell_type": "markdown",
      "metadata": {
        "id": "AVRzoOUsKFx-"
      },
      "source": [
        "What happens if we try to print (or access, or assign) an index which is larger than the length of the list?"
      ]
    },
    {
      "cell_type": "code",
      "metadata": {
        "id": "D6LgrhIbKMoz",
        "outputId": "265fdcc4-1730-45a6-e181-712ef6c29233",
        "colab": {
          "base_uri": "https://localhost:8080/",
          "height": 168
        }
      },
      "source": [
        "print(insects[10])"
      ],
      "execution_count": null,
      "outputs": [
        {
          "output_type": "error",
          "ename": "IndexError",
          "evalue": "ignored",
          "traceback": [
            "\u001b[0;31m---------------------------------------------------------------------------\u001b[0m",
            "\u001b[0;31mIndexError\u001b[0m                                Traceback (most recent call last)",
            "\u001b[0;32m<ipython-input-14-ee5d3401944b>\u001b[0m in \u001b[0;36m<module>\u001b[0;34m()\u001b[0m\n\u001b[0;32m----> 1\u001b[0;31m \u001b[0mprint\u001b[0m\u001b[0;34m(\u001b[0m\u001b[0minsects\u001b[0m\u001b[0;34m[\u001b[0m\u001b[0;36m10\u001b[0m\u001b[0;34m]\u001b[0m\u001b[0;34m)\u001b[0m\u001b[0;34m\u001b[0m\u001b[0;34m\u001b[0m\u001b[0m\n\u001b[0m",
            "\u001b[0;31mIndexError\u001b[0m: list index out of range"
          ]
        }
      ]
    },
    {
      "cell_type": "code",
      "source": [
        "print(len(insects))"
      ],
      "metadata": {
        "id": "F8aA6zYh3Lqi",
        "outputId": "6f821df9-c6ad-47f3-89cf-325e710a973b",
        "colab": {
          "base_uri": "https://localhost:8080/"
        }
      },
      "execution_count": null,
      "outputs": [
        {
          "output_type": "stream",
          "name": "stdout",
          "text": [
            "6\n"
          ]
        }
      ]
    },
    {
      "cell_type": "markdown",
      "metadata": {
        "id": "0c-uAIBoxe1H"
      },
      "source": [
        "Change the element at index 1 to be different. Print the list again."
      ]
    },
    {
      "cell_type": "code",
      "metadata": {
        "id": "0FQoRCYzxa3e",
        "outputId": "926fc6d0-21c6-4894-ac7c-cfd13310a2f2",
        "colab": {
          "base_uri": "https://localhost:8080/"
        }
      },
      "source": [
        "insects[1] = \"beetle\"\n",
        "print(insects)"
      ],
      "execution_count": null,
      "outputs": [
        {
          "output_type": "stream",
          "name": "stdout",
          "text": [
            "['praying mantis', 'beetle', 'grasshopper', 'cricket', 'ant', 'ladybug']\n"
          ]
        }
      ]
    },
    {
      "cell_type": "markdown",
      "metadata": {
        "id": "iegUWlUmzZIe"
      },
      "source": [
        "Remove some elements from the list. (Removing by element, popping by index.) (Printing the list each time.) Remove by element and by index."
      ]
    },
    {
      "cell_type": "code",
      "metadata": {
        "id": "GFfXBgzyzyRu",
        "outputId": "013e83ad-8dfc-406c-f085-35256344c52f",
        "colab": {
          "base_uri": "https://localhost:8080/"
        }
      },
      "source": [
        "insects.pop()\n",
        "print(insects)"
      ],
      "execution_count": null,
      "outputs": [
        {
          "output_type": "stream",
          "name": "stdout",
          "text": [
            "['praying mantis', 'beetle', 'grasshopper', 'cricket', 'ant']\n"
          ]
        }
      ]
    },
    {
      "cell_type": "code",
      "source": [
        "insects.remove('beetle')\n",
        "print(insects)"
      ],
      "metadata": {
        "id": "3E9jSI0R3apR",
        "outputId": "4478df0e-9e32-43c4-a8ef-0970b44642e8",
        "colab": {
          "base_uri": "https://localhost:8080/"
        }
      },
      "execution_count": null,
      "outputs": [
        {
          "output_type": "stream",
          "name": "stdout",
          "text": [
            "['praying mantis', 'grasshopper', 'cricket', 'ant']\n"
          ]
        }
      ]
    },
    {
      "cell_type": "code",
      "source": [
        "insects.pop(2)\n",
        "print(insects)"
      ],
      "metadata": {
        "id": "16ReyP463ui3",
        "outputId": "f096b391-0abc-4eb0-e2b1-4694018f9582",
        "colab": {
          "base_uri": "https://localhost:8080/"
        }
      },
      "execution_count": null,
      "outputs": [
        {
          "output_type": "stream",
          "name": "stdout",
          "text": [
            "['praying mantis', 'grasshopper', 'ant']\n"
          ]
        }
      ]
    },
    {
      "cell_type": "markdown",
      "metadata": {
        "id": "PkHrOJCGxlfS"
      },
      "source": [
        "Clear the list. (And print it again.)"
      ]
    },
    {
      "cell_type": "code",
      "metadata": {
        "id": "SrYAu8LFyeE8",
        "outputId": "aec55863-f663-454d-a957-1b80141993ff",
        "colab": {
          "base_uri": "https://localhost:8080/"
        }
      },
      "source": [
        "insects.clear()\n",
        "print(insects)"
      ],
      "execution_count": null,
      "outputs": [
        {
          "output_type": "stream",
          "name": "stdout",
          "text": [
            "[]\n"
          ]
        }
      ]
    },
    {
      "cell_type": "markdown",
      "metadata": {
        "id": "HdDMv-Dmjplx"
      },
      "source": [
        "Lists are also handy in some other situations. For example, can we use use a list to simplify our [months of the year](#eg_months_cell) example?\n"
      ]
    },
    {
      "cell_type": "code",
      "metadata": {
        "id": "DWDwbR85lX1t"
      },
      "source": [
        "assert months_of_year(1) == \"January\"\n",
        "assert months_of_year(2) == \"February\"\n",
        "assert months_of_year(3) == \"March\"\n",
        "assert months_of_year(4) == \"April\"\n",
        "assert months_of_year(5) == \"May\"\n",
        "assert months_of_year(6) == \"June\"\n",
        "assert months_of_year(7) == \"July\"\n",
        "assert months_of_year(8) == \"August\"\n",
        "assert months_of_year(9) == \"September\"\n",
        "assert months_of_year(10) == \"October\"\n",
        "assert months_of_year(11) == \"November\"\n",
        "assert months_of_year(12) == \"December\"\n",
        "assert months_of_year(13) == \"\"\n",
        "assert months_of_year(\"hi\") == \"\""
      ],
      "execution_count": null,
      "outputs": []
    },
    {
      "cell_type": "code",
      "metadata": {
        "id": "ClhVtCO6uf_C"
      },
      "source": [
        "def months_of_year(num):\n",
        "    months = [\"\", \"January\", \"February\", \"March\",\\\n",
        "              \"April\", \"May\", \"June\",\\\n",
        "              \"July\", \"August\", \"September\",\\\n",
        "              \"October\", \"November\", \"December\"]\n",
        "    if isinstance(num, int) and num >= 1 and num <= 12:\n",
        "        return months[num]\n",
        "    else:\n",
        "        return \"\""
      ],
      "execution_count": null,
      "outputs": []
    },
    {
      "cell_type": "markdown",
      "metadata": {
        "id": "n1h5s_Nf2Ghn"
      },
      "source": [
        "Can we find out if an element is in the list? (Without searching through the list one by one.)"
      ]
    },
    {
      "cell_type": "code",
      "metadata": {
        "id": "h6FE_Ydu2aLl"
      },
      "source": [
        "months = [\"\", \"January\", \"February\", \"March\",\\\n",
        "              \"April\", \"May\", \"June\",\\\n",
        "              \"July\", \"August\", \"September\",\\\n",
        "              \"October\", \"November\", \"December\"]\n"
      ],
      "execution_count": null,
      "outputs": []
    },
    {
      "cell_type": "code",
      "source": [
        "print(\"January\" in months)"
      ],
      "metadata": {
        "id": "Vo7FuY6O5Bos",
        "outputId": "9eddfba9-f534-49cb-f866-e1d2ad48ebbe",
        "colab": {
          "base_uri": "https://localhost:8080/"
        }
      },
      "execution_count": null,
      "outputs": [
        {
          "output_type": "stream",
          "name": "stdout",
          "text": [
            "True\n"
          ]
        }
      ]
    },
    {
      "cell_type": "code",
      "source": [
        "if \"Tomorrow\" in months:\n",
        "    print(\"It's there.\")\n",
        "else:\n",
        "    print(\"It's not there.\")"
      ],
      "metadata": {
        "id": "9M0V2TWs5GL4",
        "outputId": "30257249-0cc6-444b-8d8b-9aa11644b15e",
        "colab": {
          "base_uri": "https://localhost:8080/"
        }
      },
      "execution_count": null,
      "outputs": [
        {
          "output_type": "stream",
          "name": "stdout",
          "text": [
            "It's not there.\n"
          ]
        }
      ]
    },
    {
      "cell_type": "markdown",
      "metadata": {
        "id": "6Cne1Az42sQP"
      },
      "source": [
        "Can we loop through the list one by one?"
      ]
    },
    {
      "cell_type": "code",
      "metadata": {
        "id": "Qw3_2DVz25oL",
        "outputId": "936163d9-7347-4816-85ed-438c93795ccd",
        "colab": {
          "base_uri": "https://localhost:8080/"
        }
      },
      "source": [
        "for month in months:\n",
        "    print(month)"
      ],
      "execution_count": null,
      "outputs": [
        {
          "output_type": "stream",
          "name": "stdout",
          "text": [
            "\n",
            "January\n",
            "February\n",
            "March\n",
            "April\n",
            "May\n",
            "June\n",
            "July\n",
            "August\n",
            "September\n",
            "October\n",
            "November\n",
            "December\n"
          ]
        }
      ]
    },
    {
      "cell_type": "markdown",
      "metadata": {
        "id": "y8G0n6U43Mls"
      },
      "source": [
        "Can we join two lists together? (aka What happens when we + two lists?)"
      ]
    },
    {
      "cell_type": "code",
      "metadata": {
        "id": "xKc-75uZ3RuI",
        "outputId": "eb14f489-43df-4ae8-f186-da06d4ad22b7",
        "colab": {
          "base_uri": "https://localhost:8080/"
        }
      },
      "source": [
        "list1 = ['hi', 'there']\n",
        "list2 = ['my', 'name', 'is', 'Sim']\n",
        "list3 = list1 + list2\n",
        "print(list3)"
      ],
      "execution_count": null,
      "outputs": [
        {
          "output_type": "stream",
          "name": "stdout",
          "text": [
            "['hi', 'there', 'my', 'name', 'is', 'Sim']\n"
          ]
        }
      ]
    },
    {
      "cell_type": "markdown",
      "metadata": {
        "id": "YvnK2MFF4fCj"
      },
      "source": [
        "Can lists contain lists? How would we access it? How would we print it?"
      ]
    },
    {
      "cell_type": "code",
      "metadata": {
        "id": "rQn3E3zK4mmx"
      },
      "source": [
        "courses = [\n",
        "           ['MATH1231', 'MATH1241', 'MATH2111'],\n",
        "           ['COMP1010', 'COMP2111'],\n",
        "           ['FINs3645', 'FINS3648'],\n",
        "           ['PHYS1101']\n",
        "]"
      ],
      "execution_count": null,
      "outputs": []
    },
    {
      "cell_type": "code",
      "source": [
        "print(courses[0])"
      ],
      "metadata": {
        "id": "LQpmpBi859vJ",
        "outputId": "1dc5d75c-18a2-4089-9b26-d3abfb6f3bcf",
        "colab": {
          "base_uri": "https://localhost:8080/"
        }
      },
      "execution_count": null,
      "outputs": [
        {
          "output_type": "stream",
          "name": "stdout",
          "text": [
            "['MATH1231', 'MATH1241', 'MATH2111']\n"
          ]
        }
      ]
    },
    {
      "cell_type": "code",
      "source": [
        "print(courses[1])"
      ],
      "metadata": {
        "id": "sFbnNr_Q6Avi",
        "outputId": "971dd7ef-c607-4709-cc77-b6886a55fc79",
        "colab": {
          "base_uri": "https://localhost:8080/"
        }
      },
      "execution_count": null,
      "outputs": [
        {
          "output_type": "stream",
          "name": "stdout",
          "text": [
            "['COMP1010', 'COMP2111']\n"
          ]
        }
      ]
    },
    {
      "cell_type": "code",
      "source": [
        "print(courses[0][0])"
      ],
      "metadata": {
        "id": "uhTQ-A4s6DCC",
        "outputId": "1023943f-589c-443b-ef38-b2ff5e7d970b",
        "colab": {
          "base_uri": "https://localhost:8080/"
        }
      },
      "execution_count": null,
      "outputs": [
        {
          "output_type": "stream",
          "name": "stdout",
          "text": [
            "MATH1231\n"
          ]
        }
      ]
    },
    {
      "cell_type": "code",
      "source": [
        "for faculty in courses:\n",
        "    #print(faculty)\n",
        "    for course in faculty:\n",
        "        print(course)\n",
        "    print() # just prints a newline"
      ],
      "metadata": {
        "id": "iapKnEBz6IKi",
        "outputId": "34e41ed5-eafb-4415-fab7-7b40f974d764",
        "colab": {
          "base_uri": "https://localhost:8080/"
        }
      },
      "execution_count": null,
      "outputs": [
        {
          "output_type": "stream",
          "name": "stdout",
          "text": [
            "MATH1231\n",
            "MATH1241\n",
            "MATH2111\n",
            "\n",
            "COMP1010\n",
            "COMP2111\n",
            "\n",
            "FINs3645\n",
            "FINS3648\n",
            "\n",
            "PHYS1101\n",
            "\n"
          ]
        }
      ]
    },
    {
      "cell_type": "markdown",
      "metadata": {
        "id": "I0HJz1_StemU"
      },
      "source": [
        "Could we make the game Tic Tac Toe?"
      ]
    },
    {
      "cell_type": "code",
      "metadata": {
        "id": "QnG3Tp6ptg58",
        "colab": {
          "base_uri": "https://localhost:8080/",
          "height": 1000
        },
        "outputId": "ccb76c06-3a18-4424-b837-7f8c91226b33"
      },
      "source": [
        "def print_board(board):\n",
        "    print('   A  B  C')\n",
        "    row_num = 1\n",
        "    for row in board:\n",
        "        # print a row\n",
        "        print(f'{row_num}  ',end='')\n",
        "        row_num += 1\n",
        "        for cell in row:\n",
        "            print(cell,end='  ')\n",
        "        print() # goes onto the next line\n",
        "        \n",
        "def convert_col_letter(col):\n",
        "    # A --> 1\n",
        "    # B --> 2\n",
        "    # C --> 3\n",
        "    if col == 'A':\n",
        "        return 1\n",
        "    if col == 'B':\n",
        "        return 2\n",
        "    if col == 'C':\n",
        "        return 3\n",
        "\n",
        "\n",
        "\n",
        "def tic_tac_toe():\n",
        "    board = [\n",
        "             [' ',' ',' '],\n",
        "             [' ',' ',' '],\n",
        "             [' ',' ',' ']\n",
        "    ]\n",
        "\n",
        "    print_board(board)\n",
        "    player_turn = 'X'\n",
        "\n",
        "\n",
        "    finished = False\n",
        "\n",
        "    while not finished:\n",
        "        col = input(\"Enter column letter: \")\n",
        "        col_num = convert_col_letter(col) - 1\n",
        "\n",
        "        row_num = int(input(\"Enter row num: \")) - 1\n",
        "        \n",
        "\n",
        "        print(f\"Your move {row_num} {col_num}\")\n",
        "        \n",
        "        # TODO check if move is valid (eg on the board and not in a taken cell)\n",
        "        # keep getting input until valid\n",
        "        board[row_num][col_num] = player_turn\n",
        "\n",
        "        print_board(board)\n",
        "\n",
        "        # change player\n",
        "        if player_turn == 'X':\n",
        "            player_turn = 'O'\n",
        "        else:\n",
        "            player_turn = 'X'\n",
        "        \n",
        "        # TODO check if game is finished, and update finished (declare a winner)\n",
        "    \n",
        "\n",
        "\n",
        "tic_tac_toe()"
      ],
      "execution_count": 15,
      "outputs": [
        {
          "output_type": "stream",
          "name": "stdout",
          "text": [
            "   A  B  C\n",
            "1           \n",
            "2           \n",
            "3           \n",
            "Enter column letter: A\n",
            "Enter row num: 3\n",
            "Your move 2 0\n",
            "   A  B  C\n",
            "1           \n",
            "2           \n",
            "3  X        \n",
            "Enter column letter: B\n",
            "Enter row num: 2\n",
            "Your move 1 1\n",
            "   A  B  C\n",
            "1           \n",
            "2     O     \n",
            "3  X        \n",
            "Enter column letter: C\n",
            "Enter row num: 1\n",
            "Your move 0 2\n",
            "   A  B  C\n",
            "1        X  \n",
            "2     O     \n",
            "3  X        \n",
            "Enter column letter: B\n",
            "Enter row num: 3\n",
            "Your move 2 1\n",
            "   A  B  C\n",
            "1        X  \n",
            "2     O     \n",
            "3  X  O     \n",
            "Enter column letter: B\n",
            "Enter row num: 1\n",
            "Your move 0 1\n",
            "   A  B  C\n",
            "1     X  X  \n",
            "2     O     \n",
            "3  X  O     \n",
            "Enter column letter: A\n",
            "Enter row num: 1\n",
            "Your move 0 0\n",
            "   A  B  C\n",
            "1  O  X  X  \n",
            "2     O     \n",
            "3  X  O     \n",
            "Enter column letter: C\n",
            "Enter row num: 3\n",
            "Your move 2 2\n",
            "   A  B  C\n",
            "1  O  X  X  \n",
            "2     O     \n",
            "3  X  O  X  \n",
            "Enter column letter: C\n",
            "Enter row num: 2\n",
            "Your move 1 2\n",
            "   A  B  C\n",
            "1  O  X  X  \n",
            "2     O  O  \n",
            "3  X  O  X  \n",
            "Enter column letter: A\n",
            "Enter row num: 2\n",
            "Your move 1 0\n",
            "   A  B  C\n",
            "1  O  X  X  \n",
            "2  X  O  O  \n",
            "3  X  O  X  \n",
            "Enter column letter: C\n",
            "Enter row num: 1\n",
            "Your move 0 2\n",
            "   A  B  C\n",
            "1  O  X  O  \n",
            "2  X  O  O  \n",
            "3  X  O  X  \n"
          ]
        },
        {
          "output_type": "error",
          "ename": "KeyboardInterrupt",
          "evalue": "ignored",
          "traceback": [
            "\u001b[0;31m---------------------------------------------------------------------------\u001b[0m",
            "\u001b[0;31mKeyboardInterrupt\u001b[0m                         Traceback (most recent call last)",
            "\u001b[0;32m/usr/local/lib/python3.7/dist-packages/ipykernel/kernelbase.py\u001b[0m in \u001b[0;36m_input_request\u001b[0;34m(self, prompt, ident, parent, password)\u001b[0m\n\u001b[1;32m    728\u001b[0m             \u001b[0;32mtry\u001b[0m\u001b[0;34m:\u001b[0m\u001b[0;34m\u001b[0m\u001b[0;34m\u001b[0m\u001b[0m\n\u001b[0;32m--> 729\u001b[0;31m                 \u001b[0mident\u001b[0m\u001b[0;34m,\u001b[0m \u001b[0mreply\u001b[0m \u001b[0;34m=\u001b[0m \u001b[0mself\u001b[0m\u001b[0;34m.\u001b[0m\u001b[0msession\u001b[0m\u001b[0;34m.\u001b[0m\u001b[0mrecv\u001b[0m\u001b[0;34m(\u001b[0m\u001b[0mself\u001b[0m\u001b[0;34m.\u001b[0m\u001b[0mstdin_socket\u001b[0m\u001b[0;34m,\u001b[0m \u001b[0;36m0\u001b[0m\u001b[0;34m)\u001b[0m\u001b[0;34m\u001b[0m\u001b[0;34m\u001b[0m\u001b[0m\n\u001b[0m\u001b[1;32m    730\u001b[0m             \u001b[0;32mexcept\u001b[0m \u001b[0mException\u001b[0m\u001b[0;34m:\u001b[0m\u001b[0;34m\u001b[0m\u001b[0;34m\u001b[0m\u001b[0m\n",
            "\u001b[0;32m/usr/local/lib/python3.7/dist-packages/jupyter_client/session.py\u001b[0m in \u001b[0;36mrecv\u001b[0;34m(self, socket, mode, content, copy)\u001b[0m\n\u001b[1;32m    802\u001b[0m         \u001b[0;32mtry\u001b[0m\u001b[0;34m:\u001b[0m\u001b[0;34m\u001b[0m\u001b[0;34m\u001b[0m\u001b[0m\n\u001b[0;32m--> 803\u001b[0;31m             \u001b[0mmsg_list\u001b[0m \u001b[0;34m=\u001b[0m \u001b[0msocket\u001b[0m\u001b[0;34m.\u001b[0m\u001b[0mrecv_multipart\u001b[0m\u001b[0;34m(\u001b[0m\u001b[0mmode\u001b[0m\u001b[0;34m,\u001b[0m \u001b[0mcopy\u001b[0m\u001b[0;34m=\u001b[0m\u001b[0mcopy\u001b[0m\u001b[0;34m)\u001b[0m\u001b[0;34m\u001b[0m\u001b[0;34m\u001b[0m\u001b[0m\n\u001b[0m\u001b[1;32m    804\u001b[0m         \u001b[0;32mexcept\u001b[0m \u001b[0mzmq\u001b[0m\u001b[0;34m.\u001b[0m\u001b[0mZMQError\u001b[0m \u001b[0;32mas\u001b[0m \u001b[0me\u001b[0m\u001b[0;34m:\u001b[0m\u001b[0;34m\u001b[0m\u001b[0;34m\u001b[0m\u001b[0m\n",
            "\u001b[0;32m/usr/local/lib/python3.7/dist-packages/zmq/sugar/socket.py\u001b[0m in \u001b[0;36mrecv_multipart\u001b[0;34m(self, flags, copy, track)\u001b[0m\n\u001b[1;32m    726\u001b[0m         \"\"\"\n\u001b[0;32m--> 727\u001b[0;31m         \u001b[0mparts\u001b[0m \u001b[0;34m=\u001b[0m \u001b[0;34m[\u001b[0m\u001b[0mself\u001b[0m\u001b[0;34m.\u001b[0m\u001b[0mrecv\u001b[0m\u001b[0;34m(\u001b[0m\u001b[0mflags\u001b[0m\u001b[0;34m,\u001b[0m \u001b[0mcopy\u001b[0m\u001b[0;34m=\u001b[0m\u001b[0mcopy\u001b[0m\u001b[0;34m,\u001b[0m \u001b[0mtrack\u001b[0m\u001b[0;34m=\u001b[0m\u001b[0mtrack\u001b[0m\u001b[0;34m)\u001b[0m\u001b[0;34m]\u001b[0m\u001b[0;34m\u001b[0m\u001b[0;34m\u001b[0m\u001b[0m\n\u001b[0m\u001b[1;32m    728\u001b[0m         \u001b[0;31m# have first part already, only loop while more to receive\u001b[0m\u001b[0;34m\u001b[0m\u001b[0;34m\u001b[0m\u001b[0;34m\u001b[0m\u001b[0m\n",
            "\u001b[0;32mzmq/backend/cython/socket.pyx\u001b[0m in \u001b[0;36mzmq.backend.cython.socket.Socket.recv\u001b[0;34m()\u001b[0m\n",
            "\u001b[0;32mzmq/backend/cython/socket.pyx\u001b[0m in \u001b[0;36mzmq.backend.cython.socket.Socket.recv\u001b[0;34m()\u001b[0m\n",
            "\u001b[0;32mzmq/backend/cython/socket.pyx\u001b[0m in \u001b[0;36mzmq.backend.cython.socket._recv_copy\u001b[0;34m()\u001b[0m\n",
            "\u001b[0;32m/usr/local/lib/python3.7/dist-packages/zmq/backend/cython/checkrc.pxd\u001b[0m in \u001b[0;36mzmq.backend.cython.checkrc._check_rc\u001b[0;34m()\u001b[0m\n",
            "\u001b[0;31mKeyboardInterrupt\u001b[0m: ",
            "\nDuring handling of the above exception, another exception occurred:\n",
            "\u001b[0;31mKeyboardInterrupt\u001b[0m                         Traceback (most recent call last)",
            "\u001b[0;32m<ipython-input-15-01905ad8d8c6>\u001b[0m in \u001b[0;36m<module>\u001b[0;34m()\u001b[0m\n\u001b[1;32m     59\u001b[0m \u001b[0;34m\u001b[0m\u001b[0m\n\u001b[1;32m     60\u001b[0m \u001b[0;34m\u001b[0m\u001b[0m\n\u001b[0;32m---> 61\u001b[0;31m \u001b[0mtic_tac_toe\u001b[0m\u001b[0;34m(\u001b[0m\u001b[0;34m)\u001b[0m\u001b[0;34m\u001b[0m\u001b[0;34m\u001b[0m\u001b[0m\n\u001b[0m",
            "\u001b[0;32m<ipython-input-15-01905ad8d8c6>\u001b[0m in \u001b[0;36mtic_tac_toe\u001b[0;34m()\u001b[0m\n\u001b[1;32m     37\u001b[0m \u001b[0;34m\u001b[0m\u001b[0m\n\u001b[1;32m     38\u001b[0m     \u001b[0;32mwhile\u001b[0m \u001b[0;32mnot\u001b[0m \u001b[0mfinished\u001b[0m\u001b[0;34m:\u001b[0m\u001b[0;34m\u001b[0m\u001b[0;34m\u001b[0m\u001b[0m\n\u001b[0;32m---> 39\u001b[0;31m         \u001b[0mcol\u001b[0m \u001b[0;34m=\u001b[0m \u001b[0minput\u001b[0m\u001b[0;34m(\u001b[0m\u001b[0;34m\"Enter column letter: \"\u001b[0m\u001b[0;34m)\u001b[0m\u001b[0;34m\u001b[0m\u001b[0;34m\u001b[0m\u001b[0m\n\u001b[0m\u001b[1;32m     40\u001b[0m         \u001b[0mcol_num\u001b[0m \u001b[0;34m=\u001b[0m \u001b[0mconvert_col_letter\u001b[0m\u001b[0;34m(\u001b[0m\u001b[0mcol\u001b[0m\u001b[0;34m)\u001b[0m \u001b[0;34m-\u001b[0m \u001b[0;36m1\u001b[0m\u001b[0;34m\u001b[0m\u001b[0;34m\u001b[0m\u001b[0m\n\u001b[1;32m     41\u001b[0m \u001b[0;34m\u001b[0m\u001b[0m\n",
            "\u001b[0;32m/usr/local/lib/python3.7/dist-packages/ipykernel/kernelbase.py\u001b[0m in \u001b[0;36mraw_input\u001b[0;34m(self, prompt)\u001b[0m\n\u001b[1;32m    702\u001b[0m             \u001b[0mself\u001b[0m\u001b[0;34m.\u001b[0m\u001b[0m_parent_ident\u001b[0m\u001b[0;34m,\u001b[0m\u001b[0;34m\u001b[0m\u001b[0;34m\u001b[0m\u001b[0m\n\u001b[1;32m    703\u001b[0m             \u001b[0mself\u001b[0m\u001b[0;34m.\u001b[0m\u001b[0m_parent_header\u001b[0m\u001b[0;34m,\u001b[0m\u001b[0;34m\u001b[0m\u001b[0;34m\u001b[0m\u001b[0m\n\u001b[0;32m--> 704\u001b[0;31m             \u001b[0mpassword\u001b[0m\u001b[0;34m=\u001b[0m\u001b[0;32mFalse\u001b[0m\u001b[0;34m,\u001b[0m\u001b[0;34m\u001b[0m\u001b[0;34m\u001b[0m\u001b[0m\n\u001b[0m\u001b[1;32m    705\u001b[0m         )\n\u001b[1;32m    706\u001b[0m \u001b[0;34m\u001b[0m\u001b[0m\n",
            "\u001b[0;32m/usr/local/lib/python3.7/dist-packages/ipykernel/kernelbase.py\u001b[0m in \u001b[0;36m_input_request\u001b[0;34m(self, prompt, ident, parent, password)\u001b[0m\n\u001b[1;32m    732\u001b[0m             \u001b[0;32mexcept\u001b[0m \u001b[0mKeyboardInterrupt\u001b[0m\u001b[0;34m:\u001b[0m\u001b[0;34m\u001b[0m\u001b[0;34m\u001b[0m\u001b[0m\n\u001b[1;32m    733\u001b[0m                 \u001b[0;31m# re-raise KeyboardInterrupt, to truncate traceback\u001b[0m\u001b[0;34m\u001b[0m\u001b[0;34m\u001b[0m\u001b[0;34m\u001b[0m\u001b[0m\n\u001b[0;32m--> 734\u001b[0;31m                 \u001b[0;32mraise\u001b[0m \u001b[0mKeyboardInterrupt\u001b[0m\u001b[0;34m\u001b[0m\u001b[0;34m\u001b[0m\u001b[0m\n\u001b[0m\u001b[1;32m    735\u001b[0m             \u001b[0;32melse\u001b[0m\u001b[0;34m:\u001b[0m\u001b[0;34m\u001b[0m\u001b[0;34m\u001b[0m\u001b[0m\n\u001b[1;32m    736\u001b[0m                 \u001b[0;32mbreak\u001b[0m\u001b[0;34m\u001b[0m\u001b[0;34m\u001b[0m\u001b[0m\n",
            "\u001b[0;31mKeyboardInterrupt\u001b[0m: "
          ]
        }
      ]
    },
    {
      "cell_type": "markdown",
      "metadata": {
        "id": "_8aek9zMtjWc"
      },
      "source": [
        "How can we show that the order matters in a list?"
      ]
    },
    {
      "cell_type": "code",
      "metadata": {
        "id": "WoSMPbgstn6F",
        "colab": {
          "base_uri": "https://localhost:8080/",
          "height": 186
        },
        "outputId": "0666f36e-4ba9-42e0-c17a-e810aa338a8a"
      },
      "source": [
        "assert [1,2,3] == [1,2,3]\n",
        "assert [1,2,3] == [1,3,2]"
      ],
      "execution_count": 17,
      "outputs": [
        {
          "output_type": "error",
          "ename": "AssertionError",
          "evalue": "ignored",
          "traceback": [
            "\u001b[0;31m---------------------------------------------------------------------------\u001b[0m",
            "\u001b[0;31mAssertionError\u001b[0m                            Traceback (most recent call last)",
            "\u001b[0;32m<ipython-input-17-ce1492addff3>\u001b[0m in \u001b[0;36m<module>\u001b[0;34m()\u001b[0m\n\u001b[1;32m      1\u001b[0m \u001b[0;32massert\u001b[0m \u001b[0;34m[\u001b[0m\u001b[0;36m1\u001b[0m\u001b[0;34m,\u001b[0m\u001b[0;36m2\u001b[0m\u001b[0;34m,\u001b[0m\u001b[0;36m3\u001b[0m\u001b[0;34m]\u001b[0m \u001b[0;34m==\u001b[0m \u001b[0;34m[\u001b[0m\u001b[0;36m1\u001b[0m\u001b[0;34m,\u001b[0m\u001b[0;36m2\u001b[0m\u001b[0;34m,\u001b[0m\u001b[0;36m3\u001b[0m\u001b[0;34m]\u001b[0m\u001b[0;34m\u001b[0m\u001b[0;34m\u001b[0m\u001b[0m\n\u001b[0;32m----> 2\u001b[0;31m \u001b[0;32massert\u001b[0m \u001b[0;34m[\u001b[0m\u001b[0;36m1\u001b[0m\u001b[0;34m,\u001b[0m\u001b[0;36m2\u001b[0m\u001b[0;34m,\u001b[0m\u001b[0;36m3\u001b[0m\u001b[0;34m]\u001b[0m \u001b[0;34m==\u001b[0m \u001b[0;34m[\u001b[0m\u001b[0;36m1\u001b[0m\u001b[0;34m,\u001b[0m\u001b[0;36m3\u001b[0m\u001b[0;34m,\u001b[0m\u001b[0;36m2\u001b[0m\u001b[0;34m]\u001b[0m\u001b[0;34m\u001b[0m\u001b[0;34m\u001b[0m\u001b[0m\n\u001b[0m",
            "\u001b[0;31mAssertionError\u001b[0m: "
          ]
        }
      ]
    },
    {
      "cell_type": "markdown",
      "metadata": {
        "id": "6bFZtlVK567M"
      },
      "source": [
        "# 2 - A warning about loops\n",
        "\n",
        "Changing a list (or other collection), while looping over it, can cause unwanted results."
      ]
    },
    {
      "cell_type": "code",
      "metadata": {
        "id": "cRMvNKmA6PDy",
        "colab": {
          "base_uri": "https://localhost:8080/"
        },
        "outputId": "0c2eb997-4385-45f7-ec88-fa804a0b2822"
      },
      "source": [
        "shopping = ['apples', 'bananas', 'grapes', 'jelly', 'mandarins']\n",
        "for item in shopping:\n",
        "    print(item)\n",
        "    if item == 'bananas':\n",
        "        shopping.remove('bananas')"
      ],
      "execution_count": 19,
      "outputs": [
        {
          "output_type": "stream",
          "name": "stdout",
          "text": [
            "apples\n",
            "bananas\n",
            "jelly\n",
            "mandarins\n"
          ]
        }
      ]
    },
    {
      "cell_type": "markdown",
      "metadata": {
        "id": "eZqAulgMz2dj"
      },
      "source": [
        "# 3 - Dictionaries"
      ]
    },
    {
      "cell_type": "markdown",
      "metadata": {
        "id": "kbq1or8az6w6"
      },
      "source": [
        "In the real world, dictionaries let us look up *words* and find *meanings*.\n",
        "In Python, dictionaries let us look up *keys* and find *values*.\n",
        "\n",
        "Like a list, but with meaningful keys instead of indexes 0, 1, 2...\n",
        "\n",
        "| Dictionary Term | Python Term | Characteristic |\n",
        "|---|---|---|\n",
        "| Word | Key | Must be unique |\n",
        "| Meaning | Value | May be unique or not unique |\n",
        "\n",
        "\n",
        "\n"
      ]
    },
    {
      "cell_type": "markdown",
      "metadata": {
        "id": "U5BF1VcLWLmn"
      },
      "source": [
        "Create a dictionary mapping classes to tutor or lecturer."
      ]
    },
    {
      "cell_type": "code",
      "metadata": {
        "id": "Rxuh3oyZ8Nc0"
      },
      "source": [
        "classes = {\n",
        "    \"T13A\":\"Alicia\",\n",
        "    \"W11A\":\"Helen\",\n",
        "    \"W15A\":\"Will\",\n",
        "    \"H14A\":\"Ellie\"\n",
        "}"
      ],
      "execution_count": 24,
      "outputs": []
    },
    {
      "cell_type": "code",
      "source": [
        "print(classes)"
      ],
      "metadata": {
        "colab": {
          "base_uri": "https://localhost:8080/"
        },
        "id": "re-Y_O9R-fVy",
        "outputId": "9a8fc2f2-11fe-4653-faf3-84f5327d1ebe"
      },
      "execution_count": 25,
      "outputs": [
        {
          "output_type": "stream",
          "name": "stdout",
          "text": [
            "{'T13A': 'Alicia', 'W11A': 'Helen', 'W15A': 'Will', 'H14A': 'Ellie'}\n"
          ]
        }
      ]
    },
    {
      "cell_type": "markdown",
      "metadata": {
        "id": "qNXUH1KZ8NtW"
      },
      "source": [
        "Which tutor teaches H14A?"
      ]
    },
    {
      "cell_type": "code",
      "metadata": {
        "id": "Wh9N6fL28PRq",
        "colab": {
          "base_uri": "https://localhost:8080/",
          "height": 36
        },
        "outputId": "1ec1fa1b-5e8e-40d9-c9ac-94b6bf10538b"
      },
      "source": [
        "classes['H14A']"
      ],
      "execution_count": 21,
      "outputs": [
        {
          "output_type": "execute_result",
          "data": {
            "text/plain": [
              "'Ellie'"
            ],
            "application/vnd.google.colaboratory.intrinsic+json": {
              "type": "string"
            }
          },
          "metadata": {},
          "execution_count": 21
        }
      ]
    },
    {
      "cell_type": "markdown",
      "metadata": {
        "id": "c5VR6-uiWZkg"
      },
      "source": [
        "Can we add another class to the dictionary?"
      ]
    },
    {
      "cell_type": "code",
      "metadata": {
        "id": "4vGiJTroWeL1",
        "colab": {
          "base_uri": "https://localhost:8080/"
        },
        "outputId": "4489f465-effa-4c64-edf2-be8d998dca4d"
      },
      "source": [
        "classes['H15A'] = \"Kai\"\n",
        "print(classes)"
      ],
      "execution_count": 29,
      "outputs": [
        {
          "output_type": "stream",
          "name": "stdout",
          "text": [
            "{'T13A': 'Kai', 'W11A': 'Helen', 'W15A': 'Will', 'H14A': 'Ellie', 'H15A': 'Kai'}\n"
          ]
        }
      ]
    },
    {
      "cell_type": "markdown",
      "metadata": {
        "id": "y5LAY7lZWeYn"
      },
      "source": [
        "Can we change which tutor takes a class?"
      ]
    },
    {
      "cell_type": "code",
      "metadata": {
        "id": "UqDcwA4NWkxf",
        "colab": {
          "base_uri": "https://localhost:8080/"
        },
        "outputId": "ee2db6f8-afaa-4df9-e81e-f2251f431956"
      },
      "source": [
        "classes['T13A'] = 'Kai'\n",
        "print(classes)"
      ],
      "execution_count": 30,
      "outputs": [
        {
          "output_type": "stream",
          "name": "stdout",
          "text": [
            "{'T13A': 'Kai', 'W11A': 'Helen', 'W15A': 'Will', 'H14A': 'Ellie', 'H15A': 'Kai'}\n"
          ]
        }
      ]
    },
    {
      "cell_type": "markdown",
      "metadata": {
        "id": "F9DTDyLJWlCf"
      },
      "source": [
        "Two tutors have swapped classes. How would we go about updating the dictionary?"
      ]
    },
    {
      "cell_type": "code",
      "metadata": {
        "id": "hHthwW21XDii",
        "colab": {
          "base_uri": "https://localhost:8080/"
        },
        "outputId": "1a9d858e-99d3-4b8b-f3db-ef9104726817"
      },
      "source": [
        "temp = classes['W11A']\n",
        "classes['W11A'] = classes['W15A']\n",
        "classes['W15A'] = temp\n",
        "\n",
        "print(classes)"
      ],
      "execution_count": 31,
      "outputs": [
        {
          "output_type": "stream",
          "name": "stdout",
          "text": [
            "{'T13A': 'Kai', 'W11A': 'Will', 'W15A': 'Helen', 'H14A': 'Ellie', 'H15A': 'Kai'}\n"
          ]
        }
      ]
    },
    {
      "cell_type": "markdown",
      "source": [
        "Check In:\n",
        "* What is the purpose of a dictionary?\n",
        "* When would you use a dictionary instead of a list?\n",
        "* Can you create and update a dictionary?"
      ],
      "metadata": {
        "id": "eRYbW9wr_Ijx"
      }
    },
    {
      "cell_type": "code",
      "source": [
        "# Which tutor is teaching a class?\n",
        "\n",
        "print(classes['W11A'])\n",
        "\n",
        "# Which class(es) is Will teaching?\n",
        "\n",
        "# Go through everything in our dictionary, and make a note of all the classes (keys)\n",
        "# taught by that tutor (value)"
      ],
      "metadata": {
        "colab": {
          "base_uri": "https://localhost:8080/"
        },
        "id": "oiAk6yHC_U5v",
        "outputId": "afeb7069-6957-4ba6-fe6d-ee8fb22a3602"
      },
      "execution_count": 32,
      "outputs": [
        {
          "output_type": "stream",
          "name": "stdout",
          "text": [
            "Will\n"
          ]
        }
      ]
    },
    {
      "cell_type": "markdown",
      "metadata": {
        "id": "QUZ92cv8nvsp"
      },
      "source": [
        "Obfuscation\n",
        "\n",
        "Is there another way to solve this problem?\n",
        "\n",
        "> Oh no, somaona hes dona somathing tarribla to my writing. Thay'va sweppad eround tha lattar 'e' end tha lattar 'a'"
      ]
    },
    {
      "cell_type": "code",
      "metadata": {
        "id": "WsIgYPzan2vi",
        "colab": {
          "base_uri": "https://localhost:8080/"
        },
        "outputId": "f022268a-62d9-4867-a9db-a7159bb9f9dd"
      },
      "source": [
        "text = \"Oh no, somaona hes dona somathing tarribla to my writing. Thay'va sweppad eround tha lattar 'e' end tha lattar 'a'\"\n",
        "\n",
        "translation = {\"e\":\"a\", \"a\":\"e\"}\n",
        "\n",
        "translated = \"\"\n",
        "\n",
        "for character in text:\n",
        "    if character in translation: # checks the keys of the dictionary\n",
        "        translated += translation[character]\n",
        "    else:\n",
        "        translated += character\n",
        "\n",
        "print(translated)\n"
      ],
      "execution_count": 33,
      "outputs": [
        {
          "output_type": "stream",
          "name": "stdout",
          "text": [
            "Oh no, someone has done something terrible to my writing. They've swapped around the letter 'a' and the letter 'e'\n"
          ]
        }
      ]
    },
    {
      "cell_type": "markdown",
      "metadata": {
        "id": "EqBIuOzqXDzR"
      },
      "source": [
        "Dictionaries are:\n",
        "* ordered*\n",
        "* changeable\n",
        "* does not allow duplicates\n",
        "\n",
        "Note: As of Python version 3.7, dictionaries are ordered. In Python 3.6 and earlier, dictionaries are unordered."
      ]
    },
    {
      "cell_type": "markdown",
      "metadata": {
        "id": "kD2fo7X4RDhd"
      },
      "source": [
        "What happens if we try and put a duplicate entry into a dictionary?"
      ]
    },
    {
      "cell_type": "code",
      "metadata": {
        "id": "04XcJENJRJbO",
        "colab": {
          "base_uri": "https://localhost:8080/"
        },
        "outputId": "93b4e4da-0cee-4747-eb83-1b62511de92c"
      },
      "source": [
        "print(classes)"
      ],
      "execution_count": 34,
      "outputs": [
        {
          "output_type": "stream",
          "name": "stdout",
          "text": [
            "{'T13A': 'Kai', 'W11A': 'Will', 'W15A': 'Helen', 'H14A': 'Ellie', 'H15A': 'Kai'}\n"
          ]
        }
      ]
    },
    {
      "cell_type": "code",
      "source": [
        "classes['T13A'] = 'Helen'\n",
        "print(classes)"
      ],
      "metadata": {
        "colab": {
          "base_uri": "https://localhost:8080/"
        },
        "id": "pvFLPjd1AlrL",
        "outputId": "27cf2b58-5d8d-43ec-b0b9-4abf55bb966a"
      },
      "execution_count": 36,
      "outputs": [
        {
          "output_type": "stream",
          "name": "stdout",
          "text": [
            "{'T13A': 'Helen', 'W11A': 'Will', 'W15A': 'Helen', 'H14A': 'Ellie', 'H15A': 'Kai'}\n"
          ]
        }
      ]
    },
    {
      "cell_type": "markdown",
      "metadata": {
        "id": "xVUUQjG_LrMY"
      },
      "source": [
        "Can we loop through a dictionary and print out all the keys?"
      ]
    },
    {
      "cell_type": "code",
      "metadata": {
        "id": "_wuW-cauLv9I",
        "colab": {
          "base_uri": "https://localhost:8080/"
        },
        "outputId": "7d9c9561-a29d-4eff-dfab-28ffa40e7596"
      },
      "source": [
        "for tute in classes:\n",
        "    print(tute)"
      ],
      "execution_count": 37,
      "outputs": [
        {
          "output_type": "stream",
          "name": "stdout",
          "text": [
            "T13A\n",
            "W11A\n",
            "W15A\n",
            "H14A\n",
            "H15A\n"
          ]
        }
      ]
    },
    {
      "cell_type": "code",
      "source": [
        "for tute in classes.keys():\n",
        "    print(tute)"
      ],
      "metadata": {
        "colab": {
          "base_uri": "https://localhost:8080/"
        },
        "id": "CEdKcqyYA2Tw",
        "outputId": "fa83ac32-6b66-4fa4-8429-f1466b163119"
      },
      "execution_count": 38,
      "outputs": [
        {
          "output_type": "stream",
          "name": "stdout",
          "text": [
            "T13A\n",
            "W11A\n",
            "W15A\n",
            "H14A\n",
            "H15A\n"
          ]
        }
      ]
    },
    {
      "cell_type": "code",
      "source": [
        "for tutor in classes.values():\n",
        "    print(tutor)"
      ],
      "metadata": {
        "colab": {
          "base_uri": "https://localhost:8080/"
        },
        "id": "-BuhhCKaA6vH",
        "outputId": "3a8c1681-9236-4a8e-cf78-84a9fd79e1fb"
      },
      "execution_count": 39,
      "outputs": [
        {
          "output_type": "stream",
          "name": "stdout",
          "text": [
            "Helen\n",
            "Will\n",
            "Helen\n",
            "Ellie\n",
            "Kai\n"
          ]
        }
      ]
    },
    {
      "cell_type": "markdown",
      "metadata": {
        "id": "Sfl92YK4DsTx"
      },
      "source": [
        "Using what we know about dictionaries, how could we use our loop through the keys, to access all the information?"
      ]
    },
    {
      "cell_type": "code",
      "metadata": {
        "id": "bFCxkpreDwfr",
        "colab": {
          "base_uri": "https://localhost:8080/"
        },
        "outputId": "27236c43-51be-44e5-8430-f8a4321e9e60"
      },
      "source": [
        "for tute in classes.keys():\n",
        "    tutor = classes[tute]\n",
        "    print(f\"{tute} is taught by {tutor}\")"
      ],
      "execution_count": 40,
      "outputs": [
        {
          "output_type": "stream",
          "name": "stdout",
          "text": [
            "T13A is taught by Helen\n",
            "W11A is taught by Will\n",
            "W15A is taught by Helen\n",
            "H14A is taught by Ellie\n",
            "H15A is taught by Kai\n"
          ]
        }
      ]
    },
    {
      "cell_type": "markdown",
      "metadata": {
        "id": "6Jj7Wm6JDw4G"
      },
      "source": [
        "Is there a more concise way to display/use all the data in a dictionary?"
      ]
    },
    {
      "cell_type": "code",
      "metadata": {
        "id": "gnZxPebCD2vs",
        "colab": {
          "base_uri": "https://localhost:8080/"
        },
        "outputId": "d3f14011-d8c9-48a9-c7ad-591d3dddfe3e"
      },
      "source": [
        "for tute,tutor in classes.items():\n",
        "    # .items() gives you both the key and the value\n",
        "    # the key gets put into the first variable (tute)\n",
        "    # the value gets put into the second variable (tutor)\n",
        "    print(f\"{tute} is taught by {tutor}\")"
      ],
      "execution_count": 43,
      "outputs": [
        {
          "output_type": "stream",
          "name": "stdout",
          "text": [
            "T13A is taught by Helen\n",
            "W11A is taught by Will\n",
            "W15A is taught by Helen\n",
            "H14A is taught by Ellie\n",
            "H15A is taught by Kai\n"
          ]
        }
      ]
    },
    {
      "cell_type": "markdown",
      "source": [
        "Go back to question about tutors/classes above."
      ],
      "metadata": {
        "id": "cHanTDYg_rGH"
      }
    },
    {
      "cell_type": "code",
      "source": [
        "# Which class(es) is Will teaching?\n",
        "\n",
        "# Go through everything in our dictionary, and make a note of all the classes (keys)\n",
        "# taught by that tutor (value)\n",
        "\n",
        "classes_taught_by_helen = []\n",
        "\n",
        "for tute,tutor in classes.items():\n",
        "    if tutor == \"Helen\":\n",
        "        classes_taught_by_helen.append(tute)\n",
        "\n",
        "print(classes_taught_by_helen)"
      ],
      "metadata": {
        "colab": {
          "base_uri": "https://localhost:8080/"
        },
        "id": "42jFRpc0_tMB",
        "outputId": "7abd6dfc-e973-479a-f363-82ee52edd5fd"
      },
      "execution_count": 46,
      "outputs": [
        {
          "output_type": "stream",
          "name": "stdout",
          "text": [
            "['T13A', 'W15A']\n"
          ]
        }
      ]
    },
    {
      "cell_type": "markdown",
      "metadata": {
        "id": "q0j70CbVjKhY"
      },
      "source": [
        "### Text Analysis Using Dictionaries: E-mail Example"
      ]
    },
    {
      "cell_type": "markdown",
      "metadata": {
        "id": "iFehM0xKi36H"
      },
      "source": [
        "This list contains the e-mail addresses of 4 different students."
      ]
    },
    {
      "cell_type": "code",
      "metadata": {
        "id": "oNTU0_U8jTgi"
      },
      "source": [
        "emails = [\"z1234567@student.unsw.edu.au\", \"z7654321@unsw.edu.au\", \"z7891234@ad.unsw.edu.au\", \"z1357924@student.unsw.edu.au\"]"
      ],
      "execution_count": 48,
      "outputs": []
    },
    {
      "cell_type": "markdown",
      "metadata": {
        "id": "1skhA71ajJ1C"
      },
      "source": [
        "Can we build a dictionary containing the Zids as keys and the e-mail addresses as values?"
      ]
    },
    {
      "cell_type": "code",
      "metadata": {
        "id": "LEk-D_rQjbTT",
        "colab": {
          "base_uri": "https://localhost:8080/"
        },
        "outputId": "7e9511b9-1b43-4142-9c24-8c7790c32180"
      },
      "source": [
        "zid_and_emails = {}\n",
        "\n",
        "for email in emails:\n",
        "    #print(email)\n",
        "    zid = email[0:8]\n",
        "    #print(f\"zid = {zid}\")\n",
        "    zid_and_emails[zid] = email\n",
        "\n",
        "print(zid_and_emails)"
      ],
      "execution_count": 54,
      "outputs": [
        {
          "output_type": "stream",
          "name": "stdout",
          "text": [
            "{'z1234567': 'z1234567@student.unsw.edu.au', 'z7654321': 'z7654321@unsw.edu.au', 'z7891234': 'z7891234@ad.unsw.edu.au', 'z1357924': 'z1357924@student.unsw.edu.au'}\n"
          ]
        }
      ]
    },
    {
      "cell_type": "markdown",
      "metadata": {
        "id": "blFe2sqUjcRM"
      },
      "source": [
        "How many students prefer each e-mail domain?"
      ]
    },
    {
      "cell_type": "code",
      "metadata": {
        "id": "8R_2JN1QjeXw",
        "colab": {
          "base_uri": "https://localhost:8080/"
        },
        "outputId": "5c12209a-46fa-4213-cc6b-060285a9947a"
      },
      "source": [
        "'''\n",
        "student.unsw.edu.au --> tally of how many students have this domain\n",
        "unsw.edu.au\n",
        "'''\n",
        "\n",
        "# Approach #1: Using string and knowing the length of the zid\n",
        "\n",
        "tally_preferred_domain = {}\n",
        "\n",
        "for email in emails:\n",
        "    print(email)\n",
        "    domain = email[9:]\n",
        "    print(f\"domain = {domain}\")\n",
        "\n",
        "    # Check it's in the dictionary to begin with\n",
        "    if domain not in tally_preferred_domain.keys():\n",
        "        tally_preferred_domain[domain] = 0\n",
        "    # Add one to the tally for that domain\n",
        "    tally_preferred_domain[domain] += 1\n",
        "\n",
        "print(tally_preferred_domain)"
      ],
      "execution_count": 67,
      "outputs": [
        {
          "output_type": "stream",
          "name": "stdout",
          "text": [
            "z1234567@student.unsw.edu.au\n",
            "domain = student.unsw.edu.au\n",
            "z7654321@unsw.edu.au\n",
            "domain = unsw.edu.au\n",
            "z7891234@ad.unsw.edu.au\n",
            "domain = ad.unsw.edu.au\n",
            "z1357924@student.unsw.edu.au\n",
            "domain = student.unsw.edu.au\n",
            "{'student.unsw.edu.au': 2, 'unsw.edu.au': 1, 'ad.unsw.edu.au': 1}\n"
          ]
        }
      ]
    },
    {
      "cell_type": "code",
      "source": [
        "'''\n",
        "student.unsw.edu.au --> tally of how many students have this domain\n",
        "unsw.edu.au\n",
        "'''\n",
        "\n",
        "# Approach #2: This one splits on the @ symbol, and would work even if the zid was\n",
        "# a different length in each e-mail\n",
        "\n",
        "tally_preferred_domain = {}\n",
        "\n",
        "for email in emails:\n",
        "    #print(email)\n",
        "    pieces_of_email = email.split('@')\n",
        "    #print(pieces_of_email)\n",
        "    domain = pieces_of_email[1]\n",
        "    print(f\"domain = {domain}\")\n",
        "\n",
        "    # Check it's in the dictionary to begin with\n",
        "    if domain not in tally_preferred_domain.keys():\n",
        "        tally_preferred_domain[domain] = 0\n",
        "    # Add one to the tally for that domain\n",
        "    tally_preferred_domain[domain] += 1\n",
        "\n",
        "print(tally_preferred_domain)"
      ],
      "metadata": {
        "id": "TGZf4Vr1GOUL",
        "outputId": "611b1eee-2983-43cf-bf08-b3b6a690162f",
        "colab": {
          "base_uri": "https://localhost:8080/"
        }
      },
      "execution_count": 68,
      "outputs": [
        {
          "output_type": "stream",
          "name": "stdout",
          "text": [
            "domain = student.unsw.edu.au\n",
            "domain = unsw.edu.au\n",
            "domain = ad.unsw.edu.au\n",
            "domain = student.unsw.edu.au\n",
            "{'student.unsw.edu.au': 2, 'unsw.edu.au': 1, 'ad.unsw.edu.au': 1}\n"
          ]
        }
      ]
    },
    {
      "cell_type": "markdown",
      "metadata": {
        "id": "tkI40jPCjfwA"
      },
      "source": [
        "Can we group students by their preferred e-mail domain?"
      ]
    },
    {
      "cell_type": "code",
      "metadata": {
        "id": "OAQoSRkGjil0",
        "colab": {
          "base_uri": "https://localhost:8080/"
        },
        "outputId": "5d7ca51e-35c4-47f6-b5c7-1ee236bf4cfd"
      },
      "source": [
        "preferred_domain = {}\n",
        "\n",
        "for email in emails:\n",
        "    pieces_of_email = email.split('@')\n",
        "    student = pieces_of_email[0]\n",
        "    domain = pieces_of_email[1]\n",
        "\n",
        "    # Check it's in the dictionary to begin with\n",
        "    if domain not in preferred_domain.keys():\n",
        "        preferred_domain[domain] = []\n",
        "    # Add one to the tally for that domain\n",
        "    preferred_domain[domain].append(student)\n",
        "\n",
        "print(preferred_domain)"
      ],
      "execution_count": 70,
      "outputs": [
        {
          "output_type": "stream",
          "name": "stdout",
          "text": [
            "{'student.unsw.edu.au': ['z1234567', 'z1357924'], 'unsw.edu.au': ['z7654321'], 'ad.unsw.edu.au': ['z7891234']}\n"
          ]
        }
      ]
    },
    {
      "cell_type": "markdown",
      "metadata": {
        "id": "8fO_afpfD8Pi"
      },
      "source": [
        "# 4 - Tuples"
      ]
    },
    {
      "cell_type": "markdown",
      "metadata": {
        "id": "fOcEmYZIEFpZ"
      },
      "source": [
        "Tuples are:\n",
        "* ordered\n",
        "* unchangeable\n",
        "* allows duplicates"
      ]
    },
    {
      "cell_type": "markdown",
      "metadata": {
        "id": "me3_0Y_iJ2ml"
      },
      "source": [
        "In Python, Tuples are like lists, with one key difference. They are immutable. That means they cannot be changed after they have been created. In this way, they are similar to strings. They are created (defined) using the () (rather than [ ] like in lists and { } like in dictionaries)."
      ]
    },
    {
      "cell_type": "markdown",
      "metadata": {
        "id": "sBcTABFaEUcJ"
      },
      "source": [
        "Can we use a tuple to return several values from a function?\n",
        "\n",
        "When visiting a theme park, many rides require you to be a certain height before you can ride them.\n",
        "\n",
        "At a specific park there are:\n",
        "\n",
        "* Red Riders: 85-105cm tall. They have access to 9 rides.\n",
        "* Green Riders: 106-131cm tall. They have access to 21 rides.\n",
        "* Yellow Riders: 132cm and taller. They have access to 27 rides.\n",
        "\n",
        "Write a function which takes in the user's height in cm (as a parameter) and returns a string (\"Red Rider\", \"Green Rider\" or \"Yellow Rider\") and the number of rides they have access to.\n",
        "\n",
        "Write a function which asks the user for their height and then calls the function, and displays the results."
      ]
    },
    {
      "cell_type": "code",
      "metadata": {
        "id": "3T_M753vGoVT",
        "colab": {
          "base_uri": "https://localhost:8080/"
        },
        "outputId": "5b23b437-4101-4b5b-9544-666fef26e01a"
      },
      "source": [
        "def height_to_num_rides(height):\n",
        "    if isinstance(height,str):\n",
        "        print(height[-2:])\n",
        "        if height[-2:] == \"cm\":\n",
        "            print(f\"Your height is actually {height[0:-2]}\")\n",
        "            height = int(height[:-3])\n",
        "\n",
        "    if isinstance(height,int):\n",
        "        if height>=85 and height<106:\n",
        "            return (\"Red Rider\",9)\n",
        "        elif height<132:\n",
        "            return (\"Green Rider\",21)\n",
        "        elif height>=132:\n",
        "            return (\"Yellow Rider\",27)\n",
        "        else:\n",
        "            return (\"\",0)\n",
        "    \n",
        "    # TODO make it return None once we have covered that topic\n",
        "\n",
        "result = height_to_num_rides(131)\n",
        "rider_type = result[0]\n",
        "num_rides = result[1]\n",
        "\n",
        "print(f\"You are a {rider_type} and can go on {num_rides} rides.\")\n",
        "\n",
        "rider_type,num_rides = height_to_num_rides(104)\n",
        "\n",
        "print(f\"You are a {rider_type} and can go on {num_rides} rides.\")"
      ],
      "execution_count": 77,
      "outputs": [
        {
          "output_type": "stream",
          "name": "stdout",
          "text": [
            "cm\n",
            "Your height is actually 100\n",
            "You are a Green Rider and can go on 21 rides.\n",
            "You are a Red Rider and can go on 9 rides.\n"
          ]
        }
      ]
    },
    {
      "cell_type": "code",
      "source": [
        "# Practicing Testing\n",
        "\n",
        "def test_height_to_num_rides():\n",
        "    assert height_to_num_rides(50) == (\"\",0)\n",
        "    assert height_to_num_rides(100) == (\"Red Rider\",9)\n",
        "    assert height_to_num_rides(130) == (\"Green Rider\",21)\n",
        "    assert height_to_num_rides(133) == (\"Yellow Rider\",27)\n",
        "    assert height_to_num_rides(\"130cm\") == (\"Green Rider\",21)"
      ],
      "metadata": {
        "id": "kYSv2Rv0JYLZ"
      },
      "execution_count": 79,
      "outputs": []
    },
    {
      "cell_type": "markdown",
      "metadata": {
        "id": "ZHzbbO4lkdyh"
      },
      "source": [
        "In COMP1010, we are not going to use Tuples in more detail than this. If you are interested in further exploring this topic I recommend:\n",
        "* [W3Schools Tuples](https://www.w3schools.com/python/python_tuples.asp)\n",
        "* [Tutorials Point Tuples](https://www.tutorialspoint.com/python/python_tuples.htm)"
      ]
    },
    {
      "cell_type": "markdown",
      "metadata": {
        "id": "dshwJXJennss"
      },
      "source": [
        "# 5 - Sets\n",
        "\n",
        "We aren't going to cover Python Sets in COMP1010. If you are interested in this form of collection, I recommend:\n",
        "* [W3Schools Sets](https://www.w3schools.com/python/python_sets.asp)"
      ]
    },
    {
      "cell_type": "markdown",
      "metadata": {
        "id": "JEat-wKwBNdb"
      },
      "source": [
        "# 6 - Complex Data Structures"
      ]
    },
    {
      "cell_type": "markdown",
      "metadata": {
        "id": "cFRa9VbmAtZ2"
      },
      "source": [
        "## 1 - House Hunting\n",
        "\n",
        "The following cell defines a list of houses for sale. It includes their address, number of bedrooms and bathrooms, price, and features (garage, pool, granny flat, etc.)"
      ]
    },
    {
      "cell_type": "code",
      "metadata": {
        "id": "DyUHH3tCBQSa"
      },
      "source": [
        "houses = [\n",
        "    { \n",
        "        \"address\": \"42 Wallaby Way, Sydney\", \n",
        "        \"bedrooms\": 3, \n",
        "        \"bathrooms\": 2, \n",
        "        \"features\": [\"garage\", \"pool\"] \n",
        "    },\n",
        "    { \n",
        "        \"address\": \"123 Fake Street, Mosman\", \n",
        "        \"bedrooms\": 6, \n",
        "        \"bathrooms\": 3, \n",
        "        \"features\": [\"pool\", \"granny flat\"]     \n",
        "    },\n",
        "    { \n",
        "        \"address\": \"1 High Street, Kensington\", \n",
        "        \"bedrooms\": 2, \n",
        "        \"bathrooms\": 1, \n",
        "        \"features\": [] \n",
        "    },\n",
        "    { \n",
        "        \"address\": \"109 Kirribilli Ave, Kirribilli\", \n",
        "        \"bedrooms\": 10, \n",
        "        \"bathrooms\": 7, \n",
        "        \"features\": [\"garage\", \"pool\", \"wine cellar\", \"tennis court\"] \n",
        "    }\n",
        "]"
      ],
      "execution_count": 80,
      "outputs": []
    },
    {
      "cell_type": "markdown",
      "metadata": {
        "id": "m_5f5IK_BSti"
      },
      "source": [
        "\n",
        "Write the function `find_houses(houses, bedrooms, bathrooms, features)` that returns a list of the addresses of all the houses with at least the given number of bedrooms and bathrooms and at least the given list of features.\n",
        "\n",
        "**NOTE:** Don't assume the list of houses or set of possible features is constrained to what is written above. Your function should still work if new houses were added to the above list."
      ]
    },
    {
      "cell_type": "code",
      "metadata": {
        "id": "zMpFumJHB7QS",
        "colab": {
          "base_uri": "https://localhost:8080/"
        },
        "outputId": "5db7a3e1-3efd-4d5b-d987-b68208886c79"
      },
      "source": [
        "def find_houses(houses, bedrooms, bathrooms, features):\n",
        "    suitable_addresses = []\n",
        "\n",
        "    for house in houses:\n",
        "        address = house['address']\n",
        "        num_beds = house['bedrooms']\n",
        "        num_bath = house['bathrooms']\n",
        "        feature_list = house['features']\n",
        "\n",
        "        # Assume it's suitable\n",
        "        suitable = True\n",
        "\n",
        "        if num_beds < bedrooms:\n",
        "            suitable = False\n",
        "        if num_bath < bathrooms:\n",
        "            suitable = False\n",
        "\n",
        "        # Check for each feature I'm looking for (features), is it in feature_list?\n",
        "        for feature in features:\n",
        "            if feature not in feature_list:\n",
        "                suitable = False\n",
        "\n",
        "        if suitable == True:\n",
        "            suitable_addresses.append(address)\n",
        "\n",
        "    return suitable_addresses\n"
      ],
      "execution_count": 88,
      "outputs": [
        {
          "output_type": "stream",
          "name": "stdout",
          "text": [
            "['42 Wallaby Way, Sydney', '109 Kirribilli Ave, Kirribilli']\n"
          ]
        }
      ]
    },
    {
      "cell_type": "markdown",
      "metadata": {
        "id": "YzC7pPTXBmrA"
      },
      "source": [
        "Use this cell to test your function:"
      ]
    },
    {
      "cell_type": "code",
      "metadata": {
        "id": "ToutMRHgBpSJ"
      },
      "source": [
        "assert find_houses(houses, 3, 1, [\"garage\"]) == [\"42 Wallaby Way, Sydney\", \"109 Kirribilli Ave, Kirribilli\"]\n",
        "assert find_houses(houses, 6, 4, []) == [\"109 Kirribilli Ave, Kirribilli\"]\n",
        "assert find_houses(houses, 1, 1, [\"granny flat\"]) == [\"123 Fake Street, Mosman\"]"
      ],
      "execution_count": 89,
      "outputs": []
    },
    {
      "cell_type": "markdown",
      "metadata": {
        "id": "E_NZ3hENDnVP"
      },
      "source": [
        "# 7 - Data Types Revisited: NoneType\n",
        "\n",
        "`None` is a special value in Python we can use to represent values that are unknown.\n",
        "\n",
        "**Important Info**:\n",
        "\n",
        "* The type of `None` is `NoneType`. It is the only value of that type.\n",
        "* Python has special support for dealing with `None` values in `if` statements."
      ]
    },
    {
      "cell_type": "code",
      "source": [
        "name = None\n",
        "print(name)\n",
        "print(type(name))"
      ],
      "metadata": {
        "id": "UxIQEFt9NmqW",
        "outputId": "febad9b6-66af-4ff4-ee25-dbb140d458d4",
        "colab": {
          "base_uri": "https://localhost:8080/"
        }
      },
      "execution_count": 90,
      "outputs": [
        {
          "output_type": "stream",
          "name": "stdout",
          "text": [
            "None\n",
            "<class 'NoneType'>\n"
          ]
        }
      ]
    },
    {
      "cell_type": "markdown",
      "metadata": {
        "id": "scgOs3yeDtti"
      },
      "source": [
        "Write a function `maximum(numbers)` that finds the maximum number in a list."
      ]
    },
    {
      "cell_type": "code",
      "metadata": {
        "id": "EkigXAXzDvyf"
      },
      "source": [
        "def maximum(numbers):\n",
        "    max_so_far = None\n",
        "    for num in numbers:\n",
        "        if max_so_far is None or num > max_so_far:\n",
        "            max_so_far = num\n",
        "    return max_so_far\n"
      ],
      "execution_count": 96,
      "outputs": []
    },
    {
      "cell_type": "code",
      "source": [
        "assert maximum([1,2,3]) == 3\n",
        "assert maximum([-1,-2,-3]) == -1\n",
        "assert maximum([]) == None"
      ],
      "metadata": {
        "id": "d2a-nxh1OoWW"
      },
      "execution_count": 97,
      "outputs": []
    },
    {
      "cell_type": "markdown",
      "metadata": {
        "id": "Y27MaZHDvUF_"
      },
      "source": [
        "Copy the table from topic 3.1.6: Data Types here, and fill in an extra row for the `NoneType` data type."
      ]
    }
  ]
}