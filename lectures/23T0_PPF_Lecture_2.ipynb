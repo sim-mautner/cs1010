{
  "nbformat": 4,
  "nbformat_minor": 0,
  "metadata": {
    "colab": {
      "provenance": [],
      "authorship_tag": "ABX9TyMbnu95KOq6PBhNmHM7+/Md",
      "include_colab_link": true
    },
    "kernelspec": {
      "name": "python3",
      "display_name": "Python 3"
    },
    "language_info": {
      "name": "python"
    }
  },
  "cells": [
    {
      "cell_type": "markdown",
      "metadata": {
        "id": "view-in-github",
        "colab_type": "text"
      },
      "source": [
        "<a href=\"https://colab.research.google.com/github/sim-mautner/cs1010/blob/main/lectures/23T0_PPF_Lecture_2.ipynb\" target=\"_parent\"><img src=\"https://colab.research.google.com/assets/colab-badge.svg\" alt=\"Open In Colab\"/></a>"
      ]
    },
    {
      "cell_type": "markdown",
      "source": [
        "## Control Flow Part 2\n",
        "\n",
        "If they are a user that has logged on before -> welcome back\n",
        "\n"
      ],
      "metadata": {
        "id": "DOgE8l8LA511"
      }
    },
    {
      "cell_type": "code",
      "source": [
        "user1 = input(\"Username: \")\n",
        "\n",
        "# How can I tell, if they've logged on before?\n",
        "# Could I store information about useres who have logged on?\n",
        "\n",
        "print(\"Welcome\")\n",
        "\n",
        "user2 = input(\"Username: \")\n",
        "if user1 == user2:\n",
        "  print(\"Welcome Back\")\n",
        "else:\n",
        "  print(\"Welcome\")\n",
        "\n",
        "user3 = input(\"Username: \")\n",
        "if user3 == user1 or user3 == user2:\n",
        "  print(\"Welcome Back\")\n",
        "else:\n",
        "  print(\"Welcome\")\n",
        "\n",
        "user4 = input(\"Username:\")\n",
        "if user4 == user1 or user4 == user3 or user4 == user2:\n",
        "  print(\"Welcome Back\")\n",
        "else:\n",
        "  print(\"Welcome\")"
      ],
      "metadata": {
        "id": "qdc_EUxZDcQY"
      },
      "execution_count": null,
      "outputs": []
    },
    {
      "cell_type": "markdown",
      "source": [
        "## Lists"
      ],
      "metadata": {
        "id": "s_uD4uSjKMsd"
      }
    },
    {
      "cell_type": "code",
      "source": [
        "# Create a list\n",
        "\n",
        "users = []\n",
        "\n",
        "# Add a user\n",
        "\n",
        "users.append(\"Sim\")\n",
        "\n",
        "# Display a list\n",
        "\n",
        "print(users)\n",
        "\n",
        "# Add another user\n",
        "\n",
        "users.append(\"Brendan\")\n",
        "\n",
        "print(users)\n",
        "\n",
        "# Find out if a specific user is in the list\n",
        "\n",
        "if \"Brendan\" in users:\n",
        "    print(\"Brendan is in users.\")\n",
        "\n",
        "user = input(\"Enter a user to check list for: \")\n",
        "if user in users:\n",
        "    print(user)\n",
        "    print(\"is in users\")\n",
        "else:\n",
        "    print(user)\n",
        "    print(\"is not in users\")"
      ],
      "metadata": {
        "id": "Q5klLBqpJJF7",
        "outputId": "3669846e-8db0-40da-c3e5-1e6b1fb2412a",
        "colab": {
          "base_uri": "https://localhost:8080/"
        }
      },
      "execution_count": 5,
      "outputs": [
        {
          "output_type": "stream",
          "name": "stdout",
          "text": [
            "['Sim']\n",
            "['Sim', 'Brendan']\n",
            "Brendan is in users.\n",
            "Enter a user to check list for: Sim\n",
            "Sim\n",
            "is in users\n"
          ]
        }
      ]
    },
    {
      "cell_type": "markdown",
      "source": [
        "Full list of methods which can be run on a list: https://www.w3schools.com/python/python_lists_methods.asp"
      ],
      "metadata": {
        "id": "mrj3c1hhLVMi"
      }
    },
    {
      "cell_type": "markdown",
      "source": [
        "How do we user inputs username and then adds it to the list?"
      ],
      "metadata": {
        "id": "IRESbmBeLjnV"
      }
    }
  ]
}