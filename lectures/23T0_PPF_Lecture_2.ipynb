{
  "nbformat": 4,
  "nbformat_minor": 0,
  "metadata": {
    "colab": {
      "provenance": [],
      "authorship_tag": "ABX9TyOViFOjcVu3bXRXfAmR+aaf",
      "include_colab_link": true
    },
    "kernelspec": {
      "name": "python3",
      "display_name": "Python 3"
    },
    "language_info": {
      "name": "python"
    }
  },
  "cells": [
    {
      "cell_type": "markdown",
      "metadata": {
        "id": "view-in-github",
        "colab_type": "text"
      },
      "source": [
        "<a href=\"https://colab.research.google.com/github/sim-mautner/cs1010/blob/main/lectures/23T0_PPF_Lecture_2.ipynb\" target=\"_parent\"><img src=\"https://colab.research.google.com/assets/colab-badge.svg\" alt=\"Open In Colab\"/></a>"
      ]
    },
    {
      "cell_type": "markdown",
      "source": [
        "## Control Flow Part 2\n",
        "\n",
        "If they are a user that has logged on before -> welcome back\n",
        "\n"
      ],
      "metadata": {
        "id": "DOgE8l8LA511"
      }
    },
    {
      "cell_type": "code",
      "source": [
        "user1 = input(\"Username: \")\n",
        "\n",
        "# How can I tell, if they've logged on before?\n",
        "# Could I store information about useres who have logged on?\n",
        "\n",
        "print(\"Welcome\")\n",
        "\n",
        "user2 = input(\"Username: \")\n",
        "if user1 == user2:\n",
        "  print(\"Welcome Back\")\n",
        "else:\n",
        "  print(\"Welcome\")\n",
        "\n",
        "user3 = input(\"Username: \")\n",
        "if user3 == user1 or user3 == user2:\n",
        "  print(\"Welcome Back\")\n",
        "else:\n",
        "  print(\"Welcome\")\n",
        "\n",
        "user4 = input(\"Username:\")\n",
        "if user4 == user1 or user4 == user3 or user4 == user2:\n",
        "  print(\"Welcome Back\")\n",
        "else:\n",
        "  print(\"Welcome\")"
      ],
      "metadata": {
        "id": "qdc_EUxZDcQY"
      },
      "execution_count": null,
      "outputs": []
    }
  ]
}