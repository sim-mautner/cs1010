{
  "nbformat": 4,
  "nbformat_minor": 0,
  "metadata": {
    "colab": {
      "provenance": [],
      "authorship_tag": "ABX9TyPkrzafCfTa+OyfdBIh2gHp",
      "include_colab_link": true
    },
    "kernelspec": {
      "name": "python3",
      "display_name": "Python 3"
    },
    "language_info": {
      "name": "python"
    }
  },
  "cells": [
    {
      "cell_type": "markdown",
      "metadata": {
        "id": "view-in-github",
        "colab_type": "text"
      },
      "source": [
        "<a href=\"https://colab.research.google.com/github/sim-mautner/cs1010/blob/main/lectures/23T0_PPF_Lecture_2.ipynb\" target=\"_parent\"><img src=\"https://colab.research.google.com/assets/colab-badge.svg\" alt=\"Open In Colab\"/></a>"
      ]
    },
    {
      "cell_type": "markdown",
      "source": [
        "## Control Flow Part 2\n",
        "\n",
        "If they are a user that has logged on before -> welcome back\n",
        "\n"
      ],
      "metadata": {
        "id": "DOgE8l8LA511"
      }
    },
    {
      "cell_type": "code",
      "source": [
        "user1 = input(\"Username: \")\n",
        "\n",
        "# How can I tell, if they've logged on before?\n",
        "# Could I store information about useres who have logged on?\n",
        "\n",
        "print(\"Welcome\")\n",
        "\n",
        "user2 = input(\"Username: \")\n",
        "if user1 == user2:\n",
        "  print(\"Welcome Back\")\n",
        "else:\n",
        "  print(\"Welcome\")\n",
        "\n",
        "user3 = input(\"Username: \")\n",
        "if user3 == user1 or user3 == user2:\n",
        "  print(\"Welcome Back\")\n",
        "else:\n",
        "  print(\"Welcome\")\n",
        "\n",
        "user4 = input(\"Username:\")\n",
        "if user4 == user1 or user4 == user3 or user4 == user2:\n",
        "  print(\"Welcome Back\")\n",
        "else:\n",
        "  print(\"Welcome\")"
      ],
      "metadata": {
        "id": "qdc_EUxZDcQY"
      },
      "execution_count": null,
      "outputs": []
    },
    {
      "cell_type": "markdown",
      "source": [
        "## Lists"
      ],
      "metadata": {
        "id": "s_uD4uSjKMsd"
      }
    },
    {
      "cell_type": "code",
      "source": [
        "# Create a list\n",
        "\n",
        "users = []\n",
        "\n",
        "# Add a user\n",
        "\n",
        "users.append(\"Sim\")\n",
        "\n",
        "# Display a list\n",
        "\n",
        "print(users)\n",
        "\n",
        "# Add another user\n",
        "\n",
        "users.append(\"Brendan\")\n",
        "\n",
        "print(users)\n",
        "\n",
        "# Find out if a specific user is in the list\n",
        "\n",
        "if \"Brendan\" in users:\n",
        "    print(\"Brendan is in users.\")\n",
        "\n",
        "user = input(\"Enter a user to check list for: \")\n",
        "if user in users:\n",
        "    print(user)\n",
        "    print(\"is in users\")\n",
        "else:\n",
        "    print(user)\n",
        "    print(\"is not in users\")"
      ],
      "metadata": {
        "colab": {
          "base_uri": "https://localhost:8080/"
        },
        "id": "Q5klLBqpJJF7",
        "outputId": "3669846e-8db0-40da-c3e5-1e6b1fb2412a"
      },
      "execution_count": 5,
      "outputs": [
        {
          "output_type": "stream",
          "name": "stdout",
          "text": [
            "['Sim']\n",
            "['Sim', 'Brendan']\n",
            "Brendan is in users.\n",
            "Enter a user to check list for: Sim\n",
            "Sim\n",
            "is in users\n"
          ]
        }
      ]
    },
    {
      "cell_type": "markdown",
      "source": [
        "Full list of methods which can be run on a list: https://www.w3schools.com/python/python_lists_methods.asp"
      ],
      "metadata": {
        "id": "mrj3c1hhLVMi"
      }
    },
    {
      "cell_type": "markdown",
      "source": [
        "## Functions vs Methods"
      ],
      "metadata": {
        "id": "w4caEwZKSbpN"
      }
    },
    {
      "cell_type": "markdown",
      "source": [
        "How a method (append) seems to differ from a function (it looks like it is variable.methodfunction as opposed to the usual brackets)"
      ],
      "metadata": {
        "id": "ILlBSZqiNgUy"
      }
    },
    {
      "cell_type": "code",
      "source": [
        "# Method (append)\n",
        "\n",
        "users = []\n",
        "users.append(\"Sim\") # variable . what we want to do (  extra information  )\n",
        "# sim.get_coffee(milk=True, sugar=False)\n",
        "print(users)\n",
        "\n",
        "\n",
        "# Function (input)\n",
        "\n",
        "input(\"Enter your username: \") # what we want to do ( extra information )\n"
      ],
      "metadata": {
        "id": "2pSSGUlPOWkd"
      },
      "execution_count": null,
      "outputs": []
    },
    {
      "cell_type": "markdown",
      "source": [
        "| Function | Method |\n",
        "| --- | ---|\n",
        "| Does not appy to a specific variable or type. | Always only used on certain types. |\n",
        "| Doesn't have variable., it only gets information in the brackets. | Has a main variable that it's being done to (that's the variable before the .) and the extra variables, the less important ones, go in the brackets.|\n",
        "| | The variable before the dot, must be of a certain type. Eg, if the variable before the dot is a string, then the method being called (straight after the dot) must be one of the string methods. If the variable before the dot is a list, the method must be one of the list methods.|\n"
      ],
      "metadata": {
        "id": "P2h1seX3PR1u"
      }
    },
    {
      "cell_type": "code",
      "source": [
        "# Using the len function on a string\n",
        "name = \"Sim\"\n",
        "print(len(name))\n",
        "\n",
        "# Using the len function on a list\n",
        "names = [\"Sim\", \"Ryan\", \"Chelsea\", \"Jenny\"]\n",
        "print(len(names))"
      ],
      "metadata": {
        "colab": {
          "base_uri": "https://localhost:8080/"
        },
        "id": "5g-vIclyQDRE",
        "outputId": "745ada3a-87b8-43a1-8191-36a331fc0248"
      },
      "execution_count": 7,
      "outputs": [
        {
          "output_type": "stream",
          "name": "stdout",
          "text": [
            "3\n",
            "4\n"
          ]
        }
      ]
    },
    {
      "cell_type": "code",
      "source": [
        "# String methods (eg, startswith)\n",
        "if 'z1234567'.startswith('z'):\n",
        "    print(\"Student id\")"
      ],
      "metadata": {
        "colab": {
          "base_uri": "https://localhost:8080/"
        },
        "id": "JkyoCCwRQWHj",
        "outputId": "0595c49b-8d52-4824-9d9b-d6c5a415b91b"
      },
      "execution_count": 9,
      "outputs": [
        {
          "output_type": "stream",
          "name": "stdout",
          "text": [
            "Student id\n"
          ]
        }
      ]
    },
    {
      "cell_type": "markdown",
      "source": [
        "## Control Flow Part 2 continued"
      ],
      "metadata": {
        "id": "uFjeD-SkSY3V"
      }
    },
    {
      "cell_type": "markdown",
      "source": [
        "If the user has been here before, say welcome back. Otherwise, say welcome."
      ],
      "metadata": {
        "id": "rXf3lgXuSlYQ"
      }
    },
    {
      "cell_type": "code",
      "source": [
        "users = []\n",
        "username = \"\"\n",
        "\n",
        "while username != \"STOP\" :\n",
        "    username = input(\"Enter your username (or STOP to end): \") # Step 1\n",
        "    if username != \"STOP\":\n",
        "        # 2. Check if it's in the list\n",
        "        if username in users:\n",
        "            # 3. Say welcome back\n",
        "            print(\"Welcome Back!\")\n",
        "        else:\n",
        "            # 3. Add to the list\n",
        "            users.append(username)\n",
        "            # 4. Say Welcome\n",
        "            print(\"Welcome!\")\n",
        "\n",
        "print(\"End of program.\")"
      ],
      "metadata": {
        "colab": {
          "base_uri": "https://localhost:8080/"
        },
        "id": "BY-XCcgySXcX",
        "outputId": "8cbdb82b-6ca8-4a04-eb01-b590ff9dae7d"
      },
      "execution_count": 12,
      "outputs": [
        {
          "output_type": "stream",
          "name": "stdout",
          "text": [
            "Enter your username (or STOP to end): Sim\n",
            "Welcome!\n",
            "Enter your username (or STOP to end): Andres\n",
            "Welcome!\n",
            "Enter your username (or STOP to end): Adam\n",
            "Welcome!\n",
            "Enter your username (or STOP to end): STOP\n",
            "End of program.\n"
          ]
        }
      ]
    },
    {
      "cell_type": "markdown",
      "source": [
        "Single quotes and double quotes around strings."
      ],
      "metadata": {
        "id": "d4poVFiaR0HG"
      }
    },
    {
      "cell_type": "markdown",
      "source": [],
      "metadata": {
        "id": "8wwnr0LDPgQY"
      }
    }
  ]
}