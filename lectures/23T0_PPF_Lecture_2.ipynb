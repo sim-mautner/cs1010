{
  "nbformat": 4,
  "nbformat_minor": 0,
  "metadata": {
    "colab": {
      "provenance": [],
      "toc_visible": true,
      "authorship_tag": "ABX9TyMJhH+UXgMXy81hd/c6nn8T",
      "include_colab_link": true
    },
    "kernelspec": {
      "name": "python3",
      "display_name": "Python 3"
    },
    "language_info": {
      "name": "python"
    }
  },
  "cells": [
    {
      "cell_type": "markdown",
      "metadata": {
        "id": "view-in-github",
        "colab_type": "text"
      },
      "source": [
        "<a href=\"https://colab.research.google.com/github/sim-mautner/cs1010/blob/main/lectures/23T0_PPF_Lecture_2.ipynb\" target=\"_parent\"><img src=\"https://colab.research.google.com/assets/colab-badge.svg\" alt=\"Open In Colab\"/></a>"
      ]
    },
    {
      "cell_type": "markdown",
      "source": [
        "## Introduction to Lists\n",
        "\n",
        "Continuing the example: If they are a user that has logged on before -> welcome back\n",
        "\n"
      ],
      "metadata": {
        "id": "DOgE8l8LA511"
      }
    },
    {
      "cell_type": "code",
      "source": [
        "user1 = input(\"Username: \")\n",
        "\n",
        "# How can I tell, if they've logged on before?\n",
        "# Could I store information about useres who have logged on?\n",
        "\n",
        "print(\"Welcome\")\n",
        "\n",
        "user2 = input(\"Username: \")\n",
        "if user1 == user2:\n",
        "  print(\"Welcome Back\")\n",
        "else:\n",
        "  print(\"Welcome\")\n",
        "\n",
        "user3 = input(\"Username: \")\n",
        "if user3 == user1 or user3 == user2:\n",
        "  print(\"Welcome Back\")\n",
        "else:\n",
        "  print(\"Welcome\")\n",
        "\n",
        "user4 = input(\"Username:\")\n",
        "if user4 == user1 or user4 == user3 or user4 == user2:\n",
        "  print(\"Welcome Back\")\n",
        "else:\n",
        "  print(\"Welcome\")"
      ],
      "metadata": {
        "id": "qdc_EUxZDcQY"
      },
      "execution_count": null,
      "outputs": []
    },
    {
      "cell_type": "markdown",
      "source": [
        "## Lists"
      ],
      "metadata": {
        "id": "s_uD4uSjKMsd"
      }
    },
    {
      "cell_type": "code",
      "source": [
        "# Create a list\n",
        "\n",
        "users = []\n",
        "\n",
        "# Add a user\n",
        "\n",
        "users.append(\"Sim\")\n",
        "\n",
        "# Display a list\n",
        "\n",
        "print(users)\n",
        "\n",
        "# Add another user\n",
        "\n",
        "users.append(\"Brendan\")\n",
        "\n",
        "print(users)\n",
        "\n",
        "# Find out if a specific user is in the list\n",
        "\n",
        "if \"Brendan\" in users:\n",
        "    print(\"Brendan is in users.\")\n",
        "\n",
        "user = input(\"Enter a user to check list for: \")\n",
        "if user in users:\n",
        "    print(user)\n",
        "    print(\"is in users\")\n",
        "else:\n",
        "    print(user)\n",
        "    print(\"is not in users\")"
      ],
      "metadata": {
        "colab": {
          "base_uri": "https://localhost:8080/"
        },
        "id": "Q5klLBqpJJF7",
        "outputId": "3669846e-8db0-40da-c3e5-1e6b1fb2412a"
      },
      "execution_count": null,
      "outputs": [
        {
          "output_type": "stream",
          "name": "stdout",
          "text": [
            "['Sim']\n",
            "['Sim', 'Brendan']\n",
            "Brendan is in users.\n",
            "Enter a user to check list for: Sim\n",
            "Sim\n",
            "is in users\n"
          ]
        }
      ]
    },
    {
      "cell_type": "markdown",
      "source": [
        "Full list of methods which can be run on a list: https://www.w3schools.com/python/python_lists_methods.asp"
      ],
      "metadata": {
        "id": "mrj3c1hhLVMi"
      }
    },
    {
      "cell_type": "markdown",
      "source": [
        "## Functions vs Methods"
      ],
      "metadata": {
        "id": "w4caEwZKSbpN"
      }
    },
    {
      "cell_type": "markdown",
      "source": [
        "How a method (append) seems to differ from a function (it looks like it is variable.methodfunction as opposed to the usual brackets)"
      ],
      "metadata": {
        "id": "ILlBSZqiNgUy"
      }
    },
    {
      "cell_type": "code",
      "source": [
        "# Method (append)\n",
        "\n",
        "users = []\n",
        "users.append(\"Sim\") # variable . what we want to do (  extra information  )\n",
        "# sim.get_coffee(milk=True, sugar=False)\n",
        "print(users)\n",
        "\n",
        "\n",
        "# Function (input)\n",
        "\n",
        "input(\"Enter your username: \") # what we want to do ( extra information )\n"
      ],
      "metadata": {
        "id": "2pSSGUlPOWkd"
      },
      "execution_count": null,
      "outputs": []
    },
    {
      "cell_type": "markdown",
      "source": [
        "| Function | Method |\n",
        "| --- | ---|\n",
        "| Does not appy to a specific variable or type. | Always only used on certain types. |\n",
        "| Doesn't have variable., it only gets information in the brackets. | Has a main variable that it's being done to (that's the variable before the .) and the extra variables, the less important ones, go in the brackets.|\n",
        "| | The variable before the dot, must be of a certain type. Eg, if the variable before the dot is a string, then the method being called (straight after the dot) must be one of the string methods. If the variable before the dot is a list, the method must be one of the list methods.|\n"
      ],
      "metadata": {
        "id": "P2h1seX3PR1u"
      }
    },
    {
      "cell_type": "code",
      "source": [
        "# Using the len function on a string\n",
        "name = \"Sim\"\n",
        "print(len(name))\n",
        "\n",
        "# Using the len function on a list\n",
        "names = [\"Sim\", \"Ryan\", \"Chelsea\", \"Jenny\"]\n",
        "print(len(names))"
      ],
      "metadata": {
        "colab": {
          "base_uri": "https://localhost:8080/"
        },
        "id": "5g-vIclyQDRE",
        "outputId": "745ada3a-87b8-43a1-8191-36a331fc0248"
      },
      "execution_count": null,
      "outputs": [
        {
          "output_type": "stream",
          "name": "stdout",
          "text": [
            "3\n",
            "4\n"
          ]
        }
      ]
    },
    {
      "cell_type": "code",
      "source": [
        "# String methods (eg, startswith)\n",
        "if 'z1234567'.startswith('z'):\n",
        "    print(\"Student id\")"
      ],
      "metadata": {
        "colab": {
          "base_uri": "https://localhost:8080/"
        },
        "id": "JkyoCCwRQWHj",
        "outputId": "0595c49b-8d52-4824-9d9b-d6c5a415b91b"
      },
      "execution_count": null,
      "outputs": [
        {
          "output_type": "stream",
          "name": "stdout",
          "text": [
            "Student id\n"
          ]
        }
      ]
    },
    {
      "cell_type": "markdown",
      "source": [
        "## Putting our users into a list"
      ],
      "metadata": {
        "id": "uFjeD-SkSY3V"
      }
    },
    {
      "cell_type": "markdown",
      "source": [
        "If the user has been here before, say welcome back. Otherwise, say welcome."
      ],
      "metadata": {
        "id": "rXf3lgXuSlYQ"
      }
    },
    {
      "cell_type": "code",
      "source": [
        "users = []\n",
        "username = \"\"\n",
        "\n",
        "while username != \"STOP\" :\n",
        "    username = input(\"Enter your username (or STOP to end): \") # Step 1\n",
        "    if username != \"STOP\":\n",
        "        # 2. Check if it's in the list\n",
        "        if username in users:\n",
        "            # 3. Say welcome back\n",
        "            print(\"Welcome Back!\")\n",
        "        else:\n",
        "            # 3. Add to the list\n",
        "            users.append(username)\n",
        "            # 4. Say Welcome\n",
        "            print(\"Welcome!\")\n",
        "\n",
        "print(\"End of program.\")"
      ],
      "metadata": {
        "colab": {
          "base_uri": "https://localhost:8080/"
        },
        "id": "BY-XCcgySXcX",
        "outputId": "8cbdb82b-6ca8-4a04-eb01-b590ff9dae7d"
      },
      "execution_count": null,
      "outputs": [
        {
          "output_type": "stream",
          "name": "stdout",
          "text": [
            "Enter your username (or STOP to end): Sim\n",
            "Welcome!\n",
            "Enter your username (or STOP to end): Andres\n",
            "Welcome!\n",
            "Enter your username (or STOP to end): Adam\n",
            "Welcome!\n",
            "Enter your username (or STOP to end): STOP\n",
            "End of program.\n"
          ]
        }
      ]
    },
    {
      "cell_type": "markdown",
      "source": [
        "## Lists and Loops Example: Crochet"
      ],
      "metadata": {
        "id": "0dxPNjLF4TwY"
      }
    },
    {
      "cell_type": "markdown",
      "source": [
        "* Crochet example (same as recipe, book page, season and episode of a show... discuss variations)\n",
        "\n",
        "* Consider, single line pattern\n",
        "1sc 2dc 17t\n",
        "\n",
        "* Write a program, which takes in all the steps of a pattern, displays the pattern neatly, asks the user to enter which step they're up to, shows an updated display of only the next steps they should do. Until tehy have finished the pattern.\n",
        "\n",
        "\n",
        "\n"
      ],
      "metadata": {
        "id": "O2N9sIX3z7IM"
      }
    },
    {
      "cell_type": "code",
      "source": [
        "\n",
        "steps = []\n",
        "steps.append(\"\") # This is so that step 1 (the first step the user inputs) is at index 1.\n",
        "next_step = input(\"Enter the next step (or . to finish): \")\n",
        "\n",
        "# While next_step is not equal to a ., keep appending and getting new steps\n",
        "while next_step != '.':\n",
        "    steps.append(next_step)\n",
        "    next_step = input(\"Enter the next step (or . to finish): \")\n",
        "\n",
        "# Print out the list of steps neatly\n",
        "i = 1\n",
        "num_steps = len(steps)\n",
        "while i < num_steps:\n",
        "    print(f\"{i}: {steps[i]}\")\n",
        "    i = i + 1\n",
        "\n",
        "# Find out which step they're up to and display it\n",
        "upto = input(\"Where are you up to? \")\n",
        "upto = int(upto)\n",
        "\n",
        "while upto < num_steps:\n",
        "    # Print out the rest of the pattern\n",
        "    i = upto\n",
        "    num_steps = len(steps)\n",
        "    while i < num_steps:\n",
        "        print(f\"{i}: {steps[i]}\")\n",
        "        i = i + 1\n",
        "    \n",
        "    # Find out where they're up to again\n",
        "    upto = input(\"Where are you up to? \")\n",
        "    upto = int(upto)\n",
        "\n"
      ],
      "metadata": {
        "colab": {
          "base_uri": "https://localhost:8080/"
        },
        "id": "SOQ3RsKh7FY8",
        "outputId": "1a87dfb4-e23f-4d07-e204-6bcb673cbe6e"
      },
      "execution_count": null,
      "outputs": [
        {
          "name": "stdout",
          "output_type": "stream",
          "text": [
            "Enter the next step (or . to finish): 1sc\n",
            "Enter the next step (or . to finish): 2dc\n",
            "Enter the next step (or . to finish): 15sc\n",
            "Enter the next step (or . to finish): 2dc\n",
            "Enter the next step (or . to finish): 5sc\n",
            "Enter the next step (or . to finish): 4dc\n",
            "Enter the next step (or . to finish): .\n",
            "1: 1sc\n",
            "2: 2dc\n",
            "3: 15sc\n",
            "4: 2dc\n",
            "5: 5sc\n",
            "6: 4dc\n",
            "Where are you up to? 2\n",
            "2: 2dc\n",
            "3: 15sc\n",
            "4: 2dc\n",
            "5: 5sc\n",
            "6: 4dc\n",
            "Where are you up to? 5\n",
            "5: 5sc\n",
            "6: 4dc\n",
            "Where are you up to? 6\n",
            "6: 4dc\n",
            "Where are you up to? 7\n"
          ]
        }
      ]
    },
    {
      "cell_type": "markdown",
      "source": [
        "### Things we learnt:\n",
        "* Lists start numbering at 0.\n",
        "* The item number in a list, is referred to as the **index**.\n",
        "* An item in a list is referred to as an **element**."
      ],
      "metadata": {
        "id": "ani4BkHO84Jv"
      }
    },
    {
      "cell_type": "markdown",
      "source": [
        "Now you can make games :) See Zork etc. (https://www.makeuseof.com/tag/browser-text-based-games/)"
      ],
      "metadata": {
        "id": "DEu1O9gpK7_J"
      }
    },
    {
      "cell_type": "code",
      "source": [
        "# What if they want to enter the whole pattern on one line? (Lines 4-9 changed to handle this case.)\n",
        "\n",
        "\n",
        "steps = input(\"Enter the pattern: \")\n",
        "\n",
        "# Approach 1 to insert the blank before the steps: steps = [\"\"] + steps.split()\n",
        "# Approach 2:\n",
        "steps = steps.split()\n",
        "steps.insert(0, \"\")\n",
        "\n",
        "# Print out the list of steps neatly\n",
        "i = 1\n",
        "num_steps = len(steps)\n",
        "while i < num_steps:\n",
        "    print(f\"{i}: {steps[i]}\")\n",
        "    i = i + 1\n",
        "\n",
        "# Find out which step they're up to and display it\n",
        "upto = input(\"Where are you up to? \")\n",
        "upto = int(upto)\n",
        "print(steps[upto])\n"
      ],
      "metadata": {
        "colab": {
          "base_uri": "https://localhost:8080/"
        },
        "id": "PwEswtDxLJVg",
        "outputId": "51c361b7-a404-4ce3-928c-734d44beddcb"
      },
      "execution_count": null,
      "outputs": [
        {
          "output_type": "stream",
          "name": "stdout",
          "text": [
            "Enter the pattern: 1sc 5ht\n",
            "1: 1sc\n",
            "2: 5ht\n",
            "Where are you up to? 2\n",
            "5ht\n"
          ]
        }
      ]
    },
    {
      "cell_type": "markdown",
      "source": [],
      "metadata": {
        "id": "KhqPL8yFLI4J"
      }
    },
    {
      "cell_type": "markdown",
      "source": [
        "### Improvements to make\n",
        "* Things to consider: \n",
        "    * multiple lines in the pattern"
      ],
      "metadata": {
        "id": "GYqVx2Z27ElH"
      }
    },
    {
      "cell_type": "markdown",
      "source": [
        "task for you: write the code below using while loops istead of for loops"
      ],
      "metadata": {
        "id": "TIuA2FW6Pwcm"
      }
    },
    {
      "cell_type": "code",
      "source": [
        "print(\"Enter the pattern with spaces between steps, and commas between lines.\")\n",
        "pattern = input(\"Enter the pattern: \")\n",
        "\n",
        "print(pattern)\n",
        "lines_of_pattern = pattern.split(',')\n",
        "\n",
        "print(lines_of_pattern)\n",
        "\n",
        "steps = []\n",
        "for line in lines_of_pattern:\n",
        "    steps_of_line = line.split()\n",
        "    steps.append(steps_of_line)\n",
        "\n"
      ],
      "metadata": {
        "colab": {
          "base_uri": "https://localhost:8080/"
        },
        "id": "pbSM8lZXLG-a",
        "outputId": "10f8762c-3886-409e-ba18-68a6fa70f601"
      },
      "execution_count": null,
      "outputs": [
        {
          "output_type": "stream",
          "name": "stdout",
          "text": [
            "Enter the pattern with spaces between steps, and commas between lines.\n",
            "Enter the pattern: 1sc 2dc 3sc,5dc 5sc\n",
            "1sc 2dc 3sc,5dc 5sc\n",
            "['1sc 2dc 3sc', '5dc 5sc']\n"
          ]
        }
      ]
    },
    {
      "cell_type": "code",
      "source": [
        "steps[0]"
      ],
      "metadata": {
        "id": "iJp0eua-SwXT",
        "outputId": "38833355-3bda-4eca-c4b2-6406b9564742",
        "colab": {
          "base_uri": "https://localhost:8080/"
        }
      },
      "execution_count": null,
      "outputs": [
        {
          "output_type": "execute_result",
          "data": {
            "text/plain": [
              "['1sc', '2dc', '3sc']"
            ]
          },
          "metadata": {},
          "execution_count": 32
        }
      ]
    },
    {
      "cell_type": "code",
      "source": [
        "steps[1]"
      ],
      "metadata": {
        "id": "3w-jhnlsS24s",
        "outputId": "2f8e22ac-a481-486f-c796-847b301ee348",
        "colab": {
          "base_uri": "https://localhost:8080/"
        }
      },
      "execution_count": null,
      "outputs": [
        {
          "output_type": "execute_result",
          "data": {
            "text/plain": [
              "['5dc', '5sc']"
            ]
          },
          "metadata": {},
          "execution_count": 33
        }
      ]
    },
    {
      "cell_type": "code",
      "source": [
        "steps[0][0]"
      ],
      "metadata": {
        "id": "vMuYi5tsS4cI",
        "outputId": "b89ca5bd-2686-43e9-be79-451e5241c7da",
        "colab": {
          "base_uri": "https://localhost:8080/",
          "height": 36
        }
      },
      "execution_count": null,
      "outputs": [
        {
          "output_type": "execute_result",
          "data": {
            "text/plain": [
              "'1sc'"
            ],
            "application/vnd.google.colaboratory.intrinsic+json": {
              "type": "string"
            }
          },
          "metadata": {},
          "execution_count": 34
        }
      ]
    },
    {
      "cell_type": "code",
      "source": [
        "'''\n",
        "steps = [\"\"] + steps.split()\n",
        "\n",
        "# Print out the list of steps neatly\n",
        "i = 1\n",
        "num_steps = len(steps)\n",
        "while i < num_steps:\n",
        "    print(f\"{i}: {steps[i]}\")\n",
        "    i = i + 1\n",
        "\n",
        "# Find out which step they're up to and display it\n",
        "upto = input(\"Where are you up to? \")\n",
        "upto = int(upto)\n",
        "\n",
        "while upto < num_steps:\n",
        "    # Print out the rest of the pattern\n",
        "    i = upto\n",
        "    num_steps = len(steps)\n",
        "    while i < num_steps:\n",
        "        print(f\"{i}: {steps[i]}\")\n",
        "        i = i + 1\n",
        "    \n",
        "    # Find out where they're up to again\n",
        "    upto = input(\"Where are you up to? \")\n",
        "    upto = int(upto)\n",
        "\n",
        "'''"
      ],
      "metadata": {
        "id": "I_Tu9OasPlUo"
      },
      "execution_count": null,
      "outputs": []
    },
    {
      "cell_type": "markdown",
      "source": [
        "How can we tell the computer to print “This user is already in the list.” When we add a new user in the list?\n",
        "Yes but that is checking if someone is in the list\n",
        "What if we do users.append(“Brendan”) again. and we dont want to appear twice in the list."
      ],
      "metadata": {
        "id": "C38UrmUPolhp"
      }
    },
    {
      "cell_type": "code",
      "source": [
        "users = []\n",
        "while True:\n",
        "    # Get a new user\n",
        "    user = input(\"Enter a user to check list for: \")\n",
        "    # Check the list\n",
        "    if user in users:\n",
        "        # If already there, error message and don't add to the list\n",
        "        print(\"This user is already in the list.\")\n",
        "    else:\n",
        "        # If not already there, add to list\n",
        "        users.append(user)\n",
        "    print(users)"
      ],
      "metadata": {
        "id": "UdjGJm6copi0",
        "outputId": "b03bdfcf-a130-4779-bd56-247c53cbbb58",
        "colab": {
          "base_uri": "https://localhost:8080/",
          "height": 618
        }
      },
      "execution_count": 1,
      "outputs": [
        {
          "output_type": "stream",
          "name": "stdout",
          "text": [
            "Enter a user to check list for: Sim\n",
            "['Sim']\n",
            "Enter a user to check list for: Ali\n",
            "['Sim', 'Ali']\n",
            "Enter a user to check list for: Brendan\n",
            "['Sim', 'Ali', 'Brendan']\n",
            "Enter a user to check list for: Sim\n",
            "This user is already in the list.\n",
            "['Sim', 'Ali', 'Brendan']\n",
            "Enter a user to check list for: Brendan\n",
            "This user is already in the list.\n",
            "['Sim', 'Ali', 'Brendan']\n"
          ]
        },
        {
          "output_type": "error",
          "ename": "KeyboardInterrupt",
          "evalue": "ignored",
          "traceback": [
            "\u001b[0;31m---------------------------------------------------------------------------\u001b[0m",
            "\u001b[0;31mKeyboardInterrupt\u001b[0m                         Traceback (most recent call last)",
            "\u001b[0;32m<ipython-input-1-545de00bcafc>\u001b[0m in \u001b[0;36m<module>\u001b[0;34m\u001b[0m\n\u001b[1;32m      2\u001b[0m \u001b[0;32mwhile\u001b[0m \u001b[0;32mTrue\u001b[0m\u001b[0;34m:\u001b[0m\u001b[0;34m\u001b[0m\u001b[0;34m\u001b[0m\u001b[0m\n\u001b[1;32m      3\u001b[0m     \u001b[0;31m# Get a new user\u001b[0m\u001b[0;34m\u001b[0m\u001b[0;34m\u001b[0m\u001b[0;34m\u001b[0m\u001b[0m\n\u001b[0;32m----> 4\u001b[0;31m     \u001b[0muser\u001b[0m \u001b[0;34m=\u001b[0m \u001b[0minput\u001b[0m\u001b[0;34m(\u001b[0m\u001b[0;34m\"Enter a user to check list for: \"\u001b[0m\u001b[0;34m)\u001b[0m\u001b[0;34m\u001b[0m\u001b[0;34m\u001b[0m\u001b[0m\n\u001b[0m\u001b[1;32m      5\u001b[0m     \u001b[0;31m# Check the list\u001b[0m\u001b[0;34m\u001b[0m\u001b[0;34m\u001b[0m\u001b[0;34m\u001b[0m\u001b[0m\n\u001b[1;32m      6\u001b[0m     \u001b[0;32mif\u001b[0m \u001b[0muser\u001b[0m \u001b[0;32min\u001b[0m \u001b[0musers\u001b[0m\u001b[0;34m:\u001b[0m\u001b[0;34m\u001b[0m\u001b[0;34m\u001b[0m\u001b[0m\n",
            "\u001b[0;32m/usr/local/lib/python3.8/dist-packages/ipykernel/kernelbase.py\u001b[0m in \u001b[0;36mraw_input\u001b[0;34m(self, prompt)\u001b[0m\n\u001b[1;32m    858\u001b[0m                 \u001b[0;34m\"raw_input was called, but this frontend does not support input requests.\"\u001b[0m\u001b[0;34m\u001b[0m\u001b[0;34m\u001b[0m\u001b[0m\n\u001b[1;32m    859\u001b[0m             )\n\u001b[0;32m--> 860\u001b[0;31m         return self._input_request(str(prompt),\n\u001b[0m\u001b[1;32m    861\u001b[0m             \u001b[0mself\u001b[0m\u001b[0;34m.\u001b[0m\u001b[0m_parent_ident\u001b[0m\u001b[0;34m,\u001b[0m\u001b[0;34m\u001b[0m\u001b[0;34m\u001b[0m\u001b[0m\n\u001b[1;32m    862\u001b[0m             \u001b[0mself\u001b[0m\u001b[0;34m.\u001b[0m\u001b[0m_parent_header\u001b[0m\u001b[0;34m,\u001b[0m\u001b[0;34m\u001b[0m\u001b[0;34m\u001b[0m\u001b[0m\n",
            "\u001b[0;32m/usr/local/lib/python3.8/dist-packages/ipykernel/kernelbase.py\u001b[0m in \u001b[0;36m_input_request\u001b[0;34m(self, prompt, ident, parent, password)\u001b[0m\n\u001b[1;32m    902\u001b[0m             \u001b[0;32mexcept\u001b[0m \u001b[0mKeyboardInterrupt\u001b[0m\u001b[0;34m:\u001b[0m\u001b[0;34m\u001b[0m\u001b[0;34m\u001b[0m\u001b[0m\n\u001b[1;32m    903\u001b[0m                 \u001b[0;31m# re-raise KeyboardInterrupt, to truncate traceback\u001b[0m\u001b[0;34m\u001b[0m\u001b[0;34m\u001b[0m\u001b[0;34m\u001b[0m\u001b[0m\n\u001b[0;32m--> 904\u001b[0;31m                 \u001b[0;32mraise\u001b[0m \u001b[0mKeyboardInterrupt\u001b[0m\u001b[0;34m(\u001b[0m\u001b[0;34m\"Interrupted by user\"\u001b[0m\u001b[0;34m)\u001b[0m \u001b[0;32mfrom\u001b[0m \u001b[0;32mNone\u001b[0m\u001b[0;34m\u001b[0m\u001b[0;34m\u001b[0m\u001b[0m\n\u001b[0m\u001b[1;32m    905\u001b[0m             \u001b[0;32mexcept\u001b[0m \u001b[0mException\u001b[0m \u001b[0;32mas\u001b[0m \u001b[0me\u001b[0m\u001b[0;34m:\u001b[0m\u001b[0;34m\u001b[0m\u001b[0;34m\u001b[0m\u001b[0m\n\u001b[1;32m    906\u001b[0m                 \u001b[0mself\u001b[0m\u001b[0;34m.\u001b[0m\u001b[0mlog\u001b[0m\u001b[0;34m.\u001b[0m\u001b[0mwarning\u001b[0m\u001b[0;34m(\u001b[0m\u001b[0;34m\"Invalid Message:\"\u001b[0m\u001b[0;34m,\u001b[0m \u001b[0mexc_info\u001b[0m\u001b[0;34m=\u001b[0m\u001b[0;32mTrue\u001b[0m\u001b[0;34m)\u001b[0m\u001b[0;34m\u001b[0m\u001b[0;34m\u001b[0m\u001b[0m\n",
            "\u001b[0;31mKeyboardInterrupt\u001b[0m: Interrupted by user"
          ]
        }
      ]
    },
    {
      "cell_type": "markdown",
      "source": [
        "Single quotes and double quotes around strings."
      ],
      "metadata": {
        "id": "d4poVFiaR0HG"
      }
    },
    {
      "cell_type": "markdown",
      "source": [
        "Printing more and more easily"
      ],
      "metadata": {
        "id": "oMGJONFQxjMy"
      }
    },
    {
      "cell_type": "markdown",
      "source": [],
      "metadata": {
        "id": "8wwnr0LDPgQY"
      }
    }
  ]
}