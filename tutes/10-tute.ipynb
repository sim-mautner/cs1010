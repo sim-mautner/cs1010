{
  "nbformat": 4,
  "nbformat_minor": 0,
  "metadata": {
    "colab": {
      "name": "10-tute.ipynb",
      "provenance": [],
      "include_colab_link": true
    },
    "kernelspec": {
      "name": "python3",
      "display_name": "Python 3"
    },
    "language_info": {
      "name": "python"
    }
  },
  "cells": [
    {
      "cell_type": "markdown",
      "metadata": {
        "id": "view-in-github",
        "colab_type": "text"
      },
      "source": [
        "<a href=\"https://colab.research.google.com/github/sim-mautner/cs1010/blob/main/tutes/10-tute.ipynb\" target=\"_parent\"><img src=\"https://colab.research.google.com/assets/colab-badge.svg\" alt=\"Open In Colab\"/></a>"
      ]
    },
    {
      "cell_type": "markdown",
      "metadata": {
        "id": "isdUfdAwJLVt"
      },
      "source": [
        "# Week 10 Tutorial"
      ]
    },
    {
      "cell_type": "markdown",
      "metadata": {
        "id": "6dw7JmLCvzaZ"
      },
      "source": [
        "## myExperience\n",
        "\n",
        "Please take 10 minutes to fill out the myExperience forms for this course. (on Moodle)\n",
        "\n",
        "This is important so the university knows which courses to keep funding (and which need to be re-written), and which staff to keep employing (and which may need extra training)."
      ]
    },
    {
      "cell_type": "markdown",
      "source": [
        "## Detailed Course Feedback\n",
        "\n",
        "I (Sim) want to ensure that this course continues to improve and provide value to students. To help me with this I have a survey of some more detailed, course-specific questions which will help me make decisions about the future of this course.\n",
        "\n",
        "Please take 10 minutes to fill it out [here](https://forms.gle/VNYrRsLZyXBZEvmj6).\n",
        "\n",
        "You do not need to answer all the questions - only those which are relevant to you or you have thoughts/ideas about.\n",
        "\n",
        "You may come back and complete the form again if you think of something which may be useful to me."
      ],
      "metadata": {
        "id": "v8XZw18WjXtA"
      }
    },
    {
      "cell_type": "markdown",
      "metadata": {
        "id": "vkozy5nUhhD_"
      },
      "source": [
        "## Big Kahoot\n",
        "\n",
        "Your tutor will run through a Kahoot with you to test how well you remember certain concepts from the course."
      ]
    },
    {
      "cell_type": "markdown",
      "metadata": {
        "id": "8Q-WJF8-kcA_"
      },
      "source": [
        "## Revision\n",
        "\n",
        "If you have any tutorial questions remaining from this term, this is your chance to get them answered."
      ]
    },
    {
      "cell_type": "markdown",
      "source": [
        "## Lab Work\n",
        "\n",
        "Reminder: Your project reflections are due by Saturday night. (See lab submission schedule for a link to the form.)\n",
        "\n",
        "You may use the lab time this week to work on (and ask your tutor about):\n",
        "* Project\n",
        "* Project reflection\n",
        "* Practice exam"
      ],
      "metadata": {
        "id": "94LT2rSMpZwn"
      }
    }
  ]
}