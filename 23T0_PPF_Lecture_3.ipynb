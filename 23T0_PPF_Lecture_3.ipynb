{
  "nbformat": 4,
  "nbformat_minor": 0,
  "metadata": {
    "colab": {
      "provenance": [],
      "authorship_tag": "ABX9TyMIczGxGYKp6+Zr2NFy3bLg",
      "include_colab_link": true
    },
    "kernelspec": {
      "name": "python3",
      "display_name": "Python 3"
    },
    "language_info": {
      "name": "python"
    }
  },
  "cells": [
    {
      "cell_type": "markdown",
      "metadata": {
        "id": "view-in-github",
        "colab_type": "text"
      },
      "source": [
        "<a href=\"https://colab.research.google.com/github/sim-mautner/cs1010/blob/main/23T0_PPF_Lecture_3.ipynb\" target=\"_parent\"><img src=\"https://colab.research.google.com/assets/colab-badge.svg\" alt=\"Open In Colab\"/></a>"
      ]
    },
    {
      "cell_type": "markdown",
      "source": [
        "# Dictionaries"
      ],
      "metadata": {
        "id": "Jim5t9ptyc_W"
      }
    },
    {
      "cell_type": "markdown",
      "source": [
        "List:\n",
        "* Indexes (numbers)\n",
        "* Values or elements\n",
        "\n",
        "Dictionary:\n",
        "* key\n",
        "* value\n"
      ],
      "metadata": {
        "id": "1-f79QTSyfTo"
      }
    },
    {
      "cell_type": "code",
      "execution_count": 11,
      "metadata": {
        "colab": {
          "base_uri": "https://localhost:8080/"
        },
        "id": "vNHakXILyXty",
        "outputId": "274f60fd-d44d-420e-e8ab-da8d3f788af9"
      },
      "outputs": [
        {
          "output_type": "stream",
          "name": "stdout",
          "text": [
            "{'John Wick': 'Action', 'Romeo and Juliet': 'Romance', 'Ted': 'Comedy', 'Doctor Strange': 'Fantasy', 'Arrival': 'Science Fiction', 'Mad Max': 'Action'}\n",
            "{'John Wick': 'Action', 'Romeo and Juliet': 'Romance', 'Ted': 'Comedy', 'Doctor Strange': 'Fantasy', 'Arrival': 'Science Fiction', 'Mad Max': 'Action', 'Home': 'Family'}\n",
            "{'John Wick': 'Action', 'Romeo and Juliet': 'Romance', 'Ted': 'Comedy', 'Doctor Strange': 'Fantasy', 'Arrival': 'Science Fiction', 'Mad Max': 'Action', 'Home': 'Children'}\n"
          ]
        }
      ],
      "source": [
        "# Create an empty dictionary\n",
        "movies = {}\n",
        "\n",
        "# Create a dictionary with some elements\n",
        "movies = {\n",
        "    \"John Wick\":\"Action\",\n",
        "    \"Romeo and Juliet\":\"Romance\",\n",
        "    \"Ted\":\"Comedy\",\n",
        "    \"Doctor Strange\":\"Fantasy\",\n",
        "    \"Arrival\":\"Science Fiction\",\n",
        "    \"Mad Max\":\"Action\"\n",
        "}\n",
        "\n",
        "# Another example\n",
        "mad_max_fury_road = {\n",
        "    \"title\":\"Mad Max: Fury Road\",\n",
        "    \"year\":2015,\n",
        "    \"director\":\"George Miller\",\n",
        "    \"cinematography\":\"John Seale\"\n",
        "}\n",
        "\n",
        "print(movies)\n",
        "movies[\"Home\"] = \"Family\"\n",
        "print(movies)\n",
        "movies[\"Home\"] = \"Children\"\n",
        "print(movies)"
      ]
    },
    {
      "cell_type": "code",
      "source": [
        "# Can you sort a dictionary?\n",
        "\n",
        "movies_sorted = sorted(movies)\n",
        "print(movies_sorted)\n",
        "item_num = int(input(\"Which movie do you want to know the genre of? \"))\n",
        "# Get the movie name from the sorted list based on the number\n",
        "movie_they_want = movies_sorted[item_num]\n",
        "# Use the movie name to get more information from the movie dictionary\n",
        "info_they_want = movies[movie_they_want]\n",
        "# Display the more information\n",
        "print(info_they_want)"
      ],
      "metadata": {
        "id": "_Ac9Nzcj8oxj",
        "outputId": "a0d0f915-bb77-476e-a962-48284fd05958",
        "colab": {
          "base_uri": "https://localhost:8080/"
        }
      },
      "execution_count": 15,
      "outputs": [
        {
          "output_type": "stream",
          "name": "stdout",
          "text": [
            "['Arrival', 'Doctor Strange', 'Home', 'John Wick', 'Mad Max', 'Romeo and Juliet', 'Ted']\n",
            "Which movie do you want to know the genre of? 3\n",
            "Action\n"
          ]
        }
      ]
    },
    {
      "cell_type": "code",
      "source": [
        "print(movies.keys())\n",
        "print(movies.values())"
      ],
      "metadata": {
        "colab": {
          "base_uri": "https://localhost:8080/"
        },
        "id": "28Xs9UZN0sl8",
        "outputId": "648aca80-d925-4f1b-f4d6-fa092dd9215b"
      },
      "execution_count": null,
      "outputs": [
        {
          "output_type": "stream",
          "name": "stdout",
          "text": [
            "dict_keys(['John Wick', 'Romeo and Juliet', 'Ted', 'Doctor Strange', 'Arrival', 'Mad Max', 'Home'])\n",
            "dict_values(['Action', 'Romance', 'Comedy', 'Fantasy', 'Science Fiction', 'Action', 'Children'])\n"
          ]
        }
      ]
    },
    {
      "cell_type": "code",
      "source": [
        "for movie,genre in movies.items():\n",
        "    print(f\"{movie} is a {genre} movie.\")"
      ],
      "metadata": {
        "colab": {
          "base_uri": "https://localhost:8080/"
        },
        "id": "eEgA676d03d4",
        "outputId": "85076fa9-308e-47a7-fc3d-8c0ea80b2203"
      },
      "execution_count": null,
      "outputs": [
        {
          "output_type": "stream",
          "name": "stdout",
          "text": [
            "John Wick is a Action movie.\n",
            "Romeo and Juliet is a Romance movie.\n",
            "Ted is a Comedy movie.\n",
            "Doctor Strange is a Fantasy movie.\n",
            "Arrival is a Science Fiction movie.\n",
            "Mad Max is a Action movie.\n",
            "Home is a Children movie.\n"
          ]
        }
      ]
    },
    {
      "cell_type": "code",
      "source": [
        "print(movies[\"Ted\"])"
      ],
      "metadata": {
        "colab": {
          "base_uri": "https://localhost:8080/"
        },
        "id": "2ofwdKTK1Y-b",
        "outputId": "9c36274c-8143-4793-ca48-7014df29c65b"
      },
      "execution_count": null,
      "outputs": [
        {
          "output_type": "stream",
          "name": "stdout",
          "text": [
            "Comedy\n"
          ]
        }
      ]
    },
    {
      "cell_type": "markdown",
      "source": [
        "Should the genre be ‘key’ so that we can ask for ‘recommend me action movies’?"
      ],
      "metadata": {
        "id": "2rkLsjh11L2h"
      }
    },
    {
      "cell_type": "markdown",
      "source": [
        "Action:John Wick\n",
        "Action:Mad Max"
      ],
      "metadata": {
        "id": "Mcvs3Rit1U3m"
      }
    },
    {
      "cell_type": "code",
      "source": [
        "movies_by_genre = {\n",
        "    \"Action\":[\"John Wick\", \"Mad Max\"],\n",
        "    \"Family\":[\"Home\", \"My Neighbour Totoro\", \"Spirited Away\"],\n",
        "    \"Comedy\":[\"Ted\"]\n",
        "}"
      ],
      "metadata": {
        "id": "IbZxGARD1gZk"
      },
      "execution_count": null,
      "outputs": []
    },
    {
      "cell_type": "markdown",
      "source": [
        "Can we store lists as values in a dictionary? Say, for example, you wanted to store both the release date and the genre for each particular movie"
      ],
      "metadata": {
        "id": "YDq1s4ve1P02"
      }
    },
    {
      "cell_type": "code",
      "source": [
        "movies = {\n",
        "\n",
        "    \"Mad Max\":{\n",
        "        \"title\":\"Mad Max: Fury Road\",\n",
        "        \"year\":2015,\n",
        "        \"director\":\"George Miller\",\n",
        "        \"cinematography\":\"John Seale\"\n",
        "    },\n",
        "\n",
        "    \"Home\":{\n",
        "        \"title\":\"Home\",\n",
        "        \"year\":2015,\n",
        "        \"director\":\"Tim Johnson\"\n",
        "    }\n",
        "}\n",
        "\n",
        "for movie_title,movie_data in movies.items():\n",
        "    title = movie_title\n",
        "    director = movie_data['director']\n",
        "    print(f\"The director of {title} was {director}.\")\n",
        "    # If there is a cinematographer, then list it. (If there isn't one, and we try to access it, we get a KeyError.)\n",
        "    if 'cinematography' in movie_data.keys():\n",
        "        cinematographer = movie_data['cinematography']\n",
        "        print(f\"Cinetmatography for {title} was done by {cinematographer}.\")\n",
        "    else:\n",
        "        print(f\"No cinematographer listed for {title}.\")"
      ],
      "metadata": {
        "colab": {
          "base_uri": "https://localhost:8080/"
        },
        "id": "dqg-5CLn10Mt",
        "outputId": "2c7d2168-9269-4021-c73c-72e65f1182d5"
      },
      "execution_count": null,
      "outputs": [
        {
          "output_type": "stream",
          "name": "stdout",
          "text": [
            "The director of Mad Max was George Miller.\n",
            "Cinetmatography for Mad Max was done by John Seale.\n",
            "The director of Home was Tim Johnson.\n",
            "No cinematographer listed for Home.\n"
          ]
        }
      ]
    },
    {
      "cell_type": "markdown",
      "metadata": {
        "id": "cFRa9VbmAtZ2"
      },
      "source": [
        "## 1 - House Hunting\n",
        "\n",
        "The following cell defines a list of houses for sale. It includes their address, number of bedrooms and bathrooms, price, and features (garage, pool, granny flat, etc.)"
      ]
    },
    {
      "cell_type": "code",
      "metadata": {
        "id": "DyUHH3tCBQSa"
      },
      "source": [
        "houses = [\n",
        "    { \n",
        "        \"address\": \"42 Wallaby Way, Sydney\", \n",
        "        \"bedrooms\": 3, \n",
        "        \"bathrooms\": 2, \n",
        "        \"features\": [\"garage\", \"pool\"] \n",
        "    },\n",
        "    { \n",
        "        \"address\": \"123 Fake Street, Mosman\", \n",
        "        \"bedrooms\": 6, \n",
        "        \"bathrooms\": 3, \n",
        "        \"features\": [\"pool\", \"granny flat\"]     \n",
        "    },\n",
        "    { \n",
        "        \"address\": \"1 High Street, Kensington\", \n",
        "        \"bedrooms\": 2, \n",
        "        \"bathrooms\": 1, \n",
        "        \"features\": [] \n",
        "    },\n",
        "    { \n",
        "        \"address\": \"109 Kirribilli Ave, Kirribilli\", \n",
        "        \"bedrooms\": 10, \n",
        "        \"bathrooms\": 7, \n",
        "        \"features\": [\"garage\", \"pool\", \"wine cellar\", \"tennis court\"] \n",
        "    }\n",
        "]"
      ],
      "execution_count": 1,
      "outputs": []
    },
    {
      "cell_type": "code",
      "source": [
        "print(houses)\n",
        "print()\n",
        "for house in houses:\n",
        "    print(house)\n",
        "print()\n",
        "print(\"Only print addresses?\")\n",
        "for house in houses:\n",
        "    address = house[\"address\"]\n",
        "    print(address)\n",
        "\n",
        "print()\n",
        "print(\"What are the features?\")\n",
        "for house in houses:\n",
        "    print(house['features'])\n",
        "\n",
        "print()\n",
        "print(\"Which houses have pools?\")\n",
        "for house in houses:\n",
        "    if \"pool\" in house['features']:\n",
        "        print(house[\"address\"])\n",
        "\n",
        "print()\n",
        "for house in houses:\n",
        "    address = house[\"address\"]\n",
        "    features = house[\"features\"]\n",
        "    if \"pool\" in features:\n",
        "        print(address)"
      ],
      "metadata": {
        "id": "4WMUnPnv604t",
        "outputId": "9c2cd3a2-8527-4bb9-b686-70ce0e2e4c66",
        "colab": {
          "base_uri": "https://localhost:8080/"
        }
      },
      "execution_count": 9,
      "outputs": [
        {
          "output_type": "stream",
          "name": "stdout",
          "text": [
            "[{'address': '42 Wallaby Way, Sydney', 'bedrooms': 3, 'bathrooms': 2, 'features': ['garage', 'pool']}, {'address': '123 Fake Street, Mosman', 'bedrooms': 6, 'bathrooms': 3, 'features': ['pool', 'granny flat']}, {'address': '1 High Street, Kensington', 'bedrooms': 2, 'bathrooms': 1, 'features': []}, {'address': '109 Kirribilli Ave, Kirribilli', 'bedrooms': 10, 'bathrooms': 7, 'features': ['garage', 'pool', 'wine cellar', 'tennis court']}]\n",
            "\n",
            "{'address': '42 Wallaby Way, Sydney', 'bedrooms': 3, 'bathrooms': 2, 'features': ['garage', 'pool']}\n",
            "{'address': '123 Fake Street, Mosman', 'bedrooms': 6, 'bathrooms': 3, 'features': ['pool', 'granny flat']}\n",
            "{'address': '1 High Street, Kensington', 'bedrooms': 2, 'bathrooms': 1, 'features': []}\n",
            "{'address': '109 Kirribilli Ave, Kirribilli', 'bedrooms': 10, 'bathrooms': 7, 'features': ['garage', 'pool', 'wine cellar', 'tennis court']}\n",
            "\n",
            "Only print addresses?\n",
            "42 Wallaby Way, Sydney\n",
            "123 Fake Street, Mosman\n",
            "1 High Street, Kensington\n",
            "109 Kirribilli Ave, Kirribilli\n",
            "\n",
            "What are the features?\n",
            "['garage', 'pool']\n",
            "['pool', 'granny flat']\n",
            "[]\n",
            "['garage', 'pool', 'wine cellar', 'tennis court']\n",
            "\n",
            "Which houses have pools?\n",
            "42 Wallaby Way, Sydney\n",
            "123 Fake Street, Mosman\n",
            "109 Kirribilli Ave, Kirribilli\n",
            "\n",
            "42 Wallaby Way, Sydney\n",
            "123 Fake Street, Mosman\n",
            "109 Kirribilli Ave, Kirribilli\n"
          ]
        }
      ]
    },
    {
      "cell_type": "code",
      "source": [
        "# Since there is a dictionary in a list, how do we use the houses.append() if we had to add another house?"
      ],
      "metadata": {
        "id": "nhww95g_9mLm"
      },
      "execution_count": null,
      "outputs": []
    },
    {
      "cell_type": "code",
      "source": [
        "print(houses)\n",
        "houses.append(\n",
        "    { \n",
        "        \"address\": \"9 Fitzpatrick St, North Bondi\", \n",
        "        \"bedrooms\": 1, \n",
        "        \"bathrooms\": 5, \n",
        "        \"features\": [\"garage\", \"sauna\"] \n",
        "    }\n",
        ")\n",
        "print(houses)"
      ],
      "metadata": {
        "id": "n6mULmEx-JZk",
        "outputId": "e0046191-b157-40e6-c27f-b5659271dab1",
        "colab": {
          "base_uri": "https://localhost:8080/"
        }
      },
      "execution_count": 16,
      "outputs": [
        {
          "output_type": "stream",
          "name": "stdout",
          "text": [
            "[{'address': '42 Wallaby Way, Sydney', 'bedrooms': 3, 'bathrooms': 2, 'features': ['garage', 'pool']}, {'address': '123 Fake Street, Mosman', 'bedrooms': 6, 'bathrooms': 3, 'features': ['pool', 'granny flat']}, {'address': '1 High Street, Kensington', 'bedrooms': 2, 'bathrooms': 1, 'features': []}, {'address': '109 Kirribilli Ave, Kirribilli', 'bedrooms': 10, 'bathrooms': 7, 'features': ['garage', 'pool', 'wine cellar', 'tennis court']}]\n",
            "[{'address': '42 Wallaby Way, Sydney', 'bedrooms': 3, 'bathrooms': 2, 'features': ['garage', 'pool']}, {'address': '123 Fake Street, Mosman', 'bedrooms': 6, 'bathrooms': 3, 'features': ['pool', 'granny flat']}, {'address': '1 High Street, Kensington', 'bedrooms': 2, 'bathrooms': 1, 'features': []}, {'address': '109 Kirribilli Ave, Kirribilli', 'bedrooms': 10, 'bathrooms': 7, 'features': ['garage', 'pool', 'wine cellar', 'tennis court']}, {'address': '9 Fitzpatrick St, North Bondi', 'bedrooms': 1, 'bathrooms': 5, 'features': ['garage', 'sauna']}]\n"
          ]
        }
      ]
    },
    {
      "cell_type": "code",
      "source": [
        "address = input(\"Enter address: \")\n",
        "bedrooms = int(input(\"Num bedrooms: \"))\n",
        "bathrooms = int(input(\"Num bathrooms: \"))\n",
        "features = []\n",
        "feature = input(\"Feature: (or . to stop) \")\n",
        "while feature != '.':\n",
        "    features.append(feature)\n",
        "    feature = input(\"Feature: (or . to stop) \")\n",
        "houses.append(\n",
        "    {\n",
        "        \"address\":address,\n",
        "        \"bedrooms\":bedrooms,\n",
        "        \"bathrooms\":bathrooms,\n",
        "        \"features\":features\n",
        "    }\n",
        ")"
      ],
      "metadata": {
        "id": "ftUQhUcA-ciX",
        "outputId": "f3031573-8c7a-4101-eb51-885a203f3bf1",
        "colab": {
          "base_uri": "https://localhost:8080/"
        }
      },
      "execution_count": 17,
      "outputs": [
        {
          "name": "stdout",
          "output_type": "stream",
          "text": [
            "Enter address: 6B Top of the Hill\n",
            "Num bedrooms: 2\n",
            "Num bathrooms: 1\n",
            "Feature: (or . to stop) study\n",
            "Feature: (or . to stop) movie theatre\n",
            "Feature: (or . to stop) games room\n",
            "Feature: (or . to stop) .\n"
          ]
        }
      ]
    },
    {
      "cell_type": "code",
      "source": [
        "print(houses)"
      ],
      "metadata": {
        "id": "heYULPzI_DaJ",
        "outputId": "c52536a4-8d65-422d-935f-40c94326ae13",
        "colab": {
          "base_uri": "https://localhost:8080/"
        }
      },
      "execution_count": 18,
      "outputs": [
        {
          "output_type": "stream",
          "name": "stdout",
          "text": [
            "[{'address': '42 Wallaby Way, Sydney', 'bedrooms': 3, 'bathrooms': 2, 'features': ['garage', 'pool']}, {'address': '123 Fake Street, Mosman', 'bedrooms': 6, 'bathrooms': 3, 'features': ['pool', 'granny flat']}, {'address': '1 High Street, Kensington', 'bedrooms': 2, 'bathrooms': 1, 'features': []}, {'address': '109 Kirribilli Ave, Kirribilli', 'bedrooms': 10, 'bathrooms': 7, 'features': ['garage', 'pool', 'wine cellar', 'tennis court']}, {'address': '9 Fitzpatrick St, North Bondi', 'bedrooms': 1, 'bathrooms': 5, 'features': ['garage', 'sauna']}, {'address': '6B Top of the Hill', 'bedrooms': 2, 'bathrooms': 1, 'features': ['study', 'movie theatre', 'games room']}]\n"
          ]
        }
      ]
    },
    {
      "cell_type": "markdown",
      "metadata": {
        "id": "m_5f5IK_BSti"
      },
      "source": [
        "\n",
        "Write the function `find_houses(houses, bedrooms, bathrooms, features)` that returns a list of the addresses of all the houses with at least the given number of bedrooms and bathrooms and at least the given list of features.\n",
        "\n",
        "**NOTE:** Don't assume the list of houses or set of possible features is constrained to what is written above. Your function should still work if new houses were added to the above list."
      ]
    },
    {
      "cell_type": "code",
      "metadata": {
        "id": "zMpFumJHB7QS"
      },
      "source": [],
      "execution_count": null,
      "outputs": []
    },
    {
      "cell_type": "markdown",
      "metadata": {
        "id": "YzC7pPTXBmrA"
      },
      "source": [
        "Use this cell to test your function:"
      ]
    },
    {
      "cell_type": "code",
      "metadata": {
        "id": "ToutMRHgBpSJ"
      },
      "source": [
        "assert find_houses(houses, 3, 1, [\"garage\"]) == [\"42 Wallaby Way, Sydney\", \"109 Kirribilli Ave, Kirribilli\"]\n",
        "assert find_houses(houses, 6, 4, []) == [\"109 Kirribilli Ave, Kirribilli\"]\n",
        "assert find_houses(houses, 1, 1, [\"granny flat\"]) == [\"123 Fake Street, Mosman\"]"
      ],
      "execution_count": null,
      "outputs": []
    },
    {
      "cell_type": "markdown",
      "source": [
        "shapes/colours? inspired by your cool necklace"
      ],
      "metadata": {
        "id": "7LH24tC9ym4W"
      }
    }
  ]
}