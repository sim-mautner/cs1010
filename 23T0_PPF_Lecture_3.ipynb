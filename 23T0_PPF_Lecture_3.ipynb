{
  "nbformat": 4,
  "nbformat_minor": 0,
  "metadata": {
    "colab": {
      "provenance": [],
      "authorship_tag": "ABX9TyOYmE06ytIIFcj0nsdW1zDr",
      "include_colab_link": true
    },
    "kernelspec": {
      "name": "python3",
      "display_name": "Python 3"
    },
    "language_info": {
      "name": "python"
    }
  },
  "cells": [
    {
      "cell_type": "markdown",
      "metadata": {
        "id": "view-in-github",
        "colab_type": "text"
      },
      "source": [
        "<a href=\"https://colab.research.google.com/github/sim-mautner/cs1010/blob/main/23T0_PPF_Lecture_3.ipynb\" target=\"_parent\"><img src=\"https://colab.research.google.com/assets/colab-badge.svg\" alt=\"Open In Colab\"/></a>"
      ]
    },
    {
      "cell_type": "markdown",
      "source": [
        "# Dictionaries"
      ],
      "metadata": {
        "id": "Jim5t9ptyc_W"
      }
    },
    {
      "cell_type": "markdown",
      "source": [
        "List:\n",
        "* Indexes (numbers)\n",
        "* Values or elements\n",
        "\n",
        "Dictionary:\n",
        "* key\n",
        "* value\n"
      ],
      "metadata": {
        "id": "1-f79QTSyfTo"
      }
    },
    {
      "cell_type": "code",
      "execution_count": 4,
      "metadata": {
        "colab": {
          "base_uri": "https://localhost:8080/"
        },
        "id": "vNHakXILyXty",
        "outputId": "d2a4d153-f51b-4e6d-cedf-1fb13de3438e"
      },
      "outputs": [
        {
          "output_type": "stream",
          "name": "stdout",
          "text": [
            "{'John Wick': 'Action', 'Romeo and Juliet': 'Romance', 'Ted': 'Comedy', 'Doctor Strange': 'Fantasy', 'Arrival': 'Science Fiction', 'Mad Max': 'Action'}\n",
            "{'John Wick': 'Action', 'Romeo and Juliet': 'Romance', 'Ted': 'Comedy', 'Doctor Strange': 'Fantasy', 'Arrival': 'Science Fiction', 'Mad Max': 'Action', 'Home': 'Family'}\n",
            "{'John Wick': 'Action', 'Romeo and Juliet': 'Romance', 'Ted': 'Comedy', 'Doctor Strange': 'Fantasy', 'Arrival': 'Science Fiction', 'Mad Max': 'Action', 'Home': 'Children'}\n"
          ]
        }
      ],
      "source": [
        "# Create an empty dictionary\n",
        "movies = {}\n",
        "\n",
        "# Create a dictionary with some elements\n",
        "movies = {\n",
        "    \"John Wick\":\"Action\",\n",
        "    \"Romeo and Juliet\":\"Romance\",\n",
        "    \"Ted\":\"Comedy\",\n",
        "    \"Doctor Strange\":\"Fantasy\",\n",
        "    \"Arrival\":\"Science Fiction\",\n",
        "    \"Mad Max\":\"Action\"\n",
        "}\n",
        "\n",
        "# Another example\n",
        "mad_max_fury_road = {\n",
        "    \"title\":\"Mad Max: Fury Road\",\n",
        "    \"year\":2015,\n",
        "    \"director\":\"George Miller\",\n",
        "    \"cinematography\":\"John Seale\"\n",
        "}\n",
        "\n",
        "print(movies)\n",
        "movies[\"Home\"] = \"Family\"\n",
        "print(movies)\n",
        "movies[\"Home\"] = \"Children\"\n",
        "print(movies)"
      ]
    },
    {
      "cell_type": "code",
      "source": [
        "print(movies.keys())\n",
        "print(movies.values())"
      ],
      "metadata": {
        "colab": {
          "base_uri": "https://localhost:8080/"
        },
        "id": "28Xs9UZN0sl8",
        "outputId": "648aca80-d925-4f1b-f4d6-fa092dd9215b"
      },
      "execution_count": 7,
      "outputs": [
        {
          "output_type": "stream",
          "name": "stdout",
          "text": [
            "dict_keys(['John Wick', 'Romeo and Juliet', 'Ted', 'Doctor Strange', 'Arrival', 'Mad Max', 'Home'])\n",
            "dict_values(['Action', 'Romance', 'Comedy', 'Fantasy', 'Science Fiction', 'Action', 'Children'])\n"
          ]
        }
      ]
    },
    {
      "cell_type": "code",
      "source": [
        "for movie,genre in movies.items():\n",
        "    print(f\"{movie} is a {genre} movie.\")"
      ],
      "metadata": {
        "colab": {
          "base_uri": "https://localhost:8080/"
        },
        "id": "eEgA676d03d4",
        "outputId": "85076fa9-308e-47a7-fc3d-8c0ea80b2203"
      },
      "execution_count": 9,
      "outputs": [
        {
          "output_type": "stream",
          "name": "stdout",
          "text": [
            "John Wick is a Action movie.\n",
            "Romeo and Juliet is a Romance movie.\n",
            "Ted is a Comedy movie.\n",
            "Doctor Strange is a Fantasy movie.\n",
            "Arrival is a Science Fiction movie.\n",
            "Mad Max is a Action movie.\n",
            "Home is a Children movie.\n"
          ]
        }
      ]
    },
    {
      "cell_type": "code",
      "source": [
        "print(movies[\"Ted\"])"
      ],
      "metadata": {
        "colab": {
          "base_uri": "https://localhost:8080/"
        },
        "id": "2ofwdKTK1Y-b",
        "outputId": "9c36274c-8143-4793-ca48-7014df29c65b"
      },
      "execution_count": 10,
      "outputs": [
        {
          "output_type": "stream",
          "name": "stdout",
          "text": [
            "Comedy\n"
          ]
        }
      ]
    },
    {
      "cell_type": "markdown",
      "source": [
        "Should the genre be ‘key’ so that we can ask for ‘recommend me action movies’?"
      ],
      "metadata": {
        "id": "2rkLsjh11L2h"
      }
    },
    {
      "cell_type": "markdown",
      "source": [
        "Action:John Wick\n",
        "Action:Mad Max"
      ],
      "metadata": {
        "id": "Mcvs3Rit1U3m"
      }
    },
    {
      "cell_type": "code",
      "source": [
        "movies_by_genre = {\n",
        "    \"Action\":[\"John Wick\", \"Mad Max\"],\n",
        "    \"Family\":[\"Home\", \"My Neighbour Totoro\", \"Spirited Away\"],\n",
        "    \"Comedy\":[\"Ted\"]\n",
        "}"
      ],
      "metadata": {
        "id": "IbZxGARD1gZk"
      },
      "execution_count": null,
      "outputs": []
    },
    {
      "cell_type": "markdown",
      "source": [
        "Can we store lists as values in a dictionary? Say, for example, you wanted to store both the release date and the genre for each particular movie"
      ],
      "metadata": {
        "id": "YDq1s4ve1P02"
      }
    },
    {
      "cell_type": "code",
      "source": [
        "movies = {\n",
        "\n",
        "    \"Mad Max\":{\n",
        "        \"title\":\"Mad Max: Fury Road\",\n",
        "        \"year\":2015,\n",
        "        \"director\":\"George Miller\",\n",
        "        \"cinematography\":\"John Seale\"\n",
        "    },\n",
        "\n",
        "    \"Home\":{\n",
        "        \"title\":\"Home\",\n",
        "        \"year\":2015,\n",
        "        \"director\":\"Tim Johnson\"\n",
        "    }\n",
        "}\n",
        "\n",
        "for movie_title,movie_data in movies.items():\n",
        "    title = movie_title\n",
        "    director = movie_data['director']\n",
        "    print(f\"The director of {title} was {director}.\")\n",
        "    # If there is a cinematographer, then list it. (If there isn't one, and we try to access it, we get a KeyError.)\n",
        "    if 'cinematography' in movie_data.keys():\n",
        "        cinematographer = movie_data['cinematography']\n",
        "        print(f\"Cinetmatography for {title} was done by {cinematographer}.\")\n",
        "    else:\n",
        "        print(f\"No cinematographer listed for {title}.\")"
      ],
      "metadata": {
        "colab": {
          "base_uri": "https://localhost:8080/"
        },
        "id": "dqg-5CLn10Mt",
        "outputId": "2c7d2168-9269-4021-c73c-72e65f1182d5"
      },
      "execution_count": 16,
      "outputs": [
        {
          "output_type": "stream",
          "name": "stdout",
          "text": [
            "The director of Mad Max was George Miller.\n",
            "Cinetmatography for Mad Max was done by John Seale.\n",
            "The director of Home was Tim Johnson.\n",
            "No cinematographer listed for Home.\n"
          ]
        }
      ]
    },
    {
      "cell_type": "markdown",
      "metadata": {
        "id": "cFRa9VbmAtZ2"
      },
      "source": [
        "## 1 - House Hunting\n",
        "\n",
        "The following cell defines a list of houses for sale. It includes their address, number of bedrooms and bathrooms, price, and features (garage, pool, granny flat, etc.)"
      ]
    },
    {
      "cell_type": "code",
      "metadata": {
        "id": "DyUHH3tCBQSa"
      },
      "source": [
        "houses = [\n",
        "    { \n",
        "        \"address\": \"42 Wallaby Way, Sydney\", \n",
        "        \"bedrooms\": 3, \n",
        "        \"bathrooms\": 2, \n",
        "        \"features\": [\"garage\", \"pool\"] \n",
        "    },\n",
        "    { \n",
        "        \"address\": \"123 Fake Street, Mosman\", \n",
        "        \"bedrooms\": 6, \n",
        "        \"bathrooms\": 3, \n",
        "        \"features\": [\"pool\", \"granny flat\"]     \n",
        "    },\n",
        "    { \n",
        "        \"address\": \"1 High Street, Kensington\", \n",
        "        \"bedrooms\": 2, \n",
        "        \"bathrooms\": 1, \n",
        "        \"features\": [] \n",
        "    },\n",
        "    { \n",
        "        \"address\": \"109 Kirribilli Ave, Kirribilli\", \n",
        "        \"bedrooms\": 10, \n",
        "        \"bathrooms\": 7, \n",
        "        \"features\": [\"garage\", \"pool\", \"wine cellar\", \"tennis court\"] \n",
        "    }\n",
        "]"
      ],
      "execution_count": null,
      "outputs": []
    },
    {
      "cell_type": "markdown",
      "metadata": {
        "id": "m_5f5IK_BSti"
      },
      "source": [
        "\n",
        "Write the function `find_houses(houses, bedrooms, bathrooms, features)` that returns a list of the addresses of all the houses with at least the given number of bedrooms and bathrooms and at least the given list of features.\n",
        "\n",
        "**NOTE:** Don't assume the list of houses or set of possible features is constrained to what is written above. Your function should still work if new houses were added to the above list."
      ]
    },
    {
      "cell_type": "code",
      "metadata": {
        "id": "zMpFumJHB7QS"
      },
      "source": [],
      "execution_count": null,
      "outputs": []
    },
    {
      "cell_type": "markdown",
      "metadata": {
        "id": "YzC7pPTXBmrA"
      },
      "source": [
        "Use this cell to test your function:"
      ]
    },
    {
      "cell_type": "code",
      "metadata": {
        "id": "ToutMRHgBpSJ"
      },
      "source": [
        "assert find_houses(houses, 3, 1, [\"garage\"]) == [\"42 Wallaby Way, Sydney\", \"109 Kirribilli Ave, Kirribilli\"]\n",
        "assert find_houses(houses, 6, 4, []) == [\"109 Kirribilli Ave, Kirribilli\"]\n",
        "assert find_houses(houses, 1, 1, [\"granny flat\"]) == [\"123 Fake Street, Mosman\"]"
      ],
      "execution_count": null,
      "outputs": []
    },
    {
      "cell_type": "markdown",
      "source": [
        "shapes/colours? inspired by your cool necklace"
      ],
      "metadata": {
        "id": "7LH24tC9ym4W"
      }
    }
  ]
}