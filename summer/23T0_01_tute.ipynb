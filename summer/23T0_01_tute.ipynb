{
  "nbformat": 4,
  "nbformat_minor": 0,
  "metadata": {
    "colab": {
      "provenance": [],
      "authorship_tag": "ABX9TyPsdJ1ZAGe/o6HjTdjIOaHE",
      "include_colab_link": true
    },
    "kernelspec": {
      "name": "python3",
      "display_name": "Python 3"
    },
    "language_info": {
      "name": "python"
    }
  },
  "cells": [
    {
      "cell_type": "markdown",
      "metadata": {
        "id": "view-in-github",
        "colab_type": "text"
      },
      "source": [
        "<a href=\"https://colab.research.google.com/github/sim-mautner/cs1010/blob/main/summer/23T0_01_tute.ipynb\" target=\"_parent\"><img src=\"https://colab.research.google.com/assets/colab-badge.svg\" alt=\"Open In Colab\"/></a>"
      ]
    },
    {
      "cell_type": "markdown",
      "source": [
        "# COMP1010 Week 1 Tutorial"
      ],
      "metadata": {
        "id": "kqs56S5qco14"
      }
    },
    {
      "cell_type": "markdown",
      "source": [
        "## Introductions\n",
        "Go around the class, share:\n",
        "\n",
        "* Your name\n",
        "* What year of uni you’re in\n",
        "* What degree you're doing\n",
        "Either:\n",
        "* A hobby/sport/activity you enjoy\n",
        "* Your favourite Disney song"
      ],
      "metadata": {
        "id": "siuNuFVDccEQ"
      }
    },
    {
      "cell_type": "markdown",
      "source": [
        "## The Importance of Order\n",
        "Just like a recipe, the sequence in which we tell a computer to execute instructions is important.\n",
        "\n",
        "<Tutor’s choice of activity>"
      ],
      "metadata": {
        "id": "3SQZ4i4ocmwL"
      }
    },
    {
      "cell_type": "markdown",
      "source": [
        "## Strings"
      ],
      "metadata": {
        "id": "oAjtVaKjc9ku"
      }
    },
    {
      "cell_type": "markdown",
      "source": [
        "**Tutor Note:** This is an introduction to the Fixing Python section in case we don't cover strings in this level of detail in the lecture. You may need to elaborate on the difference between built-in functions and string methods in Python."
      ],
      "metadata": {
        "id": "APUuVvMidzYD"
      }
    },
    {
      "cell_type": "markdown",
      "source": [
        "1. What is a string?"
      ],
      "metadata": {
        "id": "Uv2qgQuHdFQf"
      }
    },
    {
      "cell_type": "markdown",
      "source": [
        "2. How can we find out how many characters there are in a string?"
      ],
      "metadata": {
        "id": "oO4eRk0CdJS3"
      }
    },
    {
      "cell_type": "markdown",
      "source": [
        "3. How can we find out the number of times a specific character occurs in a string?"
      ],
      "metadata": {
        "id": "V1ADpcJGdPnA"
      }
    },
    {
      "cell_type": "markdown",
      "metadata": {
        "id": "mx_atH3vJekl"
      },
      "source": [
        "## Fixing Python\n",
        "\n",
        "The following problems all have solutions written in Python. However, they contain bugs that stop them from working correctly. Try to identify the bug and fix them."
      ]
    },
    {
      "cell_type": "markdown",
      "source": [
        "**Tutor Note:** Show the error messages as they occur and show the whole process of identifying the error and fixing it."
      ],
      "metadata": {
        "id": "DmssfgUWeczZ"
      }
    },
    {
      "cell_type": "markdown",
      "metadata": {
        "id": "Dv2mr0G3JseG"
      },
      "source": [
        "How many characters are there in this quote?"
      ]
    },
    {
      "cell_type": "code",
      "metadata": {
        "id": "SW0Bi8XsEBUR"
      },
      "source": [
        "quote = \"This isn’t flying. This is falling with style.\"\n",
        "\n",
        "quote.len()"
      ],
      "execution_count": null,
      "outputs": []
    },
    {
      "cell_type": "markdown",
      "metadata": {
        "id": "jpXEVSKPEBUR"
      },
      "source": [
        "How many 9s are in the decimal representation of this number?"
      ]
    },
    {
      "cell_type": "code",
      "metadata": {
        "id": "96Wx70mGEBUR"
      },
      "source": [
        "a big number = 87609809843907458937469\n",
        "\n",
        "str(a big number).count(\"9\")"
      ],
      "execution_count": null,
      "outputs": []
    },
    {
      "cell_type": "markdown",
      "metadata": {
        "id": "k8r5AfZpL6au"
      },
      "source": [
        "## Conditionals\n",
        "\n"
      ]
    },
    {
      "cell_type": "markdown",
      "source": [
        "1. Grades\n",
        "\n",
        "Write a Python program which asks the user to enter their total marks for a course, and then prints out:\n",
        "* HD if their mark is at least 85.\n",
        "* DN if their mark is at least 75 but less than 85.\n",
        "* CR if their mark is at least 65 but less than 75.\n",
        "* PS if their mark is at least 50 but less than 65.\n",
        "* FL if their mark is less than 50.\n",
        "\n",
        "As a class, how many different ways can you come up with to write this program?"
      ],
      "metadata": {
        "id": "S38eZJKsfGD8"
      }
    },
    {
      "cell_type": "code",
      "source": [],
      "metadata": {
        "id": "2BJz2Ef8fKVi"
      },
      "execution_count": null,
      "outputs": []
    },
    {
      "cell_type": "markdown",
      "source": [
        "2. Leap Years\n",
        "\n",
        "Consider a function which takes in a year (e.g. 2018) and returns `True` if it's a leap year or `False` if it's not a leap year.\n"
      ],
      "metadata": {
        "id": "zVxnY9Ote8ox"
      }
    },
    {
      "cell_type": "markdown",
      "source": [
        "**Tutor Note:** You may need to teach the mod (%) operator before being able to complete this question. (If it hasn't been covered in the lectures.)"
      ],
      "metadata": {
        "id": "wIqCKB8TfLjJ"
      }
    },
    {
      "cell_type": "code",
      "source": [],
      "metadata": {
        "id": "yMfg-R5LfK0s"
      },
      "execution_count": null,
      "outputs": []
    },
    {
      "cell_type": "markdown",
      "source": [
        "## If Time"
      ],
      "metadata": {
        "id": "9o26oSrpfZGz"
      }
    },
    {
      "cell_type": "markdown",
      "source": [
        "* Do you have any questions about the course?\n",
        "* Do you know how to access the forum? (Check everyone can access it.) [Forum join link.](https://edstem.org/au/join/Vqcxqv)\n",
        "* What ideas can you brainstorm for your projects? (You can watch the playlist with some past projects to get you started if needed.) [Playlist of some previous projects.](https://www.youtube.com/playlist?list=PLsPlf0OhSLIqKEFA9PeB3p-tQnfaNiDSI)"
      ],
      "metadata": {
        "id": "qXnRdgwyfbqj"
      }
    }
  ]
}