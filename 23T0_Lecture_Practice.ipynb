{
  "nbformat": 4,
  "nbformat_minor": 0,
  "metadata": {
    "colab": {
      "provenance": [],
      "authorship_tag": "ABX9TyPuhYhbAqOETRBPQJtJSqUn",
      "include_colab_link": true
    },
    "kernelspec": {
      "name": "python3",
      "display_name": "Python 3"
    },
    "language_info": {
      "name": "python"
    }
  },
  "cells": [
    {
      "cell_type": "markdown",
      "metadata": {
        "id": "view-in-github",
        "colab_type": "text"
      },
      "source": [
        "<a href=\"https://colab.research.google.com/github/sim-mautner/cs1010/blob/main/23T0_Lecture_Practice.ipynb\" target=\"_parent\"><img src=\"https://colab.research.google.com/assets/colab-badge.svg\" alt=\"Open In Colab\"/></a>"
      ]
    },
    {
      "cell_type": "code",
      "execution_count": null,
      "metadata": {
        "colab": {
          "base_uri": "https://localhost:8080/"
        },
        "id": "jroy_hyfQgyA",
        "outputId": "6201ba88-32b9-4fbb-85d4-ca679a7d817b"
      },
      "outputs": [
        {
          "output_type": "execute_result",
          "data": {
            "text/plain": [
              "str"
            ]
          },
          "metadata": {},
          "execution_count": 1
        }
      ],
      "source": [
        "type(\"Hello\")"
      ]
    },
    {
      "cell_type": "code",
      "source": [
        "age = input(\"Enter your age: \")\n",
        "# Step 1 check if age is an integer\n",
        "if age.isnumeric():\n",
        "    # If it is, we can change it to an int\n",
        "    age = int(age)\n",
        "    print(\"You can get a senior citizen card in \")\n",
        "    print(65-age)\n",
        "    print(\"years\")\n",
        "else:\n",
        "    print(\"You did not enter a number. That cannot be your age.\")"
      ],
      "metadata": {
        "colab": {
          "base_uri": "https://localhost:8080/"
        },
        "id": "SEOdve_uQ2S2",
        "outputId": "b1e271f6-0bc5-414e-b955-f9ce4edc47cb"
      },
      "execution_count": null,
      "outputs": [
        {
          "output_type": "stream",
          "name": "stdout",
          "text": [
            "Enter your age: 42\n",
            "You can get a senior citizen card in \n",
            "23\n",
            "years\n"
          ]
        }
      ]
    },
    {
      "cell_type": "markdown",
      "source": [
        "## If Statement Practice\n",
        "\n",
        "(Source of questions: https://www.codesdope.com/practice/python-decide-ifelse/)"
      ],
      "metadata": {
        "id": "rDjKgZJTDMbf"
      }
    },
    {
      "cell_type": "markdown",
      "source": [
        "Take values of length and breadth of a rectangle from user and check if it is square or not."
      ],
      "metadata": {
        "id": "466spBSnDQ7G"
      }
    },
    {
      "cell_type": "code",
      "source": [
        "# Get length and breadth from the user\n",
        "length = input(\"Enter the length: \")\n",
        "breadth = input(\"Enter the breadth: \")\n",
        "\n",
        "# Check if it's a square or not\n",
        "if length == breadth:\n",
        "    print(\"It is a square.\")\n",
        "else:\n",
        "    print(\"It is not a square.\")"
      ],
      "metadata": {
        "id": "y19AKLF1DZte",
        "outputId": "5908ff54-5471-47bd-ed59-50f11b98ae21",
        "colab": {
          "base_uri": "https://localhost:8080/"
        }
      },
      "execution_count": 3,
      "outputs": [
        {
          "output_type": "stream",
          "name": "stdout",
          "text": [
            "Enter the length: 5\n",
            "Enter the breadth: 10\n",
            "It is not a square.\n"
          ]
        }
      ]
    },
    {
      "cell_type": "markdown",
      "source": [
        "Take input of age of 3 people by user and determine oldest and youngest among them."
      ],
      "metadata": {
        "id": "5H_sQoCMErS0"
      }
    },
    {
      "cell_type": "code",
      "source": [
        "# Take the age of 3 people\n",
        "age1 = input(\"Enter age 1: \")\n",
        "age2 = input(\"Enter age 2: \")\n",
        "age3 = input(\"Enter age 3: \")\n",
        "\n",
        "# Change ages to ints\n",
        "age1 = int(age1)\n",
        "age2 = int(age2)\n",
        "age3 = int(age3)\n",
        "\n",
        "# Determine the oldest and youngest\n",
        "# I'm older than you (one other person) and I'm older than you (the other other person), therefore, I am the oldest\n",
        "if age1 > age2 and age1 > age3:\n",
        "    print(age1)\n",
        "    print(\"is the oldest\")\n",
        "# Do this for the other two people\n",
        "if age2 > age1 and age2 > age3:\n",
        "    print(age2)\n",
        "    print(\"is the oldest\")\n",
        "if age3 > age1 and age3 > age2:\n",
        "    print(age3)\n",
        "    print(\"is the oldest\")"
      ],
      "metadata": {
        "id": "y51BU3OsEp-t",
        "outputId": "1291ada3-a618-4190-ac39-3866198f2c7e",
        "colab": {
          "base_uri": "https://localhost:8080/"
        }
      },
      "execution_count": 9,
      "outputs": [
        {
          "output_type": "stream",
          "name": "stdout",
          "text": [
            "Enter age 1: 100\n",
            "Enter age 2: 5\n",
            "Enter age 3: 7\n",
            "100\n",
            "is the oldest\n"
          ]
        }
      ]
    },
    {
      "cell_type": "markdown",
      "source": [
        "Why do we have to convert them to ints?\n",
        "* \"100\" and \"7\" --> 100 < 7 (NOT TRUE! But the computer says this...) because 7 is higher than 1\n",
        "* \"Kai\" and \"Sim\" --> Kai > Sim because K comes before S in the alphabet\n"
      ],
      "metadata": {
        "id": "OtQpivXNF_r8"
      }
    }
  ]
}