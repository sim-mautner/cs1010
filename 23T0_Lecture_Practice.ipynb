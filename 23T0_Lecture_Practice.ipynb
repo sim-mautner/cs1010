{
  "nbformat": 4,
  "nbformat_minor": 0,
  "metadata": {
    "colab": {
      "provenance": [],
      "authorship_tag": "ABX9TyO8DLKnVzjEr1qz3vfPvf5S",
      "include_colab_link": true
    },
    "kernelspec": {
      "name": "python3",
      "display_name": "Python 3"
    },
    "language_info": {
      "name": "python"
    }
  },
  "cells": [
    {
      "cell_type": "markdown",
      "metadata": {
        "id": "view-in-github",
        "colab_type": "text"
      },
      "source": [
        "<a href=\"https://colab.research.google.com/github/sim-mautner/cs1010/blob/main/23T0_Lecture_Practice.ipynb\" target=\"_parent\"><img src=\"https://colab.research.google.com/assets/colab-badge.svg\" alt=\"Open In Colab\"/></a>"
      ]
    },
    {
      "cell_type": "code",
      "execution_count": 1,
      "metadata": {
        "colab": {
          "base_uri": "https://localhost:8080/"
        },
        "id": "jroy_hyfQgyA",
        "outputId": "6201ba88-32b9-4fbb-85d4-ca679a7d817b"
      },
      "outputs": [
        {
          "output_type": "execute_result",
          "data": {
            "text/plain": [
              "str"
            ]
          },
          "metadata": {},
          "execution_count": 1
        }
      ],
      "source": [
        "type(\"Hello\")"
      ]
    },
    {
      "cell_type": "code",
      "source": [
        "age = input(\"Enter your age: \")\n",
        "# Step 1 check if age is an integer\n",
        "if age.isnumeric():\n",
        "    # If it is, we can change it to an int\n",
        "    age = int(age)\n",
        "    print(\"You can get a senior citizen card in \")\n",
        "    print(65-age)\n",
        "    print(\"years\")\n",
        "else:\n",
        "    print(\"You did not enter a number. That cannot be your age.\")"
      ],
      "metadata": {
        "colab": {
          "base_uri": "https://localhost:8080/"
        },
        "id": "SEOdve_uQ2S2",
        "outputId": "b1e271f6-0bc5-414e-b955-f9ce4edc47cb"
      },
      "execution_count": 1,
      "outputs": [
        {
          "output_type": "stream",
          "name": "stdout",
          "text": [
            "Enter your age: 42\n",
            "You can get a senior citizen card in \n",
            "23\n",
            "years\n"
          ]
        }
      ]
    }
  ]
}