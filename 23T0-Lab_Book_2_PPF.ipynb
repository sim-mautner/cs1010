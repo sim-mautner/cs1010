{
  "nbformat": 4,
  "nbformat_minor": 0,
  "metadata": {
    "colab": {
      "provenance": [],
      "authorship_tag": "ABX9TyP5WUKAx83iEgtw0m0GOo2T",
      "include_colab_link": true
    },
    "kernelspec": {
      "name": "python3",
      "display_name": "Python 3"
    },
    "language_info": {
      "name": "python"
    }
  },
  "cells": [
    {
      "cell_type": "markdown",
      "metadata": {
        "id": "view-in-github",
        "colab_type": "text"
      },
      "source": [
        "<a href=\"https://colab.research.google.com/github/sim-mautner/cs1010/blob/main/23T0-Lab_Book_2_PPF.ipynb\" target=\"_parent\"><img src=\"https://colab.research.google.com/assets/colab-badge.svg\" alt=\"Open In Colab\"/></a>"
      ]
    },
    {
      "cell_type": "markdown",
      "source": [
        "This is version 2 of the lab book.\n",
        "\n",
        "In 23T0 it is being developed as the lectures are being delivered.\n",
        "\n",
        "Please check in often to get an updated copy of the questions."
      ],
      "metadata": {
        "id": "gGIEIyWHpqoE"
      }
    },
    {
      "cell_type": "markdown",
      "metadata": {
        "id": "lZ12ERUqJfSb"
      },
      "source": [
        "## 1. Conditionals (0.5 marks)"
      ]
    },
    {
      "cell_type": "markdown",
      "metadata": {
        "id": "-F1Hi30pJjpQ"
      },
      "source": [
        "When visiting a theme park, many rides require you to be a certain height before you can ride them.\n",
        "\n",
        "At a specific park there are:\n",
        "* Red Riders: 85-105cm tall. They have access to 9 rides.\n",
        "* Green Riders: 106-131cm tall. They have access to 21 rides.\n",
        "* Yellow Riders: 132cm and taller. They have access to 27 rides.\n",
        "\n",
        "Write a program which asks the user for their height and prints out how many rides they can go on.\n",
        "\n",
        "Write this program in two different ways."
      ]
    },
    {
      "cell_type": "code",
      "metadata": {
        "id": "jzWV_oAuK-KD"
      },
      "source": [
        "# First approach\n"
      ],
      "execution_count": null,
      "outputs": []
    },
    {
      "cell_type": "code",
      "metadata": {
        "id": "L54k0VkmLARF"
      },
      "source": [
        "# Second approach\n"
      ],
      "execution_count": null,
      "outputs": []
    },
    {
      "cell_type": "code",
      "execution_count": null,
      "metadata": {
        "id": "d89Wnt5zc42C"
      },
      "outputs": [],
      "source": []
    }
  ]
}